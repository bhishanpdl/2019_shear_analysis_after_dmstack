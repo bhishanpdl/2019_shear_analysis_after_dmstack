{
 "cells": [
  {
   "cell_type": "markdown",
   "metadata": {
    "toc": "true"
   },
   "source": [
    "# Table of Contents\n",
    " <p><div class=\"lev1 toc-item\"><a href=\"#Introduction\" data-toc-modified-id=\"Introduction-1\"><span class=\"toc-item-num\">1&nbsp;&nbsp;</span>Introduction</a></div><div class=\"lev1 toc-item\"><a href=\"#Imports\" data-toc-modified-id=\"Imports-2\"><span class=\"toc-item-num\">2&nbsp;&nbsp;</span>Imports</a></div><div class=\"lev1 toc-item\"><a href=\"#Read-the-data\" data-toc-modified-id=\"Read-the-data-3\"><span class=\"toc-item-num\">3&nbsp;&nbsp;</span>Read the data</a></div><div class=\"lev1 toc-item\"><a href=\"#Ellipticity-of-m-and-m9\" data-toc-modified-id=\"Ellipticity-of-m-and-m9-4\"><span class=\"toc-item-num\">4&nbsp;&nbsp;</span>Ellipticity of m and m9</a></div><div class=\"lev1 toc-item\"><a href=\"#Script\" data-toc-modified-id=\"Script-5\"><span class=\"toc-item-num\">5&nbsp;&nbsp;</span>Script</a></div><div class=\"lev1 toc-item\"><a href=\"#Combine-all-mono-files\" data-toc-modified-id=\"Combine-all-mono-files-6\"><span class=\"toc-item-num\">6&nbsp;&nbsp;</span>Combine all mono files</a></div><div class=\"lev1 toc-item\"><a href=\"#Ellipticity-of-mono\" data-toc-modified-id=\"Ellipticity-of-mono-7\"><span class=\"toc-item-num\">7&nbsp;&nbsp;</span>Ellipticity of mono</a></div>"
   ]
  },
  {
   "cell_type": "markdown",
   "metadata": {},
   "source": [
    "# Introduction\n",
    "Date: Nov 13, 2019\n",
    "\n",
    "```\n",
    "DMSTACK input:  m.fits m9.fits l.fits l9.fits\n",
    "DMSTACK output: m.csv  m9.csv  l.csv  l9.csv  (90 flags and 67 params)\n",
    "\n",
    "dmstack output has nans and so many columns.\n",
    "First I select few columns, and remove nans from them.\n",
    "I also do some filtering such as filter psf candidates.\n",
    "\n",
    "clean output: m.txt m9.txt l.txt l9.txt\n",
    "combine four txt using IMCAT mergecats: final0.cat\n",
    "\n",
    "I have 100 final.cat files, combine them\n",
    "final_text.txt which has columns like gm[0], gm[1].\n",
    "\n",
    "\n",
    "```\n",
    "\n",
    "Here, I will look at ellipticity distribution in m and m9 files."
   ]
  },
  {
   "cell_type": "markdown",
   "metadata": {},
   "source": [
    "# Imports"
   ]
  },
  {
   "cell_type": "code",
   "execution_count": 1,
   "metadata": {},
   "outputs": [],
   "source": [
    "import json, os,sys\n",
    "import numpy as np\n",
    "import pandas as pd\n",
    "import seaborn as sns\n",
    "sns.set(color_codes=True)\n",
    "\n",
    "pd.set_option('display.max_columns',200)\n",
    "\n",
    "import matplotlib.pyplot as plt\n",
    "%matplotlib inline"
   ]
  },
  {
   "cell_type": "markdown",
   "metadata": {},
   "source": [
    "# Read the data"
   ]
  },
  {
   "cell_type": "code",
   "execution_count": 3,
   "metadata": {},
   "outputs": [
    {
     "data": {
      "text/plain": [
       "'calib_detected'"
      ]
     },
     "execution_count": 3,
     "metadata": {},
     "output_type": "execute_result"
    }
   ],
   "source": [
    "dict_flags = json.load( open('../data/dict_flags.json'))\n",
    "# dict_flags\n",
    "\n",
    "dict_flags['0']"
   ]
  },
  {
   "cell_type": "code",
   "execution_count": 8,
   "metadata": {},
   "outputs": [
    {
     "name": "stdout",
     "output_type": "stream",
     "text": [
      "src_lsst90_z1.5_000.txt\r\n",
      "src_lsst90_z1.5_001.txt\r\n",
      "src_lsst90_z1.5_002.txt\r\n",
      "src_lsst90_z1.5_003.txt\r\n",
      "src_lsst90_z1.5_004.txt\r\n",
      "src_lsst90_z1.5_005.txt\r\n",
      "src_lsst90_z1.5_006.txt\r\n",
      "src_lsst90_z1.5_007.txt\r\n",
      "src_lsst90_z1.5_008.txt\r\n",
      "src_lsst90_z1.5_009.txt\r\n"
     ]
    }
   ],
   "source": [
    "!ls ../data/dmstack_txt | head"
   ]
  },
  {
   "cell_type": "code",
   "execution_count": 22,
   "metadata": {},
   "outputs": [
    {
     "name": "stdout",
     "output_type": "stream",
     "text": [
      "file_number  id  base_SdssCentroid_x  base_SdssCentroid_y  base_SdssCentroid_xSigma  base_SdssCentroid_ySigma  ext_shapeHSM_HsmShapeRegauss_e1  ext_shapeHSM_HsmShapeRegauss_e2  ellip  base_SdssShape_flux  radius"
     ]
    }
   ],
   "source": [
    "%%bash\n",
    "cat ../data/dmstack_txt_headers.txt"
   ]
  },
  {
   "cell_type": "code",
   "execution_count": 33,
   "metadata": {},
   "outputs": [
    {
     "name": "stdout",
     "output_type": "stream",
     "text": [
      "# file_number  id  base_SdssCentroid_x  base_SdssCentroid_y  base_SdssCentroid_xSigma  base_SdssCentroid_ySigma  ext_shapeHSM_HsmShapeRegauss_e1  ext_shapeHSM_HsmShapeRegauss_e2  ellip  base_SdssShape_flux  radius\n",
      "0.000000000000000000e+00\t4.300000000000000000e+01\t2.075329400000000078e+03\t5.073499999999999943e+01\t1.003000000000000003e-01\t9.660000000000000531e-02\t4.208999999999999964e-01\t-6.853000000000000203e-01\t8.042343563912200954e-01\t6.997765999999999622e+03\t5.136519508215429575e+00\n"
     ]
    }
   ],
   "source": [
    "%%bash\n",
    "\n",
    "head -2 ../data/dmstack_txt/src_lsst_mono_z1.5_000.txt"
   ]
  },
  {
   "cell_type": "code",
   "execution_count": 37,
   "metadata": {},
   "outputs": [
    {
     "data": {
      "text/plain": [
       "['file_number',\n",
       " 'id',\n",
       " 'base_SdssCentroid_x',\n",
       " 'base_SdssCentroid_y',\n",
       " 'base_SdssCentroid_xSigma',\n",
       " 'base_SdssCentroid_ySigma',\n",
       " 'ext_shapeHSM_HsmShapeRegauss_e1',\n",
       " 'ext_shapeHSM_HsmShapeRegauss_e2',\n",
       " 'ellip',\n",
       " 'base_SdssShape_flux',\n",
       " 'radius']"
      ]
     },
     "execution_count": 37,
     "metadata": {},
     "output_type": "execute_result"
    }
   ],
   "source": [
    "'file_number  id  base_SdssCentroid_x  base_SdssCentroid_y  base_SdssCentroid_xSigma  base_SdssCentroid_ySigma  ext_shapeHSM_HsmShapeRegauss_e1  ext_shapeHSM_HsmShapeRegauss_e2  ellip  base_SdssShape_flux  radius'.split()"
   ]
  },
  {
   "cell_type": "code",
   "execution_count": 24,
   "metadata": {},
   "outputs": [],
   "source": [
    "names = ['file_number', 'id', 'base_SdssCentroid_x', 'base_SdssCentroid_y',\n",
    "         'base_SdssCentroid_xSigma', 'base_SdssCentroid_ySigma',\n",
    "         'ext_shapeHSM_HsmShapeRegauss_e1', 'ext_shapeHSM_HsmShapeRegauss_e2',\n",
    "         'ellip', 'base_SdssShape_flux', 'radius']"
   ]
  },
  {
   "cell_type": "code",
   "execution_count": 35,
   "metadata": {},
   "outputs": [
    {
     "data": {
      "text/html": [
       "<div>\n",
       "<style scoped>\n",
       "    .dataframe tbody tr th:only-of-type {\n",
       "        vertical-align: middle;\n",
       "    }\n",
       "\n",
       "    .dataframe tbody tr th {\n",
       "        vertical-align: top;\n",
       "    }\n",
       "\n",
       "    .dataframe thead th {\n",
       "        text-align: right;\n",
       "    }\n",
       "</style>\n",
       "<table border=\"1\" class=\"dataframe\">\n",
       "  <thead>\n",
       "    <tr style=\"text-align: right;\">\n",
       "      <th></th>\n",
       "      <th>file_number</th>\n",
       "      <th>id</th>\n",
       "      <th>base_SdssCentroid_x</th>\n",
       "      <th>base_SdssCentroid_y</th>\n",
       "      <th>base_SdssCentroid_xSigma</th>\n",
       "      <th>base_SdssCentroid_ySigma</th>\n",
       "      <th>ext_shapeHSM_HsmShapeRegauss_e1</th>\n",
       "      <th>ext_shapeHSM_HsmShapeRegauss_e2</th>\n",
       "      <th>ellip</th>\n",
       "      <th>base_SdssShape_flux</th>\n",
       "      <th>radius</th>\n",
       "    </tr>\n",
       "  </thead>\n",
       "  <tbody>\n",
       "    <tr>\n",
       "      <th>0</th>\n",
       "      <td>0.0</td>\n",
       "      <td>43.0</td>\n",
       "      <td>2075.3294</td>\n",
       "      <td>50.7350</td>\n",
       "      <td>0.1003</td>\n",
       "      <td>0.0966</td>\n",
       "      <td>0.4209</td>\n",
       "      <td>-0.6853</td>\n",
       "      <td>0.804234</td>\n",
       "      <td>6997.7660</td>\n",
       "      <td>5.136520</td>\n",
       "    </tr>\n",
       "    <tr>\n",
       "      <th>1</th>\n",
       "      <td>0.0</td>\n",
       "      <td>50.0</td>\n",
       "      <td>2915.3262</td>\n",
       "      <td>60.5586</td>\n",
       "      <td>0.0654</td>\n",
       "      <td>0.1069</td>\n",
       "      <td>-1.0058</td>\n",
       "      <td>0.1430</td>\n",
       "      <td>1.015915</td>\n",
       "      <td>10343.2779</td>\n",
       "      <td>4.488783</td>\n",
       "    </tr>\n",
       "  </tbody>\n",
       "</table>\n",
       "</div>"
      ],
      "text/plain": [
       "   file_number    id  base_SdssCentroid_x  base_SdssCentroid_y  \\\n",
       "0          0.0  43.0            2075.3294              50.7350   \n",
       "1          0.0  50.0            2915.3262              60.5586   \n",
       "\n",
       "   base_SdssCentroid_xSigma  base_SdssCentroid_ySigma  \\\n",
       "0                    0.1003                    0.0966   \n",
       "1                    0.0654                    0.1069   \n",
       "\n",
       "   ext_shapeHSM_HsmShapeRegauss_e1  ext_shapeHSM_HsmShapeRegauss_e2     ellip  \\\n",
       "0                           0.4209                          -0.6853  0.804234   \n",
       "1                          -1.0058                           0.1430  1.015915   \n",
       "\n",
       "   base_SdssShape_flux    radius  \n",
       "0            6997.7660  5.136520  \n",
       "1           10343.2779  4.488783  "
      ]
     },
     "execution_count": 35,
     "metadata": {},
     "output_type": "execute_result"
    }
   ],
   "source": [
    "dfm = pd.read_csv('../data/dmstack_txt/src_lsst_mono_z1.5_000.txt',\n",
    "                  sep=r'\\t',names=names,header=None,skiprows=1,engine='python')\n",
    "\n",
    "dfm.head(2)"
   ]
  },
  {
   "cell_type": "code",
   "execution_count": 36,
   "metadata": {},
   "outputs": [
    {
     "data": {
      "text/html": [
       "<div>\n",
       "<style scoped>\n",
       "    .dataframe tbody tr th:only-of-type {\n",
       "        vertical-align: middle;\n",
       "    }\n",
       "\n",
       "    .dataframe tbody tr th {\n",
       "        vertical-align: top;\n",
       "    }\n",
       "\n",
       "    .dataframe thead th {\n",
       "        text-align: right;\n",
       "    }\n",
       "</style>\n",
       "<table border=\"1\" class=\"dataframe\">\n",
       "  <thead>\n",
       "    <tr style=\"text-align: right;\">\n",
       "      <th></th>\n",
       "      <th>file_number</th>\n",
       "      <th>id</th>\n",
       "      <th>base_SdssCentroid_x</th>\n",
       "      <th>base_SdssCentroid_y</th>\n",
       "      <th>base_SdssCentroid_xSigma</th>\n",
       "      <th>base_SdssCentroid_ySigma</th>\n",
       "      <th>ext_shapeHSM_HsmShapeRegauss_e1</th>\n",
       "      <th>ext_shapeHSM_HsmShapeRegauss_e2</th>\n",
       "      <th>ellip</th>\n",
       "      <th>base_SdssShape_flux</th>\n",
       "      <th>radius</th>\n",
       "    </tr>\n",
       "  </thead>\n",
       "  <tbody>\n",
       "    <tr>\n",
       "      <th>0</th>\n",
       "      <td>0.0</td>\n",
       "      <td>43.0</td>\n",
       "      <td>2076.9302</td>\n",
       "      <td>49.6888</td>\n",
       "      <td>0.2540</td>\n",
       "      <td>0.2226</td>\n",
       "      <td>0.4840</td>\n",
       "      <td>-0.7114</td>\n",
       "      <td>0.860434</td>\n",
       "      <td>7295.1804</td>\n",
       "      <td>4.981713</td>\n",
       "    </tr>\n",
       "    <tr>\n",
       "      <th>1</th>\n",
       "      <td>0.0</td>\n",
       "      <td>44.0</td>\n",
       "      <td>468.7871</td>\n",
       "      <td>52.8991</td>\n",
       "      <td>0.0582</td>\n",
       "      <td>0.0641</td>\n",
       "      <td>-0.2109</td>\n",
       "      <td>-1.4296</td>\n",
       "      <td>1.445073</td>\n",
       "      <td>6207.0956</td>\n",
       "      <td>3.548051</td>\n",
       "    </tr>\n",
       "  </tbody>\n",
       "</table>\n",
       "</div>"
      ],
      "text/plain": [
       "   file_number    id  base_SdssCentroid_x  base_SdssCentroid_y  \\\n",
       "0          0.0  43.0            2076.9302              49.6888   \n",
       "1          0.0  44.0             468.7871              52.8991   \n",
       "\n",
       "   base_SdssCentroid_xSigma  base_SdssCentroid_ySigma  \\\n",
       "0                    0.2540                    0.2226   \n",
       "1                    0.0582                    0.0641   \n",
       "\n",
       "   ext_shapeHSM_HsmShapeRegauss_e1  ext_shapeHSM_HsmShapeRegauss_e2     ellip  \\\n",
       "0                           0.4840                          -0.7114  0.860434   \n",
       "1                          -0.2109                          -1.4296  1.445073   \n",
       "\n",
       "   base_SdssShape_flux    radius  \n",
       "0            7295.1804  4.981713  \n",
       "1            6207.0956  3.548051  "
      ]
     },
     "execution_count": 36,
     "metadata": {},
     "output_type": "execute_result"
    }
   ],
   "source": [
    "dfm9 = pd.read_csv('../data/dmstack_txt/src_lsst_mono90_z1.5_000.txt',\n",
    "                  sep=r'\\t',names=names,header=None,skiprows=1,engine='python')\n",
    "\n",
    "dfm9.head(2)"
   ]
  },
  {
   "cell_type": "markdown",
   "metadata": {},
   "source": [
    "# Ellipticity of m and m9"
   ]
  },
  {
   "cell_type": "code",
   "execution_count": 64,
   "metadata": {},
   "outputs": [
    {
     "data": {
      "text/plain": [
       "<matplotlib.legend.Legend at 0x11e8abda0>"
      ]
     },
     "execution_count": 64,
     "metadata": {},
     "output_type": "execute_result"
    },
    {
     "data": {
      "image/png": "[encoded data removed]",
      "text/plain": [
       "<Figure size 432x288 with 1 Axes>"
      ]
     },
     "metadata": {
      "needs_background": "light"
     },
     "output_type": "display_data"
    }
   ],
   "source": [
    "sns.distplot(dfm['ellip'],label='m')\n",
    "sns.distplot(dfm9['ellip'], label='m9')\n",
    "\n",
    "plt.legend()"
   ]
  },
  {
   "cell_type": "markdown",
   "metadata": {},
   "source": [
    "# Script"
   ]
  },
  {
   "cell_type": "code",
   "execution_count": 77,
   "metadata": {},
   "outputs": [],
   "source": [
    "import json, os,sys\n",
    "import numpy as np\n",
    "import pandas as pd\n",
    "import seaborn as sns\n",
    "sns.set(color_codes=True)\n",
    "plt.style.use('ggplot')\n",
    "\n",
    "import matplotlib.pyplot as plt\n",
    "\n",
    "names = ['file_number', 'id', 'base_SdssCentroid_x', 'base_SdssCentroid_y',\n",
    "         'base_SdssCentroid_xSigma', 'base_SdssCentroid_ySigma',\n",
    "         'ext_shapeHSM_HsmShapeRegauss_e1', 'ext_shapeHSM_HsmShapeRegauss_e2',\n",
    "         'ellip', 'base_SdssShape_flux', 'radius']\n",
    "\n",
    "def plot_ellip_hist(num):\n",
    "    dfm = pd.read_csv('../data/dmstack_txt/src_lsst_mono_z1.5_{:03d}.txt'.format(num),\n",
    "                      sep=r'\\t',names=names,header=None,skiprows=1,engine='python')\n",
    "\n",
    "\n",
    "    dfm9 = pd.read_csv('../data/dmstack_txt/src_lsst_mono90_z1.5_{:03d}.txt'.format(num),\n",
    "                      sep=r'\\t',names=names,header=None,skiprows=1,engine='python')\n",
    "\n",
    "    plt.figure(figsize=(12,8))\n",
    "    sns.distplot(dfm['ellip'],label='m')\n",
    "    sns.distplot(dfm9['ellip'], label='m9')\n",
    "    plt.legend()\n",
    "    \n",
    "    title = 'lsst_mono and lsst_mono90: {:03d}'.format(num)\n",
    "    plt.title(title)\n",
    "\n",
    "    plt.savefig('results/file_{}.png'.format(num))\n",
    "    plt.close()\n",
    "    \n",
    "\n",
    "for num in range(99):\n",
    "    plot_ellip_hist(num)"
   ]
  },
  {
   "cell_type": "markdown",
   "metadata": {},
   "source": [
    "# Combine all mono files"
   ]
  },
  {
   "cell_type": "code",
   "execution_count": 82,
   "metadata": {},
   "outputs": [],
   "source": [
    "# df_mono90 = pd.DataFrame(columns=names)\n",
    "\n",
    "\n",
    "# for num in range(99):\n",
    "#     dx = pd.read_csv('../data/dmstack_txt/src_lsst_mono90_z1.5_{:03d}.txt'.format(num),\n",
    "#                   sep=r'\\t',names=names,header=None,skiprows=1,engine='python')\n",
    "    \n",
    "#     df_mono90 = df_mono90.append(dx)\n",
    "\n",
    "# df_mono90.to_csv('../data/dmstack_txt_mono90_all.csv')"
   ]
  },
  {
   "cell_type": "markdown",
   "metadata": {},
   "source": [
    "# Ellipticity of mono"
   ]
  },
  {
   "cell_type": "code",
   "execution_count": 86,
   "metadata": {},
   "outputs": [],
   "source": [
    "df_mono = pd.read_csv('../data/dmstack_txt_mono_all.csv')"
   ]
  },
  {
   "cell_type": "code",
   "execution_count": 87,
   "metadata": {},
   "outputs": [],
   "source": [
    "plt.figure(figsize=(12,8))\n",
    "sns.distplot(df_mono['ellip'],label='mono')\n",
    "\n",
    "plt.legend()\n",
    "\n",
    "title = 'lsst_mono ellpiticity'\n",
    "plt.title(title)\n",
    "\n",
    "plt.savefig('results/ellip_m\n",
    "plt.close()"
   ]
  },
  {
   "cell_type": "code",
   "execution_count": null,
   "metadata": {},
   "outputs": [],
   "source": []
  }
 ],
 "metadata": {
  "kernelspec": {
   "display_name": "Python 3",
   "language": "python",
   "name": "python3"
  },
  "language_info": {
   "codemirror_mode": {
    "name": "ipython",
    "version": 3
   },
   "file_extension": ".py",
   "mimetype": "text/x-python",
   "name": "python",
   "nbconvert_exporter": "python",
   "pygments_lexer": "ipython3",
   "version": "3.6.0"
  },
  "toc": {
   "colors": {
    "hover_highlight": "#DAA520",
    "navigate_num": "#000000",
    "navigate_text": "#333333",
    "running_highlight": "#FF0000",
    "selected_highlight": "#FFD700",
    "sidebar_border": "#EEEEEE",
    "wrapper_background": "#FFFFFF"
   },
   "moveMenuLeft": true,
   "nav_menu": {
    "height": "45px",
    "width": "252px"
   },
   "navigate_menu": true,
   "number_sections": true,
   "sideBar": true,
   "threshold": 4,
   "toc_cell": true,
   "toc_section_display": "block",
   "toc_window_display": true,
   "widenNotebook": false
  }
 },
 "nbformat": 4,
 "nbformat_minor": 2
}
