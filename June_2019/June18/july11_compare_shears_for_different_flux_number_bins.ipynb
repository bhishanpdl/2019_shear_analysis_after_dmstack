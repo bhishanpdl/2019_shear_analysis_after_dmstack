{
 "cells": [
  {
   "cell_type": "markdown",
   "metadata": {
    "deletable": true,
    "editable": true,
    "toc": "true"
   },
   "source": [
    "# Table of Contents\n",
    " <p><div class=\"lev1 toc-item\"><a href=\"#Introduction\" data-toc-modified-id=\"Introduction-1\"><span class=\"toc-item-num\">1&nbsp;&nbsp;</span>Introduction</a></div><div class=\"lev1 toc-item\"><a href=\"#Read-imcat-output-final.cat\" data-toc-modified-id=\"Read-imcat-output-final.cat-2\"><span class=\"toc-item-num\">2&nbsp;&nbsp;</span>Read imcat output final.cat</a></div><div class=\"lev1 toc-item\"><a href=\"#Create-new-columns\" data-toc-modified-id=\"Create-new-columns-3\"><span class=\"toc-item-num\">3&nbsp;&nbsp;</span>Create new columns</a></div><div class=\"lev1 toc-item\"><a href=\"#Bucketing-equal-number-of-objects-in-bins-after-sorting-flux\" data-toc-modified-id=\"Bucketing-equal-number-of-objects-in-bins-after-sorting-flux-4\"><span class=\"toc-item-num\">4&nbsp;&nbsp;</span>Bucketing equal number of objects in bins after sorting flux</a></div><div class=\"lev1 toc-item\"><a href=\"#Plot-Fluxes-in-each-bins-(x-axis=-flux/1000)\" data-toc-modified-id=\"Plot-Fluxes-in-each-bins-(x-axis=-flux/1000)-5\"><span class=\"toc-item-num\">5&nbsp;&nbsp;</span>Plot Fluxes in each bins (x-axis= flux/1000)</a></div><div class=\"lev1 toc-item\"><a href=\"#Look-at-objects-with-gm_sq-0.7-and-1.0\" data-toc-modified-id=\"Look-at-objects-with-gm_sq-0.7-and-1.0-6\"><span class=\"toc-item-num\">6&nbsp;&nbsp;</span>Look at objects with gm_sq 0.7 and 1.0</a></div><div class=\"lev1 toc-item\"><a href=\"#Look-at-the-bucket25-with-dense-population-at-gmSquared-0.7-to-1.0\" data-toc-modified-id=\"Look-at-the-bucket25-with-dense-population-at-gmSquared-0.7-to-1.0-7\"><span class=\"toc-item-num\">7&nbsp;&nbsp;</span>Look at the bucket25 with dense population at gmSquared 0.7 to 1.0</a></div><div class=\"lev1 toc-item\"><a href=\"#Fitting-cubic-function-after-bucketing\" data-toc-modified-id=\"Fitting-cubic-function-after-bucketing-8\"><span class=\"toc-item-num\">8&nbsp;&nbsp;</span>Fitting cubic function after bucketing</a></div><div class=\"lev1 toc-item\"><a href=\"#gm_sq_mean-vs-flux_mean-in-each-buckets\" data-toc-modified-id=\"gm_sq_mean-vs-flux_mean-in-each-buckets-9\"><span class=\"toc-item-num\">9&nbsp;&nbsp;</span>gm_sq_mean vs flux_mean in each buckets</a></div><div class=\"lev1 toc-item\"><a href=\"#Attempt:-Fit-log-normal-distribution\" data-toc-modified-id=\"Attempt:-Fit-log-normal-distribution-10\"><span class=\"toc-item-num\">10&nbsp;&nbsp;</span>Attempt: Fit log-normal distribution</a></div><div class=\"lev1 toc-item\"><a href=\"#Attempt:-Fit-two-functions\" data-toc-modified-id=\"Attempt:-Fit-two-functions-11\"><span class=\"toc-item-num\">11&nbsp;&nbsp;</span>Attempt: Fit two functions</a></div><div class=\"lev2 toc-item\"><a href=\"#Left-part\" data-toc-modified-id=\"Left-part-111\"><span class=\"toc-item-num\">11.1&nbsp;&nbsp;</span>Left part</a></div><div class=\"lev2 toc-item\"><a href=\"#Right-part\" data-toc-modified-id=\"Right-part-112\"><span class=\"toc-item-num\">11.2&nbsp;&nbsp;</span>Right part</a></div>"
   ]
  },
  {
   "cell_type": "markdown",
   "metadata": {
    "deletable": true,
    "editable": true
   },
   "source": [
    "# Introduction\n",
    "\n",
    "Date: June 25, 2019 Tue\n",
    "\n",
    "1. In jedisim we used ngals = 10k, z = 1.5 and did 100 simulations. jedisim gives l,l9,m,m9 for each 100 simulations.\n",
    "2. In dmstack we create l.csv from l.fits and so on for 100*4 files, this file has 90 flags and 76 parameters.\n",
    "3. After dmstack we clean and filter l.csv to get l.txt which have no nans, e <= 1.5,\n",
    "   not psf candidate and have no child.\n",
    "   This file has only few columns: id, x-y, errx-erry, e1-e2, sdssFlux.\n",
    "4. We use these four l.txt, l9.txt, m.txt, m9.txt file in IMCAT and get final0.cat and combine 100 finalxx.cat to get \n",
    "   final.cat.\n",
    "5. This lc catalog file final.cat has more columns than original 8 columns.\n",
    "   ```\n",
    "   id    00 10 20 30\n",
    "   flux  00 10 20 30\n",
    "\n",
    "   x  0 1\n",
    "   gm 0 1\n",
    "   gc 0 1\n",
    "   \n",
    "   errx 00 01 10 11 20 21 30 31\n",
    "   g    00 01 10 11 20 21 30 31 # there is no erry here in imcat output\n",
    "   \n",
    "   So, in total there are\n",
    "   2 * 4 + 3 * 2 + 2 * 8 = 8 + 6 + 16 = 30 columns in final.cat file.\n",
    "   ```\n",
    "   \n",
    "   \n",
    "**Purpose**  \n",
    "- We want to test whether the e^2 is equally distributed in different flux bins of final.cat.  \n",
    "- We will put equal number of objects in bins.  \n",
    "- We will divide flux in multiple bins and find mean(e^2) and mean(flux) for each bins and try to get a fitting function.\n",
    "\n",
    "\n",
    "Referecnes: https://github.com/JWarmenhoven/ISLR-python/blob/master/Notebooks/Chapter%207.ipynb\n",
    "   "
   ]
  },
  {
   "cell_type": "markdown",
   "metadata": {
    "deletable": true,
    "editable": true
   },
   "source": [
    "# Read imcat output final.cat"
   ]
  },
  {
   "cell_type": "code",
   "execution_count": 96,
   "metadata": {
    "collapsed": false,
    "deletable": true,
    "editable": true
   },
   "outputs": [],
   "source": [
    "# !head -2 final_text.txt"
   ]
  },
  {
   "cell_type": "code",
   "execution_count": 2,
   "metadata": {
    "collapsed": false,
    "deletable": true,
    "editable": true
   },
   "outputs": [
    {
     "name": "stdout",
     "output_type": "stream",
     "text": [
      "  183837 final_text.txt\r\n"
     ]
    }
   ],
   "source": [
    "# find number of lines\n",
    "!wc -l final_text.txt"
   ]
  },
  {
   "cell_type": "code",
   "execution_count": 97,
   "metadata": {
    "collapsed": false,
    "deletable": true,
    "editable": true
   },
   "outputs": [],
   "source": [
    "# !tail -2 final_text.txt"
   ]
  },
  {
   "cell_type": "code",
   "execution_count": 4,
   "metadata": {
    "collapsed": true,
    "deletable": true,
    "editable": true
   },
   "outputs": [],
   "source": [
    "# Now we will read file using pandas"
   ]
  },
  {
   "cell_type": "code",
   "execution_count": 88,
   "metadata": {
    "collapsed": false,
    "deletable": true,
    "editable": true
   },
   "outputs": [],
   "source": [
    "import numpy as np\n",
    "import pandas as pd\n",
    "import seaborn as sns\n",
    "sns.set(color_codes=True)\n",
    "\n",
    "import matplotlib.pyplot as plt\n",
    "plt.rcParams[\"figure.figsize\"] = [10, 8]\n",
    "plt.style.use('fivethirtyeight')\n",
    "%matplotlib inline\n",
    "%config InlineBackend.figure_format = 'retina'\n",
    "\n",
    "import scipy\n",
    "import scipy.stats as stats\n",
    "\n",
    "# Jupyter notebook settings for pandas\n",
    "pd.set_option('display.max_columns', None)\n",
    "pd.set_option('display.max_rows', 100) # None for all the rows\n",
    "pd.set_option('display.max_colwidth', 500)\n",
    "\n",
    "# %load_ext version_information\n",
    "# %version_information numpy,  scipy, pandas, sklearn, matplotlib, seaborn"
   ]
  },
  {
   "cell_type": "code",
   "execution_count": 43,
   "metadata": {
    "collapsed": false,
    "deletable": true,
    "editable": true
   },
   "outputs": [
    {
     "data": {
      "application/javascript": [
       "IPython.OutputArea.auto_scroll_threshold = 9999;\n"
      ],
      "text/plain": [
       "<IPython.core.display.Javascript object>"
      ]
     },
     "metadata": {},
     "output_type": "display_data"
    }
   ],
   "source": [
    "%%javascript\n",
    "IPython.OutputArea.auto_scroll_threshold = 9999;"
   ]
  },
  {
   "cell_type": "code",
   "execution_count": 44,
   "metadata": {
    "collapsed": false,
    "deletable": true,
    "editable": true
   },
   "outputs": [
    {
     "data": {
      "text/plain": [
       "Index(['fN[0][0]', 'fN[1][0]', 'fN[2][0]', 'fN[3][0]', 'id[0][0]', 'id[1][0]',\n",
       "       'id[2][0]', 'id[3][0]', 'x[0]', 'x[1]', 'errx[0][0]', 'errx[0][1]',\n",
       "       'errx[1][0]', 'errx[1][1]', 'errx[2][0]', 'errx[2][1]', 'errx[3][0]',\n",
       "       'errx[3][1]', 'g[0][0]', 'g[0][1]', 'g[1][0]', 'g[1][1]', 'g[2][0]',\n",
       "       'g[2][1]', 'g[3][0]', 'g[3][1]', 'flux[0][0]', 'flux[1][0]',\n",
       "       'flux[2][0]', 'flux[3][0]', 'gm[0]', 'gm[1]', 'gc[0]', 'gc[1]'],\n",
       "      dtype='object')"
      ]
     },
     "execution_count": 44,
     "metadata": {},
     "output_type": "execute_result"
    }
   ],
   "source": [
    "# columns names\n",
    "infile = 'final_text.txt'\n",
    "headers = pd.read_csv(infile,sep=r'\\s+',nrows=1).columns\n",
    "\n",
    "headers = headers[1:] # remove first # column\n",
    "headers"
   ]
  },
  {
   "cell_type": "code",
   "execution_count": 45,
   "metadata": {
    "collapsed": false,
    "deletable": true,
    "editable": true
   },
   "outputs": [
    {
     "name": "stdout",
     "output_type": "stream",
     "text": [
      "(183836, 34)\n"
     ]
    },
    {
     "data": {
      "text/html": [
       "<div>\n",
       "<style>\n",
       "    .dataframe thead tr:only-child th {\n",
       "        text-align: right;\n",
       "    }\n",
       "\n",
       "    .dataframe thead th {\n",
       "        text-align: left;\n",
       "    }\n",
       "\n",
       "    .dataframe tbody tr th {\n",
       "        vertical-align: top;\n",
       "    }\n",
       "</style>\n",
       "<table border=\"1\" class=\"dataframe\">\n",
       "  <thead>\n",
       "    <tr style=\"text-align: right;\">\n",
       "      <th></th>\n",
       "      <th>fN[0][0]</th>\n",
       "      <th>fN[1][0]</th>\n",
       "      <th>fN[2][0]</th>\n",
       "      <th>fN[3][0]</th>\n",
       "      <th>id[0][0]</th>\n",
       "      <th>id[1][0]</th>\n",
       "      <th>id[2][0]</th>\n",
       "      <th>id[3][0]</th>\n",
       "      <th>x[0]</th>\n",
       "      <th>x[1]</th>\n",
       "      <th>errx[0][0]</th>\n",
       "      <th>errx[0][1]</th>\n",
       "      <th>errx[1][0]</th>\n",
       "      <th>errx[1][1]</th>\n",
       "      <th>errx[2][0]</th>\n",
       "      <th>errx[2][1]</th>\n",
       "      <th>errx[3][0]</th>\n",
       "      <th>errx[3][1]</th>\n",
       "      <th>g[0][0]</th>\n",
       "      <th>g[0][1]</th>\n",
       "      <th>g[1][0]</th>\n",
       "      <th>g[1][1]</th>\n",
       "      <th>g[2][0]</th>\n",
       "      <th>g[2][1]</th>\n",
       "      <th>g[3][0]</th>\n",
       "      <th>g[3][1]</th>\n",
       "      <th>flux[0][0]</th>\n",
       "      <th>flux[1][0]</th>\n",
       "      <th>flux[2][0]</th>\n",
       "      <th>flux[3][0]</th>\n",
       "      <th>gm[0]</th>\n",
       "      <th>gm[1]</th>\n",
       "      <th>gc[0]</th>\n",
       "      <th>gc[1]</th>\n",
       "    </tr>\n",
       "  </thead>\n",
       "  <tbody>\n",
       "    <tr>\n",
       "      <th>0</th>\n",
       "      <td>0</td>\n",
       "      <td>0</td>\n",
       "      <td>0</td>\n",
       "      <td>0</td>\n",
       "      <td>5678</td>\n",
       "      <td>5735</td>\n",
       "      <td>5568</td>\n",
       "      <td>5678</td>\n",
       "      <td>1969.21590</td>\n",
       "      <td>2159.75690</td>\n",
       "      <td>0.1046</td>\n",
       "      <td>0.0759</td>\n",
       "      <td>0.1063</td>\n",
       "      <td>0.0745</td>\n",
       "      <td>0.1055</td>\n",
       "      <td>0.0759</td>\n",
       "      <td>0.1070</td>\n",
       "      <td>0.0746</td>\n",
       "      <td>1.0830</td>\n",
       "      <td>-0.2341</td>\n",
       "      <td>1.1499</td>\n",
       "      <td>-0.4244</td>\n",
       "      <td>1.1705</td>\n",
       "      <td>-0.2617</td>\n",
       "      <td>1.2105</td>\n",
       "      <td>-0.4458</td>\n",
       "      <td>8119.9753</td>\n",
       "      <td>8214.5911</td>\n",
       "      <td>8109.6423</td>\n",
       "      <td>8206.3494</td>\n",
       "      <td>1.11645</td>\n",
       "      <td>-0.32925</td>\n",
       "      <td>1.19050</td>\n",
       "      <td>-0.35375</td>\n",
       "    </tr>\n",
       "    <tr>\n",
       "      <th>1</th>\n",
       "      <td>0</td>\n",
       "      <td>0</td>\n",
       "      <td>0</td>\n",
       "      <td>0</td>\n",
       "      <td>3181</td>\n",
       "      <td>3193</td>\n",
       "      <td>3164</td>\n",
       "      <td>3179</td>\n",
       "      <td>2222.70820</td>\n",
       "      <td>480.46175</td>\n",
       "      <td>0.0084</td>\n",
       "      <td>0.0080</td>\n",
       "      <td>0.0078</td>\n",
       "      <td>0.0086</td>\n",
       "      <td>0.0083</td>\n",
       "      <td>0.0080</td>\n",
       "      <td>0.0078</td>\n",
       "      <td>0.0086</td>\n",
       "      <td>0.4174</td>\n",
       "      <td>0.6428</td>\n",
       "      <td>-0.2249</td>\n",
       "      <td>-0.5265</td>\n",
       "      <td>0.4378</td>\n",
       "      <td>0.6521</td>\n",
       "      <td>-0.2665</td>\n",
       "      <td>-0.5215</td>\n",
       "      <td>53940.3420</td>\n",
       "      <td>53844.2740</td>\n",
       "      <td>53930.3800</td>\n",
       "      <td>53825.1630</td>\n",
       "      <td>0.09625</td>\n",
       "      <td>0.05815</td>\n",
       "      <td>0.08565</td>\n",
       "      <td>0.06530</td>\n",
       "    </tr>\n",
       "    <tr>\n",
       "      <th>183834</th>\n",
       "      <td>99</td>\n",
       "      <td>99</td>\n",
       "      <td>99</td>\n",
       "      <td>99</td>\n",
       "      <td>7429</td>\n",
       "      <td>7423</td>\n",
       "      <td>7347</td>\n",
       "      <td>7327</td>\n",
       "      <td>628.17332</td>\n",
       "      <td>3170.70070</td>\n",
       "      <td>0.0252</td>\n",
       "      <td>0.0236</td>\n",
       "      <td>0.0136</td>\n",
       "      <td>0.0172</td>\n",
       "      <td>0.0174</td>\n",
       "      <td>0.0145</td>\n",
       "      <td>0.0137</td>\n",
       "      <td>0.0173</td>\n",
       "      <td>0.4518</td>\n",
       "      <td>-0.5612</td>\n",
       "      <td>-0.4099</td>\n",
       "      <td>0.6419</td>\n",
       "      <td>0.4638</td>\n",
       "      <td>-0.5750</td>\n",
       "      <td>-0.4214</td>\n",
       "      <td>0.6486</td>\n",
       "      <td>65430.3410</td>\n",
       "      <td>65042.7170</td>\n",
       "      <td>65522.9630</td>\n",
       "      <td>65130.2340</td>\n",
       "      <td>0.02095</td>\n",
       "      <td>0.04035</td>\n",
       "      <td>0.02120</td>\n",
       "      <td>0.03680</td>\n",
       "    </tr>\n",
       "    <tr>\n",
       "      <th>183835</th>\n",
       "      <td>99</td>\n",
       "      <td>99</td>\n",
       "      <td>99</td>\n",
       "      <td>99</td>\n",
       "      <td>3565</td>\n",
       "      <td>487</td>\n",
       "      <td>3546</td>\n",
       "      <td>486</td>\n",
       "      <td>1012.99140</td>\n",
       "      <td>668.48905</td>\n",
       "      <td>0.1321</td>\n",
       "      <td>0.1634</td>\n",
       "      <td>0.2443</td>\n",
       "      <td>0.2245</td>\n",
       "      <td>0.1336</td>\n",
       "      <td>0.1664</td>\n",
       "      <td>0.1650</td>\n",
       "      <td>0.1341</td>\n",
       "      <td>0.0185</td>\n",
       "      <td>0.7450</td>\n",
       "      <td>0.3311</td>\n",
       "      <td>0.3349</td>\n",
       "      <td>0.0605</td>\n",
       "      <td>0.7665</td>\n",
       "      <td>0.3397</td>\n",
       "      <td>0.3455</td>\n",
       "      <td>7363.0329</td>\n",
       "      <td>8192.7381</td>\n",
       "      <td>7288.0971</td>\n",
       "      <td>7581.0610</td>\n",
       "      <td>0.17480</td>\n",
       "      <td>0.53995</td>\n",
       "      <td>0.20010</td>\n",
       "      <td>0.55600</td>\n",
       "    </tr>\n",
       "  </tbody>\n",
       "</table>\n",
       "</div>"
      ],
      "text/plain": [
       "        fN[0][0]  fN[1][0]  fN[2][0]  fN[3][0]  id[0][0]  id[1][0]  id[2][0]  \\\n",
       "0              0         0         0         0      5678      5735      5568   \n",
       "1              0         0         0         0      3181      3193      3164   \n",
       "183834        99        99        99        99      7429      7423      7347   \n",
       "183835        99        99        99        99      3565       487      3546   \n",
       "\n",
       "        id[3][0]        x[0]        x[1]  errx[0][0]  errx[0][1]  errx[1][0]  \\\n",
       "0           5678  1969.21590  2159.75690      0.1046      0.0759      0.1063   \n",
       "1           3179  2222.70820   480.46175      0.0084      0.0080      0.0078   \n",
       "183834      7327   628.17332  3170.70070      0.0252      0.0236      0.0136   \n",
       "183835       486  1012.99140   668.48905      0.1321      0.1634      0.2443   \n",
       "\n",
       "        errx[1][1]  errx[2][0]  errx[2][1]  errx[3][0]  errx[3][1]  g[0][0]  \\\n",
       "0           0.0745      0.1055      0.0759      0.1070      0.0746   1.0830   \n",
       "1           0.0086      0.0083      0.0080      0.0078      0.0086   0.4174   \n",
       "183834      0.0172      0.0174      0.0145      0.0137      0.0173   0.4518   \n",
       "183835      0.2245      0.1336      0.1664      0.1650      0.1341   0.0185   \n",
       "\n",
       "        g[0][1]  g[1][0]  g[1][1]  g[2][0]  g[2][1]  g[3][0]  g[3][1]  \\\n",
       "0       -0.2341   1.1499  -0.4244   1.1705  -0.2617   1.2105  -0.4458   \n",
       "1        0.6428  -0.2249  -0.5265   0.4378   0.6521  -0.2665  -0.5215   \n",
       "183834  -0.5612  -0.4099   0.6419   0.4638  -0.5750  -0.4214   0.6486   \n",
       "183835   0.7450   0.3311   0.3349   0.0605   0.7665   0.3397   0.3455   \n",
       "\n",
       "        flux[0][0]  flux[1][0]  flux[2][0]  flux[3][0]    gm[0]    gm[1]  \\\n",
       "0        8119.9753   8214.5911   8109.6423   8206.3494  1.11645 -0.32925   \n",
       "1       53940.3420  53844.2740  53930.3800  53825.1630  0.09625  0.05815   \n",
       "183834  65430.3410  65042.7170  65522.9630  65130.2340  0.02095  0.04035   \n",
       "183835   7363.0329   8192.7381   7288.0971   7581.0610  0.17480  0.53995   \n",
       "\n",
       "          gc[0]    gc[1]  \n",
       "0       1.19050 -0.35375  \n",
       "1       0.08565  0.06530  \n",
       "183834  0.02120  0.03680  \n",
       "183835  0.20010  0.55600  "
      ]
     },
     "execution_count": 45,
     "metadata": {},
     "output_type": "execute_result"
    }
   ],
   "source": [
    "df = pd.read_csv(infile,sep=r'\\s+',comment='#',header=None)\n",
    "df.columns = headers\n",
    "print(df.shape)\n",
    "df.head(2).append(df.tail(2))"
   ]
  },
  {
   "cell_type": "markdown",
   "metadata": {
    "deletable": true,
    "editable": true
   },
   "source": [
    "# Create new columns"
   ]
  },
  {
   "cell_type": "code",
   "execution_count": 46,
   "metadata": {
    "collapsed": false,
    "deletable": true,
    "editable": true
   },
   "outputs": [
    {
     "data": {
      "text/html": [
       "<div>\n",
       "<style>\n",
       "    .dataframe thead tr:only-child th {\n",
       "        text-align: right;\n",
       "    }\n",
       "\n",
       "    .dataframe thead th {\n",
       "        text-align: left;\n",
       "    }\n",
       "\n",
       "    .dataframe tbody tr th {\n",
       "        vertical-align: top;\n",
       "    }\n",
       "</style>\n",
       "<table border=\"1\" class=\"dataframe\">\n",
       "  <thead>\n",
       "    <tr style=\"text-align: right;\">\n",
       "      <th></th>\n",
       "      <th>fN[0][0]</th>\n",
       "      <th>fN[1][0]</th>\n",
       "      <th>fN[2][0]</th>\n",
       "      <th>fN[3][0]</th>\n",
       "      <th>id[0][0]</th>\n",
       "      <th>id[1][0]</th>\n",
       "      <th>id[2][0]</th>\n",
       "      <th>id[3][0]</th>\n",
       "      <th>x[0]</th>\n",
       "      <th>x[1]</th>\n",
       "      <th>errx[0][0]</th>\n",
       "      <th>errx[0][1]</th>\n",
       "      <th>errx[1][0]</th>\n",
       "      <th>errx[1][1]</th>\n",
       "      <th>errx[2][0]</th>\n",
       "      <th>errx[2][1]</th>\n",
       "      <th>errx[3][0]</th>\n",
       "      <th>errx[3][1]</th>\n",
       "      <th>g[0][0]</th>\n",
       "      <th>g[0][1]</th>\n",
       "      <th>g[1][0]</th>\n",
       "      <th>g[1][1]</th>\n",
       "      <th>g[2][0]</th>\n",
       "      <th>g[2][1]</th>\n",
       "      <th>g[3][0]</th>\n",
       "      <th>g[3][1]</th>\n",
       "      <th>flux[0][0]</th>\n",
       "      <th>flux[1][0]</th>\n",
       "      <th>flux[2][0]</th>\n",
       "      <th>flux[3][0]</th>\n",
       "      <th>gm[0]</th>\n",
       "      <th>gm[1]</th>\n",
       "      <th>gc[0]</th>\n",
       "      <th>gc[1]</th>\n",
       "      <th>flux</th>\n",
       "      <th>gm_sq</th>\n",
       "      <th>gc_sq</th>\n",
       "    </tr>\n",
       "  </thead>\n",
       "  <tbody>\n",
       "    <tr>\n",
       "      <th>0</th>\n",
       "      <td>0</td>\n",
       "      <td>0</td>\n",
       "      <td>0</td>\n",
       "      <td>0</td>\n",
       "      <td>5678</td>\n",
       "      <td>5735</td>\n",
       "      <td>5568</td>\n",
       "      <td>5678</td>\n",
       "      <td>1969.21590</td>\n",
       "      <td>2159.75690</td>\n",
       "      <td>0.1046</td>\n",
       "      <td>0.0759</td>\n",
       "      <td>0.1063</td>\n",
       "      <td>0.0745</td>\n",
       "      <td>0.1055</td>\n",
       "      <td>0.0759</td>\n",
       "      <td>0.1070</td>\n",
       "      <td>0.0746</td>\n",
       "      <td>1.0830</td>\n",
       "      <td>-0.2341</td>\n",
       "      <td>1.1499</td>\n",
       "      <td>-0.4244</td>\n",
       "      <td>1.1705</td>\n",
       "      <td>-0.2617</td>\n",
       "      <td>1.2105</td>\n",
       "      <td>-0.4458</td>\n",
       "      <td>8119.9753</td>\n",
       "      <td>8214.5911</td>\n",
       "      <td>8109.6423</td>\n",
       "      <td>8206.3494</td>\n",
       "      <td>1.11645</td>\n",
       "      <td>-0.32925</td>\n",
       "      <td>1.19050</td>\n",
       "      <td>-0.35375</td>\n",
       "      <td>32650.5581</td>\n",
       "      <td>1.354866</td>\n",
       "      <td>1.542429</td>\n",
       "    </tr>\n",
       "    <tr>\n",
       "      <th>1</th>\n",
       "      <td>0</td>\n",
       "      <td>0</td>\n",
       "      <td>0</td>\n",
       "      <td>0</td>\n",
       "      <td>3181</td>\n",
       "      <td>3193</td>\n",
       "      <td>3164</td>\n",
       "      <td>3179</td>\n",
       "      <td>2222.70820</td>\n",
       "      <td>480.46175</td>\n",
       "      <td>0.0084</td>\n",
       "      <td>0.0080</td>\n",
       "      <td>0.0078</td>\n",
       "      <td>0.0086</td>\n",
       "      <td>0.0083</td>\n",
       "      <td>0.0080</td>\n",
       "      <td>0.0078</td>\n",
       "      <td>0.0086</td>\n",
       "      <td>0.4174</td>\n",
       "      <td>0.6428</td>\n",
       "      <td>-0.2249</td>\n",
       "      <td>-0.5265</td>\n",
       "      <td>0.4378</td>\n",
       "      <td>0.6521</td>\n",
       "      <td>-0.2665</td>\n",
       "      <td>-0.5215</td>\n",
       "      <td>53940.3420</td>\n",
       "      <td>53844.2740</td>\n",
       "      <td>53930.3800</td>\n",
       "      <td>53825.1630</td>\n",
       "      <td>0.09625</td>\n",
       "      <td>0.05815</td>\n",
       "      <td>0.08565</td>\n",
       "      <td>0.06530</td>\n",
       "      <td>215540.1590</td>\n",
       "      <td>0.012645</td>\n",
       "      <td>0.011600</td>\n",
       "    </tr>\n",
       "    <tr>\n",
       "      <th>2</th>\n",
       "      <td>0</td>\n",
       "      <td>0</td>\n",
       "      <td>0</td>\n",
       "      <td>0</td>\n",
       "      <td>617</td>\n",
       "      <td>629</td>\n",
       "      <td>634</td>\n",
       "      <td>631</td>\n",
       "      <td>2490.22380</td>\n",
       "      <td>808.50175</td>\n",
       "      <td>0.1954</td>\n",
       "      <td>0.2183</td>\n",
       "      <td>0.1988</td>\n",
       "      <td>0.2101</td>\n",
       "      <td>0.1967</td>\n",
       "      <td>0.2164</td>\n",
       "      <td>0.1999</td>\n",
       "      <td>0.2103</td>\n",
       "      <td>-0.5360</td>\n",
       "      <td>-0.2100</td>\n",
       "      <td>-0.0658</td>\n",
       "      <td>-0.7159</td>\n",
       "      <td>-0.6352</td>\n",
       "      <td>-0.1759</td>\n",
       "      <td>-0.0540</td>\n",
       "      <td>-0.5692</td>\n",
       "      <td>1992.9584</td>\n",
       "      <td>2009.3786</td>\n",
       "      <td>1981.6793</td>\n",
       "      <td>2005.1267</td>\n",
       "      <td>-0.30090</td>\n",
       "      <td>-0.46295</td>\n",
       "      <td>-0.34460</td>\n",
       "      <td>-0.37255</td>\n",
       "      <td>7989.1430</td>\n",
       "      <td>0.304864</td>\n",
       "      <td>0.257543</td>\n",
       "    </tr>\n",
       "    <tr>\n",
       "      <th>3</th>\n",
       "      <td>0</td>\n",
       "      <td>0</td>\n",
       "      <td>0</td>\n",
       "      <td>0</td>\n",
       "      <td>684</td>\n",
       "      <td>696</td>\n",
       "      <td>699</td>\n",
       "      <td>698</td>\n",
       "      <td>3373.27020</td>\n",
       "      <td>905.54893</td>\n",
       "      <td>0.0547</td>\n",
       "      <td>0.0594</td>\n",
       "      <td>0.0549</td>\n",
       "      <td>0.0592</td>\n",
       "      <td>0.0547</td>\n",
       "      <td>0.0594</td>\n",
       "      <td>0.0550</td>\n",
       "      <td>0.0591</td>\n",
       "      <td>-0.6025</td>\n",
       "      <td>-0.0211</td>\n",
       "      <td>0.2921</td>\n",
       "      <td>-0.1267</td>\n",
       "      <td>-0.6900</td>\n",
       "      <td>-0.0190</td>\n",
       "      <td>0.3317</td>\n",
       "      <td>-0.3053</td>\n",
       "      <td>6554.3191</td>\n",
       "      <td>6547.4142</td>\n",
       "      <td>6556.4337</td>\n",
       "      <td>6549.9094</td>\n",
       "      <td>-0.15520</td>\n",
       "      <td>-0.07390</td>\n",
       "      <td>-0.17915</td>\n",
       "      <td>-0.16215</td>\n",
       "      <td>26208.0764</td>\n",
       "      <td>0.029548</td>\n",
       "      <td>0.058387</td>\n",
       "    </tr>\n",
       "    <tr>\n",
       "      <th>4</th>\n",
       "      <td>0</td>\n",
       "      <td>0</td>\n",
       "      <td>0</td>\n",
       "      <td>0</td>\n",
       "      <td>7439</td>\n",
       "      <td>7449</td>\n",
       "      <td>7225</td>\n",
       "      <td>7379</td>\n",
       "      <td>469.49428</td>\n",
       "      <td>3091.40550</td>\n",
       "      <td>0.1649</td>\n",
       "      <td>0.1191</td>\n",
       "      <td>0.1122</td>\n",
       "      <td>0.1652</td>\n",
       "      <td>0.1660</td>\n",
       "      <td>0.1190</td>\n",
       "      <td>0.1129</td>\n",
       "      <td>0.1656</td>\n",
       "      <td>0.8693</td>\n",
       "      <td>-0.5821</td>\n",
       "      <td>-0.8425</td>\n",
       "      <td>0.6476</td>\n",
       "      <td>0.8742</td>\n",
       "      <td>-0.5830</td>\n",
       "      <td>-0.8725</td>\n",
       "      <td>0.6541</td>\n",
       "      <td>5283.5760</td>\n",
       "      <td>5059.5502</td>\n",
       "      <td>5279.9345</td>\n",
       "      <td>5064.7001</td>\n",
       "      <td>0.01340</td>\n",
       "      <td>0.03275</td>\n",
       "      <td>0.00085</td>\n",
       "      <td>0.03555</td>\n",
       "      <td>20687.7608</td>\n",
       "      <td>0.001252</td>\n",
       "      <td>0.001265</td>\n",
       "    </tr>\n",
       "  </tbody>\n",
       "</table>\n",
       "</div>"
      ],
      "text/plain": [
       "   fN[0][0]  fN[1][0]  fN[2][0]  fN[3][0]  id[0][0]  id[1][0]  id[2][0]  \\\n",
       "0         0         0         0         0      5678      5735      5568   \n",
       "1         0         0         0         0      3181      3193      3164   \n",
       "2         0         0         0         0       617       629       634   \n",
       "3         0         0         0         0       684       696       699   \n",
       "4         0         0         0         0      7439      7449      7225   \n",
       "\n",
       "   id[3][0]        x[0]        x[1]  errx[0][0]  errx[0][1]  errx[1][0]  \\\n",
       "0      5678  1969.21590  2159.75690      0.1046      0.0759      0.1063   \n",
       "1      3179  2222.70820   480.46175      0.0084      0.0080      0.0078   \n",
       "2       631  2490.22380   808.50175      0.1954      0.2183      0.1988   \n",
       "3       698  3373.27020   905.54893      0.0547      0.0594      0.0549   \n",
       "4      7379   469.49428  3091.40550      0.1649      0.1191      0.1122   \n",
       "\n",
       "   errx[1][1]  errx[2][0]  errx[2][1]  errx[3][0]  errx[3][1]  g[0][0]  \\\n",
       "0      0.0745      0.1055      0.0759      0.1070      0.0746   1.0830   \n",
       "1      0.0086      0.0083      0.0080      0.0078      0.0086   0.4174   \n",
       "2      0.2101      0.1967      0.2164      0.1999      0.2103  -0.5360   \n",
       "3      0.0592      0.0547      0.0594      0.0550      0.0591  -0.6025   \n",
       "4      0.1652      0.1660      0.1190      0.1129      0.1656   0.8693   \n",
       "\n",
       "   g[0][1]  g[1][0]  g[1][1]  g[2][0]  g[2][1]  g[3][0]  g[3][1]  flux[0][0]  \\\n",
       "0  -0.2341   1.1499  -0.4244   1.1705  -0.2617   1.2105  -0.4458   8119.9753   \n",
       "1   0.6428  -0.2249  -0.5265   0.4378   0.6521  -0.2665  -0.5215  53940.3420   \n",
       "2  -0.2100  -0.0658  -0.7159  -0.6352  -0.1759  -0.0540  -0.5692   1992.9584   \n",
       "3  -0.0211   0.2921  -0.1267  -0.6900  -0.0190   0.3317  -0.3053   6554.3191   \n",
       "4  -0.5821  -0.8425   0.6476   0.8742  -0.5830  -0.8725   0.6541   5283.5760   \n",
       "\n",
       "   flux[1][0]  flux[2][0]  flux[3][0]    gm[0]    gm[1]    gc[0]    gc[1]  \\\n",
       "0   8214.5911   8109.6423   8206.3494  1.11645 -0.32925  1.19050 -0.35375   \n",
       "1  53844.2740  53930.3800  53825.1630  0.09625  0.05815  0.08565  0.06530   \n",
       "2   2009.3786   1981.6793   2005.1267 -0.30090 -0.46295 -0.34460 -0.37255   \n",
       "3   6547.4142   6556.4337   6549.9094 -0.15520 -0.07390 -0.17915 -0.16215   \n",
       "4   5059.5502   5279.9345   5064.7001  0.01340  0.03275  0.00085  0.03555   \n",
       "\n",
       "          flux     gm_sq     gc_sq  \n",
       "0   32650.5581  1.354866  1.542429  \n",
       "1  215540.1590  0.012645  0.011600  \n",
       "2    7989.1430  0.304864  0.257543  \n",
       "3   26208.0764  0.029548  0.058387  \n",
       "4   20687.7608  0.001252  0.001265  "
      ]
     },
     "execution_count": 46,
     "metadata": {},
     "output_type": "execute_result"
    }
   ],
   "source": [
    "# Find total flux, gm**2 and gc**2\n",
    "df['flux'] = df['flux[0][0]'] + df['flux[1][0]'] + df['flux[2][0]'] + df['flux[3][0]']\n",
    "df['gm_sq'] = df['gm[0]']**2 + df['gm[1]']**2\n",
    "df['gc_sq'] = df['gc[0]']**2 + df['gc[1]']**2\n",
    "df.head()"
   ]
  },
  {
   "cell_type": "code",
   "execution_count": 47,
   "metadata": {
    "collapsed": false,
    "deletable": true,
    "editable": true
   },
   "outputs": [
    {
     "data": {
      "text/html": [
       "<div>\n",
       "<style>\n",
       "    .dataframe thead tr:only-child th {\n",
       "        text-align: right;\n",
       "    }\n",
       "\n",
       "    .dataframe thead th {\n",
       "        text-align: left;\n",
       "    }\n",
       "\n",
       "    .dataframe tbody tr th {\n",
       "        vertical-align: top;\n",
       "    }\n",
       "</style>\n",
       "<table border=\"1\" class=\"dataframe\">\n",
       "  <thead>\n",
       "    <tr style=\"text-align: right;\">\n",
       "      <th></th>\n",
       "      <th>gc[0]</th>\n",
       "      <th>gc[1]</th>\n",
       "      <th>flux</th>\n",
       "      <th>gm_sq</th>\n",
       "      <th>gc_sq</th>\n",
       "    </tr>\n",
       "  </thead>\n",
       "  <tbody>\n",
       "    <tr>\n",
       "      <th>180836</th>\n",
       "      <td>0.13805</td>\n",
       "      <td>-0.21480</td>\n",
       "      <td>3.517335e+03</td>\n",
       "      <td>0.023482</td>\n",
       "      <td>0.065197</td>\n",
       "    </tr>\n",
       "    <tr>\n",
       "      <th>24586</th>\n",
       "      <td>0.16295</td>\n",
       "      <td>0.23625</td>\n",
       "      <td>4.517341e+03</td>\n",
       "      <td>0.145381</td>\n",
       "      <td>0.082367</td>\n",
       "    </tr>\n",
       "    <tr>\n",
       "      <th>44153</th>\n",
       "      <td>-0.95505</td>\n",
       "      <td>0.05265</td>\n",
       "      <td>4.410982e+06</td>\n",
       "      <td>0.866382</td>\n",
       "      <td>0.914893</td>\n",
       "    </tr>\n",
       "    <tr>\n",
       "      <th>182110</th>\n",
       "      <td>0.81545</td>\n",
       "      <td>-0.54430</td>\n",
       "      <td>6.084687e+06</td>\n",
       "      <td>0.948599</td>\n",
       "      <td>0.961221</td>\n",
       "    </tr>\n",
       "  </tbody>\n",
       "</table>\n",
       "</div>"
      ],
      "text/plain": [
       "          gc[0]    gc[1]          flux     gm_sq     gc_sq\n",
       "180836  0.13805 -0.21480  3.517335e+03  0.023482  0.065197\n",
       "24586   0.16295  0.23625  4.517341e+03  0.145381  0.082367\n",
       "44153  -0.95505  0.05265  4.410982e+06  0.866382  0.914893\n",
       "182110  0.81545 -0.54430  6.084687e+06  0.948599  0.961221"
      ]
     },
     "execution_count": 47,
     "metadata": {},
     "output_type": "execute_result"
    }
   ],
   "source": [
    "# we want to find flux buckets, so sort the data by flux\n",
    "df = df.sort_values(by='flux')\n",
    "df.head(2).append(df.tail(2)).iloc[:,-5:]"
   ]
  },
  {
   "cell_type": "code",
   "execution_count": 48,
   "metadata": {
    "collapsed": false,
    "deletable": true,
    "editable": true
   },
   "outputs": [
    {
     "data": {
      "text/plain": [
       "(183836, 37)"
      ]
     },
     "execution_count": 48,
     "metadata": {},
     "output_type": "execute_result"
    }
   ],
   "source": [
    "df.shape"
   ]
  },
  {
   "cell_type": "code",
   "execution_count": 49,
   "metadata": {
    "collapsed": false,
    "deletable": true,
    "editable": true
   },
   "outputs": [
    {
     "data": {
      "text/plain": [
       "count    1.838360e+05\n",
       "mean     1.408643e+05\n",
       "std      2.657454e+05\n",
       "min      3.517335e+03\n",
       "25%      1.771650e+04\n",
       "50%      3.720871e+04\n",
       "75%      1.160867e+05\n",
       "max      6.084687e+06\n",
       "Name: flux, dtype: float64"
      ]
     },
     "execution_count": 49,
     "metadata": {},
     "output_type": "execute_result"
    }
   ],
   "source": [
    "df.flux.describe()"
   ]
  },
  {
   "cell_type": "code",
   "execution_count": 50,
   "metadata": {
    "collapsed": false,
    "deletable": true,
    "editable": true
   },
   "outputs": [],
   "source": [
    "# plt.plot(df.flux.values,'.')\n",
    "# plt.xlabel('row_number')\n",
    "# plt.ylabel('flux')"
   ]
  },
  {
   "cell_type": "code",
   "execution_count": 51,
   "metadata": {
    "collapsed": false,
    "deletable": true,
    "editable": true
   },
   "outputs": [
    {
     "data": {
      "text/plain": [
       "<matplotlib.text.Text at 0x128e52128>"
      ]
     },
     "execution_count": 51,
     "metadata": {},
     "output_type": "execute_result"
    },
    {
     "data": {
      "image/png": "[encoded data removed]",
      "text/plain": [
       "<matplotlib.figure.Figure at 0x128f1f908>"
      ]
     },
     "metadata": {
      "image/png": {
       "height": 263,
       "width": 451
      }
     },
     "output_type": "display_data"
    }
   ],
   "source": [
    "# looks like two data points are outliers, remove them\n",
    "df = df.query('flux < 4e6')\n",
    "plt.plot(df.flux.values,'.')\n",
    "plt.xlabel('row_number')\n",
    "plt.ylabel('flux')"
   ]
  },
  {
   "cell_type": "markdown",
   "metadata": {
    "deletable": true,
    "editable": true
   },
   "source": [
    "# Bucketing equal number of objects in bins after sorting flux"
   ]
  },
  {
   "cell_type": "code",
   "execution_count": 53,
   "metadata": {
    "collapsed": true,
    "deletable": true,
    "editable": true
   },
   "outputs": [],
   "source": [
    "# we have 183k objects we will distribute them in 30 bins after sorting flux"
   ]
  },
  {
   "cell_type": "code",
   "execution_count": 54,
   "metadata": {
    "collapsed": false,
    "deletable": true,
    "editable": true
   },
   "outputs": [
    {
     "data": {
      "text/plain": [
       "(3064, 37)"
      ]
     },
     "execution_count": 54,
     "metadata": {},
     "output_type": "execute_result"
    }
   ],
   "source": [
    "N_BUCKETS = 60\n",
    "dfn = np.array_split(df,N_BUCKETS)\n",
    "dfn[0].shape"
   ]
  },
  {
   "cell_type": "code",
   "execution_count": 18,
   "metadata": {
    "collapsed": false,
    "deletable": true,
    "editable": true
   },
   "outputs": [
    {
     "data": {
      "text/html": [
       "<div>\n",
       "<style>\n",
       "    .dataframe thead tr:only-child th {\n",
       "        text-align: right;\n",
       "    }\n",
       "\n",
       "    .dataframe thead th {\n",
       "        text-align: left;\n",
       "    }\n",
       "\n",
       "    .dataframe tbody tr th {\n",
       "        vertical-align: top;\n",
       "    }\n",
       "</style>\n",
       "<table border=\"1\" class=\"dataframe\">\n",
       "  <thead>\n",
       "    <tr style=\"text-align: right;\">\n",
       "      <th></th>\n",
       "      <th>fN[0][0]</th>\n",
       "      <th>fN[1][0]</th>\n",
       "      <th>fN[2][0]</th>\n",
       "      <th>fN[3][0]</th>\n",
       "      <th>id[0][0]</th>\n",
       "      <th>id[1][0]</th>\n",
       "      <th>id[2][0]</th>\n",
       "      <th>id[3][0]</th>\n",
       "      <th>x[0]</th>\n",
       "      <th>x[1]</th>\n",
       "      <th>errx[0][0]</th>\n",
       "      <th>errx[0][1]</th>\n",
       "      <th>errx[1][0]</th>\n",
       "      <th>errx[1][1]</th>\n",
       "      <th>errx[2][0]</th>\n",
       "      <th>errx[2][1]</th>\n",
       "      <th>errx[3][0]</th>\n",
       "      <th>errx[3][1]</th>\n",
       "      <th>g[0][0]</th>\n",
       "      <th>g[0][1]</th>\n",
       "      <th>g[1][0]</th>\n",
       "      <th>g[1][1]</th>\n",
       "      <th>g[2][0]</th>\n",
       "      <th>g[2][1]</th>\n",
       "      <th>g[3][0]</th>\n",
       "      <th>g[3][1]</th>\n",
       "      <th>flux[0][0]</th>\n",
       "      <th>flux[1][0]</th>\n",
       "      <th>flux[2][0]</th>\n",
       "      <th>flux[3][0]</th>\n",
       "      <th>gm[0]</th>\n",
       "      <th>gm[1]</th>\n",
       "      <th>gc[0]</th>\n",
       "      <th>gc[1]</th>\n",
       "      <th>flux</th>\n",
       "      <th>gm_sq</th>\n",
       "      <th>gc_sq</th>\n",
       "    </tr>\n",
       "  </thead>\n",
       "  <tbody>\n",
       "    <tr>\n",
       "      <th>180836</th>\n",
       "      <td>98</td>\n",
       "      <td>98</td>\n",
       "      <td>98</td>\n",
       "      <td>98</td>\n",
       "      <td>7597</td>\n",
       "      <td>7587</td>\n",
       "      <td>7519</td>\n",
       "      <td>7501</td>\n",
       "      <td>2193.6307</td>\n",
       "      <td>3159.44600</td>\n",
       "      <td>0.3857</td>\n",
       "      <td>0.3846</td>\n",
       "      <td>0.4108</td>\n",
       "      <td>0.4646</td>\n",
       "      <td>0.4264</td>\n",
       "      <td>0.4238</td>\n",
       "      <td>0.3999</td>\n",
       "      <td>0.4588</td>\n",
       "      <td>-0.1191</td>\n",
       "      <td>-0.0115</td>\n",
       "      <td>0.2466</td>\n",
       "      <td>-0.2672</td>\n",
       "      <td>-0.0457</td>\n",
       "      <td>-0.1852</td>\n",
       "      <td>0.3218</td>\n",
       "      <td>-0.2444</td>\n",
       "      <td>963.4867</td>\n",
       "      <td>859.7343</td>\n",
       "      <td>851.8551</td>\n",
       "      <td>842.2593</td>\n",
       "      <td>0.06375</td>\n",
       "      <td>-0.13935</td>\n",
       "      <td>0.13805</td>\n",
       "      <td>-0.21480</td>\n",
       "      <td>3517.3354</td>\n",
       "      <td>0.023482</td>\n",
       "      <td>0.065197</td>\n",
       "    </tr>\n",
       "    <tr>\n",
       "      <th>24586</th>\n",
       "      <td>13</td>\n",
       "      <td>13</td>\n",
       "      <td>13</td>\n",
       "      <td>13</td>\n",
       "      <td>3241</td>\n",
       "      <td>3245</td>\n",
       "      <td>3259</td>\n",
       "      <td>3255</td>\n",
       "      <td>1177.8090</td>\n",
       "      <td>467.15318</td>\n",
       "      <td>0.2720</td>\n",
       "      <td>0.3329</td>\n",
       "      <td>0.3182</td>\n",
       "      <td>0.3392</td>\n",
       "      <td>0.2715</td>\n",
       "      <td>0.3276</td>\n",
       "      <td>0.3589</td>\n",
       "      <td>0.3544</td>\n",
       "      <td>0.5301</td>\n",
       "      <td>-0.2305</td>\n",
       "      <td>0.1779</td>\n",
       "      <td>0.5138</td>\n",
       "      <td>0.4690</td>\n",
       "      <td>-0.2288</td>\n",
       "      <td>-0.1431</td>\n",
       "      <td>0.7013</td>\n",
       "      <td>1175.0578</td>\n",
       "      <td>1123.8657</td>\n",
       "      <td>1166.8635</td>\n",
       "      <td>1051.5544</td>\n",
       "      <td>0.35400</td>\n",
       "      <td>0.14165</td>\n",
       "      <td>0.16295</td>\n",
       "      <td>0.23625</td>\n",
       "      <td>4517.3414</td>\n",
       "      <td>0.145381</td>\n",
       "      <td>0.082367</td>\n",
       "    </tr>\n",
       "    <tr>\n",
       "      <th>128674</th>\n",
       "      <td>70</td>\n",
       "      <td>70</td>\n",
       "      <td>70</td>\n",
       "      <td>70</td>\n",
       "      <td>4773</td>\n",
       "      <td>4769</td>\n",
       "      <td>4740</td>\n",
       "      <td>4733</td>\n",
       "      <td>2931.3887</td>\n",
       "      <td>1399.98710</td>\n",
       "      <td>0.1616</td>\n",
       "      <td>0.1861</td>\n",
       "      <td>0.1582</td>\n",
       "      <td>0.1893</td>\n",
       "      <td>0.1614</td>\n",
       "      <td>0.1861</td>\n",
       "      <td>0.1588</td>\n",
       "      <td>0.1871</td>\n",
       "      <td>0.2638</td>\n",
       "      <td>0.4659</td>\n",
       "      <td>1.2354</td>\n",
       "      <td>-0.3073</td>\n",
       "      <td>0.1207</td>\n",
       "      <td>0.3705</td>\n",
       "      <td>1.0485</td>\n",
       "      <td>-0.1947</td>\n",
       "      <td>2014.5346</td>\n",
       "      <td>2005.4539</td>\n",
       "      <td>2010.7591</td>\n",
       "      <td>2004.1133</td>\n",
       "      <td>0.74960</td>\n",
       "      <td>0.07930</td>\n",
       "      <td>0.58460</td>\n",
       "      <td>0.08790</td>\n",
       "      <td>8034.8609</td>\n",
       "      <td>0.568189</td>\n",
       "      <td>0.349484</td>\n",
       "    </tr>\n",
       "    <tr>\n",
       "      <th>181140</th>\n",
       "      <td>98</td>\n",
       "      <td>98</td>\n",
       "      <td>98</td>\n",
       "      <td>98</td>\n",
       "      <td>6983</td>\n",
       "      <td>6977</td>\n",
       "      <td>6922</td>\n",
       "      <td>6907</td>\n",
       "      <td>2090.4889</td>\n",
       "      <td>3037.07160</td>\n",
       "      <td>0.1909</td>\n",
       "      <td>0.2232</td>\n",
       "      <td>0.1927</td>\n",
       "      <td>0.2074</td>\n",
       "      <td>0.1926</td>\n",
       "      <td>0.2230</td>\n",
       "      <td>0.1937</td>\n",
       "      <td>0.2091</td>\n",
       "      <td>-1.0325</td>\n",
       "      <td>-0.2315</td>\n",
       "      <td>-0.2223</td>\n",
       "      <td>-0.2734</td>\n",
       "      <td>-1.1582</td>\n",
       "      <td>-0.2505</td>\n",
       "      <td>-0.1654</td>\n",
       "      <td>-0.3214</td>\n",
       "      <td>2047.2099</td>\n",
       "      <td>1979.5441</td>\n",
       "      <td>2035.9307</td>\n",
       "      <td>1972.2503</td>\n",
       "      <td>-0.62740</td>\n",
       "      <td>-0.25245</td>\n",
       "      <td>-0.66180</td>\n",
       "      <td>-0.28595</td>\n",
       "      <td>8034.9350</td>\n",
       "      <td>0.457362</td>\n",
       "      <td>0.519747</td>\n",
       "    </tr>\n",
       "  </tbody>\n",
       "</table>\n",
       "</div>"
      ],
      "text/plain": [
       "        fN[0][0]  fN[1][0]  fN[2][0]  fN[3][0]  id[0][0]  id[1][0]  id[2][0]  \\\n",
       "180836        98        98        98        98      7597      7587      7519   \n",
       "24586         13        13        13        13      3241      3245      3259   \n",
       "128674        70        70        70        70      4773      4769      4740   \n",
       "181140        98        98        98        98      6983      6977      6922   \n",
       "\n",
       "        id[3][0]       x[0]        x[1]  errx[0][0]  errx[0][1]  errx[1][0]  \\\n",
       "180836      7501  2193.6307  3159.44600      0.3857      0.3846      0.4108   \n",
       "24586       3255  1177.8090   467.15318      0.2720      0.3329      0.3182   \n",
       "128674      4733  2931.3887  1399.98710      0.1616      0.1861      0.1582   \n",
       "181140      6907  2090.4889  3037.07160      0.1909      0.2232      0.1927   \n",
       "\n",
       "        errx[1][1]  errx[2][0]  errx[2][1]  errx[3][0]  errx[3][1]  g[0][0]  \\\n",
       "180836      0.4646      0.4264      0.4238      0.3999      0.4588  -0.1191   \n",
       "24586       0.3392      0.2715      0.3276      0.3589      0.3544   0.5301   \n",
       "128674      0.1893      0.1614      0.1861      0.1588      0.1871   0.2638   \n",
       "181140      0.2074      0.1926      0.2230      0.1937      0.2091  -1.0325   \n",
       "\n",
       "        g[0][1]  g[1][0]  g[1][1]  g[2][0]  g[2][1]  g[3][0]  g[3][1]  \\\n",
       "180836  -0.0115   0.2466  -0.2672  -0.0457  -0.1852   0.3218  -0.2444   \n",
       "24586   -0.2305   0.1779   0.5138   0.4690  -0.2288  -0.1431   0.7013   \n",
       "128674   0.4659   1.2354  -0.3073   0.1207   0.3705   1.0485  -0.1947   \n",
       "181140  -0.2315  -0.2223  -0.2734  -1.1582  -0.2505  -0.1654  -0.3214   \n",
       "\n",
       "        flux[0][0]  flux[1][0]  flux[2][0]  flux[3][0]    gm[0]    gm[1]  \\\n",
       "180836    963.4867    859.7343    851.8551    842.2593  0.06375 -0.13935   \n",
       "24586    1175.0578   1123.8657   1166.8635   1051.5544  0.35400  0.14165   \n",
       "128674   2014.5346   2005.4539   2010.7591   2004.1133  0.74960  0.07930   \n",
       "181140   2047.2099   1979.5441   2035.9307   1972.2503 -0.62740 -0.25245   \n",
       "\n",
       "          gc[0]    gc[1]       flux     gm_sq     gc_sq  \n",
       "180836  0.13805 -0.21480  3517.3354  0.023482  0.065197  \n",
       "24586   0.16295  0.23625  4517.3414  0.145381  0.082367  \n",
       "128674  0.58460  0.08790  8034.8609  0.568189  0.349484  \n",
       "181140 -0.66180 -0.28595  8034.9350  0.457362  0.519747  "
      ]
     },
     "execution_count": 18,
     "metadata": {},
     "output_type": "execute_result"
    }
   ],
   "source": [
    "dfn[0].head(2).append(dfn[0].tail(2))"
   ]
  },
  {
   "cell_type": "code",
   "execution_count": 19,
   "metadata": {
    "collapsed": false,
    "deletable": true,
    "editable": true
   },
   "outputs": [
    {
     "data": {
      "text/html": [
       "<div>\n",
       "<style>\n",
       "    .dataframe thead tr:only-child th {\n",
       "        text-align: right;\n",
       "    }\n",
       "\n",
       "    .dataframe thead th {\n",
       "        text-align: left;\n",
       "    }\n",
       "\n",
       "    .dataframe tbody tr th {\n",
       "        vertical-align: top;\n",
       "    }\n",
       "</style>\n",
       "<table border=\"1\" class=\"dataframe\">\n",
       "  <thead>\n",
       "    <tr style=\"text-align: right;\">\n",
       "      <th></th>\n",
       "      <th>fN[0][0]</th>\n",
       "      <th>fN[1][0]</th>\n",
       "      <th>fN[2][0]</th>\n",
       "      <th>fN[3][0]</th>\n",
       "      <th>id[0][0]</th>\n",
       "      <th>id[1][0]</th>\n",
       "      <th>id[2][0]</th>\n",
       "      <th>id[3][0]</th>\n",
       "      <th>x[0]</th>\n",
       "      <th>x[1]</th>\n",
       "      <th>errx[0][0]</th>\n",
       "      <th>errx[0][1]</th>\n",
       "      <th>errx[1][0]</th>\n",
       "      <th>errx[1][1]</th>\n",
       "      <th>errx[2][0]</th>\n",
       "      <th>errx[2][1]</th>\n",
       "      <th>errx[3][0]</th>\n",
       "      <th>errx[3][1]</th>\n",
       "      <th>g[0][0]</th>\n",
       "      <th>g[0][1]</th>\n",
       "      <th>g[1][0]</th>\n",
       "      <th>g[1][1]</th>\n",
       "      <th>g[2][0]</th>\n",
       "      <th>g[2][1]</th>\n",
       "      <th>g[3][0]</th>\n",
       "      <th>g[3][1]</th>\n",
       "      <th>flux[0][0]</th>\n",
       "      <th>flux[1][0]</th>\n",
       "      <th>flux[2][0]</th>\n",
       "      <th>flux[3][0]</th>\n",
       "      <th>gm[0]</th>\n",
       "      <th>gm[1]</th>\n",
       "      <th>gc[0]</th>\n",
       "      <th>gc[1]</th>\n",
       "      <th>flux</th>\n",
       "      <th>gm_sq</th>\n",
       "      <th>gc_sq</th>\n",
       "    </tr>\n",
       "  </thead>\n",
       "  <tbody>\n",
       "    <tr>\n",
       "      <th>180836</th>\n",
       "      <td>98</td>\n",
       "      <td>98</td>\n",
       "      <td>98</td>\n",
       "      <td>98</td>\n",
       "      <td>7597</td>\n",
       "      <td>7587</td>\n",
       "      <td>7519</td>\n",
       "      <td>7501</td>\n",
       "      <td>2193.6307</td>\n",
       "      <td>3159.446</td>\n",
       "      <td>0.3857</td>\n",
       "      <td>0.3846</td>\n",
       "      <td>0.4108</td>\n",
       "      <td>0.4646</td>\n",
       "      <td>0.4264</td>\n",
       "      <td>0.4238</td>\n",
       "      <td>0.3999</td>\n",
       "      <td>0.4588</td>\n",
       "      <td>-0.1191</td>\n",
       "      <td>-0.0115</td>\n",
       "      <td>0.2466</td>\n",
       "      <td>-0.2672</td>\n",
       "      <td>-0.0457</td>\n",
       "      <td>-0.1852</td>\n",
       "      <td>0.3218</td>\n",
       "      <td>-0.2444</td>\n",
       "      <td>963.4867</td>\n",
       "      <td>859.7343</td>\n",
       "      <td>851.8551</td>\n",
       "      <td>842.2593</td>\n",
       "      <td>0.06375</td>\n",
       "      <td>-0.13935</td>\n",
       "      <td>0.13805</td>\n",
       "      <td>-0.2148</td>\n",
       "      <td>3517.3354</td>\n",
       "      <td>0.023482</td>\n",
       "      <td>0.065197</td>\n",
       "    </tr>\n",
       "  </tbody>\n",
       "</table>\n",
       "</div>"
      ],
      "text/plain": [
       "        fN[0][0]  fN[1][0]  fN[2][0]  fN[3][0]  id[0][0]  id[1][0]  id[2][0]  \\\n",
       "180836        98        98        98        98      7597      7587      7519   \n",
       "\n",
       "        id[3][0]       x[0]      x[1]  errx[0][0]  errx[0][1]  errx[1][0]  \\\n",
       "180836      7501  2193.6307  3159.446      0.3857      0.3846      0.4108   \n",
       "\n",
       "        errx[1][1]  errx[2][0]  errx[2][1]  errx[3][0]  errx[3][1]  g[0][0]  \\\n",
       "180836      0.4646      0.4264      0.4238      0.3999      0.4588  -0.1191   \n",
       "\n",
       "        g[0][1]  g[1][0]  g[1][1]  g[2][0]  g[2][1]  g[3][0]  g[3][1]  \\\n",
       "180836  -0.0115   0.2466  -0.2672  -0.0457  -0.1852   0.3218  -0.2444   \n",
       "\n",
       "        flux[0][0]  flux[1][0]  flux[2][0]  flux[3][0]    gm[0]    gm[1]  \\\n",
       "180836    963.4867    859.7343    851.8551    842.2593  0.06375 -0.13935   \n",
       "\n",
       "          gc[0]   gc[1]       flux     gm_sq     gc_sq  \n",
       "180836  0.13805 -0.2148  3517.3354  0.023482  0.065197  "
      ]
     },
     "execution_count": 19,
     "metadata": {},
     "output_type": "execute_result"
    }
   ],
   "source": [
    "df[df.flux == df.flux.min()] # min flux row lies in first bucket."
   ]
  },
  {
   "cell_type": "markdown",
   "metadata": {
    "deletable": true,
    "editable": true
   },
   "source": [
    "# Plot Fluxes in each bins (x-axis= flux/1000)"
   ]
  },
  {
   "cell_type": "code",
   "execution_count": 95,
   "metadata": {
    "collapsed": false,
    "deletable": true,
    "editable": true
   },
   "outputs": [],
   "source": [
    "# ncols = 3\n",
    "# for a in np.array_split(np.arange(N_BUCKETS),N_BUCKETS//ncols):\n",
    "#     fig,ax = plt.subplots(1,ncols,figsize=(14,6))\n",
    "#     for i,j in enumerate(a):\n",
    "#         x = dfn[j]['flux'].values/1000 # divide by 1000 just for plotting\n",
    "#         y = dfn[j]['gm_sq'].values\n",
    "\n",
    "#         ax[i].plot(x, y, '.')\n",
    "#         ax[i].set_title('bucket : ' + str(j))\n",
    "#         plt.tight_layout()\n"
   ]
  },
  {
   "cell_type": "markdown",
   "metadata": {
    "deletable": true,
    "editable": true
   },
   "source": [
    "# Look at objects with gm_sq 0.7 and 1.0\n",
    "\n",
    "We have sorted the data with flux values. After sorting the data we take 60 bins and put equal number of\n",
    "objects in each bin. In begin and end bins, there are not much density in region 0.7-1.0 but in 20s 30s and 40s\n",
    "we see most dense regions there.\n",
    "\n",
    "For example, for bin40, we can see a lot of objects for squared reduces shear (gm_sq) values between 0.7 and 1.0.\n",
    "We are worried about theses region. These objects my be strongly lensed, objects may be near to high flux objets, \n",
    "artifacts of object detection in DMSTACK or so on.\n",
    "\n",
    "I will look the postions of these high shear objects, find their id and look at fitsfiles."
   ]
  },
  {
   "cell_type": "code",
   "execution_count": 100,
   "metadata": {
    "collapsed": false,
    "deletable": true,
    "editable": true
   },
   "outputs": [
    {
     "data": {
      "text/plain": [
       "count    60.000000\n",
       "mean     10.002203\n",
       "std       6.577219\n",
       "min       0.457068\n",
       "25%       3.622715\n",
       "50%       9.660574\n",
       "75%      16.220627\n",
       "max      20.039164\n",
       "dtype: float64"
      ]
     },
     "execution_count": 100,
     "metadata": {},
     "output_type": "execute_result"
    }
   ],
   "source": [
    "percent_bad = [ dfn[i].query(\"0.7 <= gm_sq <=1.0\").shape[0] \\\n",
    "               / dfn[i].shape[0] * 100 \\\n",
    "               for i in range(N_BUCKETS)]\n",
    "\n",
    "pd.Series(percent_bad).describe()"
   ]
  },
  {
   "cell_type": "code",
   "execution_count": 101,
   "metadata": {
    "collapsed": false
   },
   "outputs": [
    {
     "data": {
      "image/png": "[encoded data removed]",
      "text/plain": [
       "<matplotlib.figure.Figure at 0x125d0abe0>"
      ]
     },
     "metadata": {
      "image/png": {
       "height": 479,
       "width": 556
      }
     },
     "output_type": "display_data"
    }
   ],
   "source": [
    "sns.set(palette='husl')\n",
    "\n",
    "x = percent_bad\n",
    "x_pos = np.arange(len(x))\n",
    "plt.figure(figsize=(8,8))\n",
    "plt.vlines(x_pos,ymin=np.zeros_like(x), ymax=x)\n",
    "plt.xlabel('Bucket Number')\n",
    "plt.ylabel('% of bad density')\n",
    "plt.xticks(range(0,N_BUCKETS+2,2));\n",
    "\n",
    "# in bucket 0, about 5 % objects has 0.7 < gm_sq < 1.0"
   ]
  },
  {
   "cell_type": "markdown",
   "metadata": {
    "collapsed": true,
    "deletable": true,
    "editable": true
   },
   "source": [
    "# Look at the bucket25 with dense population at gmSquared 0.7 to 1.0"
   ]
  },
  {
   "cell_type": "code",
   "execution_count": 103,
   "metadata": {
    "collapsed": false,
    "deletable": true,
    "editable": true
   },
   "outputs": [
    {
     "data": {
      "image/png": "[encoded data removed]",
      "text/plain": [
       "<matplotlib.figure.Figure at 0x12b7c1710>"
      ]
     },
     "metadata": {
      "image/png": {
       "height": 565,
       "width": 852
      }
     },
     "output_type": "display_data"
    }
   ],
   "source": [
    "j = 25\n",
    "\n",
    "plt.figure(figsize=(12,8))\n",
    "x = dfn[j]['flux'].values/1000 # divide by 1000 just for plotting\n",
    "y = dfn[j]['gm_sq'].values\n",
    "\n",
    "plt.plot(x, y, '.')\n",
    "plt.title('bucket : ' + str(j))\n",
    "plt.xlabel('flux ( *1000 units) ')\n",
    "plt.ylabel('gm_sq')\n",
    "\n",
    "plt.axhline(0.7,c='b')\n",
    "plt.axhline(1.0,c='b')\n",
    "plt.yticks(np.arange(0,2.2,0.1))\n",
    "plt.tight_layout()"
   ]
  },
  {
   "cell_type": "code",
   "execution_count": 30,
   "metadata": {
    "collapsed": false,
    "deletable": true,
    "editable": true
   },
   "outputs": [
    {
     "name": "stdout",
     "output_type": "stream",
     "text": [
      "(3064, 37)\n"
     ]
    },
    {
     "data": {
      "text/html": [
       "<div>\n",
       "<style>\n",
       "    .dataframe thead tr:only-child th {\n",
       "        text-align: right;\n",
       "    }\n",
       "\n",
       "    .dataframe thead th {\n",
       "        text-align: left;\n",
       "    }\n",
       "\n",
       "    .dataframe tbody tr th {\n",
       "        vertical-align: top;\n",
       "    }\n",
       "</style>\n",
       "<table border=\"1\" class=\"dataframe\">\n",
       "  <thead>\n",
       "    <tr style=\"text-align: right;\">\n",
       "      <th></th>\n",
       "      <th>fN[0][0]</th>\n",
       "      <th>fN[1][0]</th>\n",
       "      <th>fN[2][0]</th>\n",
       "      <th>fN[3][0]</th>\n",
       "      <th>id[0][0]</th>\n",
       "      <th>id[1][0]</th>\n",
       "      <th>id[2][0]</th>\n",
       "      <th>id[3][0]</th>\n",
       "      <th>x[0]</th>\n",
       "      <th>x[1]</th>\n",
       "      <th>errx[0][0]</th>\n",
       "      <th>errx[0][1]</th>\n",
       "      <th>errx[1][0]</th>\n",
       "      <th>errx[1][1]</th>\n",
       "      <th>errx[2][0]</th>\n",
       "      <th>errx[2][1]</th>\n",
       "      <th>errx[3][0]</th>\n",
       "      <th>errx[3][1]</th>\n",
       "      <th>g[0][0]</th>\n",
       "      <th>g[0][1]</th>\n",
       "      <th>g[1][0]</th>\n",
       "      <th>g[1][1]</th>\n",
       "      <th>g[2][0]</th>\n",
       "      <th>g[2][1]</th>\n",
       "      <th>g[3][0]</th>\n",
       "      <th>g[3][1]</th>\n",
       "      <th>flux[0][0]</th>\n",
       "      <th>flux[1][0]</th>\n",
       "      <th>flux[2][0]</th>\n",
       "      <th>flux[3][0]</th>\n",
       "      <th>gm[0]</th>\n",
       "      <th>gm[1]</th>\n",
       "      <th>gc[0]</th>\n",
       "      <th>gc[1]</th>\n",
       "      <th>flux</th>\n",
       "      <th>gm_sq</th>\n",
       "      <th>gc_sq</th>\n",
       "    </tr>\n",
       "  </thead>\n",
       "  <tbody>\n",
       "    <tr>\n",
       "      <th>83580</th>\n",
       "      <td>45</td>\n",
       "      <td>45</td>\n",
       "      <td>45</td>\n",
       "      <td>45</td>\n",
       "      <td>5024</td>\n",
       "      <td>5023</td>\n",
       "      <td>5167</td>\n",
       "      <td>5012</td>\n",
       "      <td>942.04948</td>\n",
       "      <td>1580.787400</td>\n",
       "      <td>0.0766</td>\n",
       "      <td>0.1245</td>\n",
       "      <td>0.0555</td>\n",
       "      <td>0.0743</td>\n",
       "      <td>0.0782</td>\n",
       "      <td>0.1267</td>\n",
       "      <td>0.0558</td>\n",
       "      <td>0.0739</td>\n",
       "      <td>-1.0084</td>\n",
       "      <td>-0.1055</td>\n",
       "      <td>-1.2504</td>\n",
       "      <td>-0.0726</td>\n",
       "      <td>-1.1342</td>\n",
       "      <td>-0.1470</td>\n",
       "      <td>-1.3563</td>\n",
       "      <td>-0.0703</td>\n",
       "      <td>7765.5664</td>\n",
       "      <td>6877.3049</td>\n",
       "      <td>7340.2358</td>\n",
       "      <td>6847.7658</td>\n",
       "      <td>-1.12940</td>\n",
       "      <td>-0.08905</td>\n",
       "      <td>-1.24525</td>\n",
       "      <td>-0.10865</td>\n",
       "      <td>28830.8729</td>\n",
       "      <td>1.283474</td>\n",
       "      <td>1.562452</td>\n",
       "    </tr>\n",
       "    <tr>\n",
       "      <th>117530</th>\n",
       "      <td>64</td>\n",
       "      <td>64</td>\n",
       "      <td>64</td>\n",
       "      <td>64</td>\n",
       "      <td>2849</td>\n",
       "      <td>2877</td>\n",
       "      <td>2861</td>\n",
       "      <td>2809</td>\n",
       "      <td>1963.91750</td>\n",
       "      <td>244.309000</td>\n",
       "      <td>0.2448</td>\n",
       "      <td>0.2462</td>\n",
       "      <td>0.2450</td>\n",
       "      <td>0.2529</td>\n",
       "      <td>0.2433</td>\n",
       "      <td>0.2471</td>\n",
       "      <td>0.2442</td>\n",
       "      <td>0.2483</td>\n",
       "      <td>-0.0146</td>\n",
       "      <td>-0.9051</td>\n",
       "      <td>-0.0084</td>\n",
       "      <td>-0.8675</td>\n",
       "      <td>-0.0122</td>\n",
       "      <td>-0.9108</td>\n",
       "      <td>0.0084</td>\n",
       "      <td>-0.8762</td>\n",
       "      <td>7194.7260</td>\n",
       "      <td>7234.7395</td>\n",
       "      <td>7175.5338</td>\n",
       "      <td>7226.0433</td>\n",
       "      <td>-0.01150</td>\n",
       "      <td>-0.88630</td>\n",
       "      <td>-0.00190</td>\n",
       "      <td>-0.89350</td>\n",
       "      <td>28831.0426</td>\n",
       "      <td>0.785660</td>\n",
       "      <td>0.798346</td>\n",
       "    </tr>\n",
       "    <tr>\n",
       "      <th>17280</th>\n",
       "      <td>9</td>\n",
       "      <td>9</td>\n",
       "      <td>9</td>\n",
       "      <td>9</td>\n",
       "      <td>2489</td>\n",
       "      <td>2513</td>\n",
       "      <td>2515</td>\n",
       "      <td>2524</td>\n",
       "      <td>1988.62830</td>\n",
       "      <td>32.884575</td>\n",
       "      <td>0.0609</td>\n",
       "      <td>0.0584</td>\n",
       "      <td>0.0555</td>\n",
       "      <td>0.0596</td>\n",
       "      <td>0.0611</td>\n",
       "      <td>0.0587</td>\n",
       "      <td>0.0556</td>\n",
       "      <td>0.0595</td>\n",
       "      <td>0.3002</td>\n",
       "      <td>-0.8437</td>\n",
       "      <td>-0.2543</td>\n",
       "      <td>0.6622</td>\n",
       "      <td>0.3027</td>\n",
       "      <td>-0.7199</td>\n",
       "      <td>-0.2731</td>\n",
       "      <td>0.5646</td>\n",
       "      <td>7252.2412</td>\n",
       "      <td>7167.1137</td>\n",
       "      <td>7247.5631</td>\n",
       "      <td>7164.6740</td>\n",
       "      <td>0.02295</td>\n",
       "      <td>-0.09075</td>\n",
       "      <td>0.01480</td>\n",
       "      <td>-0.07765</td>\n",
       "      <td>28831.5920</td>\n",
       "      <td>0.008762</td>\n",
       "      <td>0.006249</td>\n",
       "    </tr>\n",
       "    <tr>\n",
       "      <th>8401</th>\n",
       "      <td>4</td>\n",
       "      <td>4</td>\n",
       "      <td>4</td>\n",
       "      <td>4</td>\n",
       "      <td>1883</td>\n",
       "      <td>1884</td>\n",
       "      <td>1890</td>\n",
       "      <td>1886</td>\n",
       "      <td>1521.96660</td>\n",
       "      <td>2587.501600</td>\n",
       "      <td>0.1219</td>\n",
       "      <td>0.1009</td>\n",
       "      <td>0.1826</td>\n",
       "      <td>0.1855</td>\n",
       "      <td>0.1236</td>\n",
       "      <td>0.1022</td>\n",
       "      <td>0.1838</td>\n",
       "      <td>0.1880</td>\n",
       "      <td>0.4541</td>\n",
       "      <td>0.4191</td>\n",
       "      <td>0.0415</td>\n",
       "      <td>0.2235</td>\n",
       "      <td>0.4521</td>\n",
       "      <td>0.4062</td>\n",
       "      <td>0.0376</td>\n",
       "      <td>0.1919</td>\n",
       "      <td>7177.7872</td>\n",
       "      <td>7225.5875</td>\n",
       "      <td>7188.8969</td>\n",
       "      <td>7239.4424</td>\n",
       "      <td>0.24780</td>\n",
       "      <td>0.32130</td>\n",
       "      <td>0.24485</td>\n",
       "      <td>0.29905</td>\n",
       "      <td>28831.7140</td>\n",
       "      <td>0.164639</td>\n",
       "      <td>0.149382</td>\n",
       "    </tr>\n",
       "    <tr>\n",
       "      <th>59935</th>\n",
       "      <td>32</td>\n",
       "      <td>32</td>\n",
       "      <td>32</td>\n",
       "      <td>32</td>\n",
       "      <td>5186</td>\n",
       "      <td>5151</td>\n",
       "      <td>5176</td>\n",
       "      <td>5165</td>\n",
       "      <td>2139.64900</td>\n",
       "      <td>1722.205700</td>\n",
       "      <td>0.1210</td>\n",
       "      <td>0.2170</td>\n",
       "      <td>0.1220</td>\n",
       "      <td>0.2762</td>\n",
       "      <td>0.1213</td>\n",
       "      <td>0.2177</td>\n",
       "      <td>0.1223</td>\n",
       "      <td>0.2788</td>\n",
       "      <td>-0.7589</td>\n",
       "      <td>0.4242</td>\n",
       "      <td>-0.9180</td>\n",
       "      <td>0.1720</td>\n",
       "      <td>-0.7687</td>\n",
       "      <td>0.4426</td>\n",
       "      <td>-0.9305</td>\n",
       "      <td>0.1679</td>\n",
       "      <td>7318.6860</td>\n",
       "      <td>7098.8086</td>\n",
       "      <td>7312.6648</td>\n",
       "      <td>7101.6244</td>\n",
       "      <td>-0.83845</td>\n",
       "      <td>0.29810</td>\n",
       "      <td>-0.84960</td>\n",
       "      <td>0.30525</td>\n",
       "      <td>28831.7838</td>\n",
       "      <td>0.791862</td>\n",
       "      <td>0.814998</td>\n",
       "    </tr>\n",
       "  </tbody>\n",
       "</table>\n",
       "</div>"
      ],
      "text/plain": [
       "        fN[0][0]  fN[1][0]  fN[2][0]  fN[3][0]  id[0][0]  id[1][0]  id[2][0]  \\\n",
       "83580         45        45        45        45      5024      5023      5167   \n",
       "117530        64        64        64        64      2849      2877      2861   \n",
       "17280          9         9         9         9      2489      2513      2515   \n",
       "8401           4         4         4         4      1883      1884      1890   \n",
       "59935         32        32        32        32      5186      5151      5176   \n",
       "\n",
       "        id[3][0]        x[0]         x[1]  errx[0][0]  errx[0][1]  errx[1][0]  \\\n",
       "83580       5012   942.04948  1580.787400      0.0766      0.1245      0.0555   \n",
       "117530      2809  1963.91750   244.309000      0.2448      0.2462      0.2450   \n",
       "17280       2524  1988.62830    32.884575      0.0609      0.0584      0.0555   \n",
       "8401        1886  1521.96660  2587.501600      0.1219      0.1009      0.1826   \n",
       "59935       5165  2139.64900  1722.205700      0.1210      0.2170      0.1220   \n",
       "\n",
       "        errx[1][1]  errx[2][0]  errx[2][1]  errx[3][0]  errx[3][1]  g[0][0]  \\\n",
       "83580       0.0743      0.0782      0.1267      0.0558      0.0739  -1.0084   \n",
       "117530      0.2529      0.2433      0.2471      0.2442      0.2483  -0.0146   \n",
       "17280       0.0596      0.0611      0.0587      0.0556      0.0595   0.3002   \n",
       "8401        0.1855      0.1236      0.1022      0.1838      0.1880   0.4541   \n",
       "59935       0.2762      0.1213      0.2177      0.1223      0.2788  -0.7589   \n",
       "\n",
       "        g[0][1]  g[1][0]  g[1][1]  g[2][0]  g[2][1]  g[3][0]  g[3][1]  \\\n",
       "83580   -0.1055  -1.2504  -0.0726  -1.1342  -0.1470  -1.3563  -0.0703   \n",
       "117530  -0.9051  -0.0084  -0.8675  -0.0122  -0.9108   0.0084  -0.8762   \n",
       "17280   -0.8437  -0.2543   0.6622   0.3027  -0.7199  -0.2731   0.5646   \n",
       "8401     0.4191   0.0415   0.2235   0.4521   0.4062   0.0376   0.1919   \n",
       "59935    0.4242  -0.9180   0.1720  -0.7687   0.4426  -0.9305   0.1679   \n",
       "\n",
       "        flux[0][0]  flux[1][0]  flux[2][0]  flux[3][0]    gm[0]    gm[1]  \\\n",
       "83580    7765.5664   6877.3049   7340.2358   6847.7658 -1.12940 -0.08905   \n",
       "117530   7194.7260   7234.7395   7175.5338   7226.0433 -0.01150 -0.88630   \n",
       "17280    7252.2412   7167.1137   7247.5631   7164.6740  0.02295 -0.09075   \n",
       "8401     7177.7872   7225.5875   7188.8969   7239.4424  0.24780  0.32130   \n",
       "59935    7318.6860   7098.8086   7312.6648   7101.6244 -0.83845  0.29810   \n",
       "\n",
       "          gc[0]    gc[1]        flux     gm_sq     gc_sq  \n",
       "83580  -1.24525 -0.10865  28830.8729  1.283474  1.562452  \n",
       "117530 -0.00190 -0.89350  28831.0426  0.785660  0.798346  \n",
       "17280   0.01480 -0.07765  28831.5920  0.008762  0.006249  \n",
       "8401    0.24485  0.29905  28831.7140  0.164639  0.149382  \n",
       "59935  -0.84960  0.30525  28831.7838  0.791862  0.814998  "
      ]
     },
     "execution_count": 30,
     "metadata": {},
     "output_type": "execute_result"
    }
   ],
   "source": [
    "bucket25 = dfn[j]\n",
    "print(bucket25.shape)\n",
    "bucket25.head()"
   ]
  },
  {
   "cell_type": "code",
   "execution_count": 31,
   "metadata": {
    "collapsed": false,
    "deletable": true,
    "editable": true
   },
   "outputs": [
    {
     "data": {
      "text/plain": [
       "100"
      ]
     },
     "execution_count": 31,
     "metadata": {},
     "output_type": "execute_result"
    }
   ],
   "source": [
    "# Look at all the file numbers (fN) that has dense population\n",
    "\n",
    "bucket25['fN[0][0]'].nunique() # there are all 100 files which have at least one\n",
    "  # bad dense population"
   ]
  },
  {
   "cell_type": "code",
   "execution_count": 32,
   "metadata": {
    "collapsed": false,
    "deletable": true,
    "editable": true
   },
   "outputs": [
    {
     "data": {
      "text/plain": [
       "(577, 37)"
      ]
     },
     "execution_count": 32,
     "metadata": {},
     "output_type": "execute_result"
    }
   ],
   "source": [
    "high_gm_sq = bucket25.query(\"0.7 < gm_sq < 1.0\")\n",
    "high_gm_sq.shape"
   ]
  },
  {
   "cell_type": "code",
   "execution_count": 33,
   "metadata": {
    "collapsed": false,
    "deletable": true,
    "editable": true
   },
   "outputs": [
    {
     "data": {
      "text/plain": [
       "18.83159268929504"
      ]
     },
     "execution_count": 33,
     "metadata": {},
     "output_type": "execute_result"
    }
   ],
   "source": [
    "high_gm_sq.shape[0] / bucket25.shape[0] * 100 # % of dense objects"
   ]
  },
  {
   "cell_type": "code",
   "execution_count": 35,
   "metadata": {
    "collapsed": false,
    "deletable": true,
    "editable": true
   },
   "outputs": [
    {
     "data": {
      "image/png": "[encoded data removed]",
      "text/plain": [
       "<matplotlib.figure.Figure at 0x12a3ffb38>"
      ]
     },
     "metadata": {
      "image/png": {
       "height": 264,
       "width": 419
      }
     },
     "output_type": "display_data"
    }
   ],
   "source": [
    "plt.title('bucket 25')\n",
    "bucket25['gm_sq'].hist(bins=20);"
   ]
  },
  {
   "cell_type": "code",
   "execution_count": 63,
   "metadata": {
    "collapsed": false,
    "deletable": true,
    "editable": true
   },
   "outputs": [
    {
     "data": {
      "image/png": "[encoded data removed]",
      "text/plain": [
       "<matplotlib.figure.Figure at 0x133fac2e8>"
      ]
     },
     "metadata": {
      "image/png": {
       "height": 264,
       "width": 419
      }
     },
     "output_type": "display_data"
    }
   ],
   "source": [
    "# compare with bucket0\n",
    "plt.title('bucket 0')\n",
    "dfn[0]['gm_sq'].hist(bins=20);"
   ]
  },
  {
   "cell_type": "markdown",
   "metadata": {
    "deletable": true,
    "editable": true,
    "heading_collapsed": true
   },
   "source": [
    "# Fitting cubic function after bucketing\n",
    "```\n",
    "In numpy polyfit the function np.polyfit(x,y,degree) gives polyfit object,\n",
    "then to get coeffs we need to use np.poly1d(z) for the new values z.\n",
    "\n",
    "The polynomial of degree deg is given below:\n",
    "p(x) = p[0] * x**deg + p[1] * x**(deg-1) + ... + p[deg]\n",
    "p(x) = ax**3 + bx**2 + cx + d\n",
    "\n",
    "# first fit the polynomial and get coeffs\n",
    "z = np.polyfit(x,y,3)\n",
    "\n",
    "# then get the polynomial object to calculate new values\n",
    "p = np.poly1d(z) # gives poly1d object\n",
    "p.coeffs # gives coeffs which are same as z\n",
    "p(1000) # gives the value of polynomial when x=1000.\n",
    "```"
   ]
  },
  {
   "cell_type": "code",
   "execution_count": null,
   "metadata": {
    "collapsed": false,
    "deletable": true,
    "editable": true,
    "hidden": true
   },
   "outputs": [],
   "source": [
    "df.columns"
   ]
  },
  {
   "cell_type": "code",
   "execution_count": null,
   "metadata": {
    "collapsed": false,
    "deletable": true,
    "editable": true,
    "hidden": true
   },
   "outputs": [],
   "source": [
    "# take only mean gm gc flux in each buckets, and take unique values\n",
    "gm_sq_mean = [dx['gm_sq'].mean() for dx in dfn]\n",
    "gc_sq_mean = [dx['gm_sq'].mean() for dx in dfn]\n",
    "flux_mean = [dx['flux'].mean() for dx in dfn]\n",
    "\n",
    "gmSqMean_gcSqMean_fluxMean = pd.DataFrame({\n",
    "    'gm_sq_mean': gm_sq_mean,\n",
    "    'gc_sq_mean': gc_sq_mean,\n",
    "    'flux_mean': flux_mean\n",
    "})\n",
    "\n",
    "\n",
    "print(gmSqMean_gcSqMean_fluxMean)"
   ]
  },
  {
   "cell_type": "markdown",
   "metadata": {
    "deletable": true,
    "editable": true
   },
   "source": [
    "# gm_sq_mean vs flux_mean in each buckets"
   ]
  },
  {
   "cell_type": "code",
   "execution_count": null,
   "metadata": {
    "collapsed": false,
    "deletable": true,
    "editable": true
   },
   "outputs": [],
   "source": [
    "gmSqMean_gcSqMean_fluxMean.plot.scatter(x='flux_mean',y='gm_sq_mean')"
   ]
  },
  {
   "cell_type": "code",
   "execution_count": null,
   "metadata": {
    "collapsed": true,
    "deletable": true,
    "editable": true
   },
   "outputs": [],
   "source": [
    "x = gmSqMean_gcSqMean_fluxMean['flux_mean'].values\n",
    "y = gmSqMean_gcSqMean_fluxMean['gm_sq_mean'].values"
   ]
  },
  {
   "cell_type": "code",
   "execution_count": null,
   "metadata": {
    "collapsed": false,
    "deletable": true,
    "editable": true
   },
   "outputs": [],
   "source": [
    "# plot x=flux y=gm_sq_mean\n",
    "plt.plot(x, y, '.')\n",
    "\n",
    "\n",
    "# polynomial fit\n",
    "degree = 3\n",
    "z = np.polyfit(x,y,degree)\n",
    "p = np.poly1d(z)\n",
    "\n",
    "# polynomial plot\n",
    "xp = np.linspace(x.min(), x.max(), 1000)\n",
    "plt.plot(xp, p(xp), '-')\n",
    "plt.xlabel('flux_mean')\n",
    "plt.ylabel('gm_sq_mean')"
   ]
  },
  {
   "cell_type": "code",
   "execution_count": null,
   "metadata": {
    "collapsed": false,
    "deletable": true,
    "editable": true
   },
   "outputs": [],
   "source": [
    "z"
   ]
  },
  {
   "cell_type": "code",
   "execution_count": null,
   "metadata": {
    "collapsed": false,
    "deletable": true,
    "editable": true
   },
   "outputs": [],
   "source": [
    "p"
   ]
  },
  {
   "cell_type": "code",
   "execution_count": null,
   "metadata": {
    "collapsed": false,
    "deletable": true,
    "editable": true
   },
   "outputs": [],
   "source": [
    "def plot_poly(x,y,degree, *args):\n",
    "    \"\"\" Plot the data with given degree of polynomial.\n",
    "    \n",
    "    Example:\n",
    "    plot_poly(x,y,3)\n",
    "    plot_poly(x,y,3,'x','y','title')\n",
    "    \n",
    "    Returns: p\n",
    "    \n",
    "    Usage:\n",
    "    x_value = 100\n",
    "    p(x_value) gives the polynomial fit of x_value\n",
    "    \n",
    "    \"\"\"\n",
    "    plt.figure(figsize=(12,8))\n",
    "    plt.title('')\n",
    "    plt.plot(x, y,'b.')\n",
    "\n",
    "    # polynomial fit\n",
    "    z = np.polyfit(x ,y,degree)\n",
    "    p = np.poly1d(z)\n",
    "\n",
    "\n",
    "    # polynomial plot\n",
    "    xp = np.linspace(x.min(), x.max(), 1000)\n",
    "    signs = ['+' if i>0 else '-' for i in p.coeffs][::-1]\n",
    "    label = '  '.join(['%s %.2g x**%i'%(signs[i], abs(p.coeffs[~i]),i) for i in reversed(range(degree+1))])\n",
    "    label = label.replace('x**0','')\n",
    "    label = label.replace('x**1','x')\n",
    "    label = label.lstrip('+')\n",
    "    plt.plot(xp, p(xp), '-',label=label)\n",
    "    if len(args) > 0: plt.xlabel(args[0])\n",
    "    if len(args) > 1: plt.ylabel(args[1])\n",
    "    if len(args) > 2: plt.title(args[2])\n",
    "    plt.legend()\n",
    "    \n",
    "    return plt"
   ]
  },
  {
   "cell_type": "code",
   "execution_count": null,
   "metadata": {
    "collapsed": false,
    "deletable": true,
    "editable": true
   },
   "outputs": [],
   "source": [
    "p = plot_poly(x,y,3,'flux_mean','gm_sq_mean')"
   ]
  },
  {
   "cell_type": "code",
   "execution_count": null,
   "metadata": {
    "collapsed": false,
    "deletable": true,
    "editable": true
   },
   "outputs": [],
   "source": [
    "plt.hist(y,bins=10)"
   ]
  },
  {
   "cell_type": "code",
   "execution_count": null,
   "metadata": {
    "collapsed": false,
    "deletable": true,
    "editable": true
   },
   "outputs": [],
   "source": [
    "print(y)"
   ]
  },
  {
   "cell_type": "code",
   "execution_count": null,
   "metadata": {
    "collapsed": false,
    "deletable": true,
    "editable": true
   },
   "outputs": [],
   "source": [
    "print(y.shape)"
   ]
  },
  {
   "cell_type": "markdown",
   "metadata": {
    "deletable": true,
    "editable": true,
    "heading_collapsed": true
   },
   "source": [
    "# Attempt: Fit log-normal distribution\n",
    "\n",
    "We can fit log-normal distribution if the log(x) follows normal distribution.\n",
    "We can test normality using Shapiro test."
   ]
  },
  {
   "cell_type": "code",
   "execution_count": null,
   "metadata": {
    "collapsed": false,
    "deletable": true,
    "editable": true,
    "hidden": true
   },
   "outputs": [],
   "source": [
    "rv = np.array(y).ravel() # random variate\n",
    " \n",
    "\n",
    "# the data is lognormal if np.log(data) is normal\n",
    "pvalue = stats.shapiro(np.log(rv))[-1]\n",
    "\n",
    "print(\"level of significance alpha                    = \", 0.01)\n",
    "print(\"p-value for `accepting` lognormality of x-data = \", pvalue)\n",
    "print(\"Conclusion: The array come from lognormal distribution\" if pvalue>0.01\n",
    "      else \"Conclusion: The array isn't lognormal.\")\n",
    " \n",
    "# Note: median and mean values could significantly differ in case of lognormal distribution\n",
    "print()\n",
    "print('Raw mean value of x-data is              : ',  np.mean(rv)) \n",
    "print('Mean value of related normal distribution: ',  np.mean(np.log(rv))) \n",
    "print('Mapped mean value                        : ',  np.exp(np.mean(np.log(rv)))) \n",
    "  \n",
    "s, loc, scale = stats.lognorm.fit(rv, floc=0) # fitting lognormal\n",
    "estimated_mu = np.log(scale)\n",
    " \n",
    "print(\"Estimated mu after fitting              :  \", estimated_mu)"
   ]
  },
  {
   "cell_type": "code",
   "execution_count": null,
   "metadata": {
    "collapsed": false,
    "deletable": true,
    "editable": true,
    "hidden": true
   },
   "outputs": [],
   "source": [
    "# y is our random variate\n",
    "# get log-normal fit params\n",
    "shape, loc, scale = stats.lognorm.fit(y, floc=0) # hold location to 0 while fitting\n",
    "\n",
    "# for scipy we need shape, loc, scale\n",
    "# but the log-normal distribution generally can be described by mu and sigma.\n",
    "mu, sigma = np.log(scale), shape\n",
    "mu, sigma"
   ]
  },
  {
   "cell_type": "code",
   "execution_count": null,
   "metadata": {
    "collapsed": false,
    "deletable": true,
    "editable": true,
    "hidden": true
   },
   "outputs": [],
   "source": [
    "# fit log-normal distribution to the data\n",
    "sample = y\n",
    "params = stats.lognorm.fit(sample, floc=0)\n",
    "\n",
    "# plot sample\n",
    "# x_axis = x\n",
    "x_axis = np.linspace(0,10,len(sample))\n",
    "\n",
    "plt.figure(figsize=(12,8))\n",
    "plt.plot(x_axis, sample,'b.',label='Original sample')\n",
    "\n",
    "\n",
    "# fit lognormal\n",
    "params = stats.lognorm.fit(sample, floc=0)\n",
    "y_axis = stats.lognorm.pdf(x_axis, *params)\n",
    "\n",
    "# plot\n",
    "plt.title('Fitted Lognormal (looks BAD!)')\n",
    "plt.plot(x_axis, y_axis,label='Fitted Lognormal')\n",
    "plt.legend()\n",
    "plt.show()"
   ]
  },
  {
   "cell_type": "markdown",
   "metadata": {
    "collapsed": true,
    "deletable": true,
    "editable": true
   },
   "source": [
    "# Attempt: Fit two functions \n",
    "The curve of flux vs shear shows two clear parts, one below the peak which is increasing steep, \n",
    "and another after the peak, which is decreasing more relaxedly.\n",
    "I will fit two different polynomials to two parts."
   ]
  },
  {
   "cell_type": "markdown",
   "metadata": {
    "deletable": true,
    "editable": true
   },
   "source": [
    "## Left part"
   ]
  },
  {
   "cell_type": "code",
   "execution_count": null,
   "metadata": {
    "collapsed": false,
    "deletable": true,
    "editable": true
   },
   "outputs": [],
   "source": [
    "# just looking all y-values\n",
    "plt.title('gm-sq-mean values')\n",
    "plt.plot(x,y,'b.')"
   ]
  },
  {
   "cell_type": "code",
   "execution_count": null,
   "metadata": {
    "collapsed": false,
    "deletable": true,
    "editable": true
   },
   "outputs": [],
   "source": [
    "y_lt = y[:np.argmax(y)]\n",
    "x_lt = x[:np.argmax(y)]\n",
    "plt.title('gm-sq-mean values left')\n",
    "plt.plot(x_lt, y_lt,'b.')"
   ]
  },
  {
   "cell_type": "code",
   "execution_count": null,
   "metadata": {
    "collapsed": false,
    "deletable": true,
    "editable": true
   },
   "outputs": [],
   "source": [
    "plot_poly(x_lt,y_lt,3,'flux_mean','gm_sq_mean','Left Part')"
   ]
  },
  {
   "cell_type": "code",
   "execution_count": null,
   "metadata": {
    "collapsed": false,
    "deletable": true,
    "editable": true
   },
   "outputs": [],
   "source": [
    "degree = 3\n",
    "z = np.polyfit(x_lt,y_lt,degree)\n",
    "p = np.poly1d(z)\n",
    "\n",
    "t = 20000\n",
    "ans = -1.36860393e-13 * t**3 + 8.08589565e-09 * t**2 -1.33709075e-04 * t + 8.54318209e-01\n",
    "ans2 = p(t)\n",
    "\n",
    "ans, ans2"
   ]
  },
  {
   "cell_type": "markdown",
   "metadata": {
    "deletable": true,
    "editable": true
   },
   "source": [
    "## Right part"
   ]
  },
  {
   "cell_type": "code",
   "execution_count": null,
   "metadata": {
    "collapsed": false,
    "deletable": true,
    "editable": true
   },
   "outputs": [],
   "source": [
    "# second region data\n",
    "y_rt = y[np.argmax(y):-1] # I excluded one last point\n",
    "x_rt = x[np.argmax(y):-1]\n",
    "\n",
    "p = plot_poly(x_rt,y_rt,3,'flux_mean','gm_sq_mean','Right Part')"
   ]
  },
  {
   "cell_type": "code",
   "execution_count": null,
   "metadata": {
    "collapsed": false,
    "deletable": true,
    "editable": true
   },
   "outputs": [],
   "source": [
    "plot_poly(x_lt,y_lt,3,'flux_mean','gm_sq_mean','Left Part')\n",
    "plot_poly(x_rt,y_rt,3,'flux_mean','gm_sq_mean','Right Part')"
   ]
  },
  {
   "cell_type": "code",
   "execution_count": null,
   "metadata": {
    "collapsed": true,
    "deletable": true,
    "editable": true
   },
   "outputs": [],
   "source": []
  }
 ],
 "metadata": {
  "kernelspec": {
   "display_name": "Python 3",
   "language": "python",
   "name": "python3"
  },
  "language_info": {
   "codemirror_mode": {
    "name": "ipython",
    "version": 3
   },
   "file_extension": ".py",
   "mimetype": "text/x-python",
   "name": "python",
   "nbconvert_exporter": "python",
   "pygments_lexer": "ipython3",
   "version": "3.5.2"
  },
  "toc": {
   "colors": {
    "hover_highlight": "#DAA520",
    "navigate_num": "#000000",
    "navigate_text": "#333333",
    "running_highlight": "#FF0000",
    "selected_highlight": "#FFD700",
    "sidebar_border": "#EEEEEE",
    "wrapper_background": "#FFFFFF"
   },
   "moveMenuLeft": true,
   "nav_menu": {
    "height": "189px",
    "width": "252px"
   },
   "navigate_menu": true,
   "number_sections": true,
   "sideBar": true,
   "threshold": 4,
   "toc_cell": true,
   "toc_section_display": "block",
   "toc_window_display": true,
   "widenNotebook": false
  }
 },
 "nbformat": 4,
 "nbformat_minor": 2
}
