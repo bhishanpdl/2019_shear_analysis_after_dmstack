{
 "cells": [
  {
   "cell_type": "markdown",
   "metadata": {
    "deletable": true,
    "editable": true,
    "toc": "true"
   },
   "source": [
    "# Table of Contents\n",
    " <p><div class=\"lev1 toc-item\"><a href=\"#Introduction\" data-toc-modified-id=\"Introduction-1\"><span class=\"toc-item-num\">1&nbsp;&nbsp;</span>Introduction</a></div><div class=\"lev1 toc-item\"><a href=\"#Read-processed-dmstack-files\" data-toc-modified-id=\"Read-processed-dmstack-files-2\"><span class=\"toc-item-num\">2&nbsp;&nbsp;</span>Read processed dmstack files</a></div><div class=\"lev1 toc-item\"><a href=\"#Look-at-first-lsst-file-(lsst_000)\" data-toc-modified-id=\"Look-at-first-lsst-file-(lsst_000)-3\"><span class=\"toc-item-num\">3&nbsp;&nbsp;</span>Look at first lsst file (lsst_000)</a></div><div class=\"lev1 toc-item\"><a href=\"#Create-new-columns\" data-toc-modified-id=\"Create-new-columns-4\"><span class=\"toc-item-num\">4&nbsp;&nbsp;</span>Create new columns</a></div><div class=\"lev1 toc-item\"><a href=\"#Distribution-of-e_sq\" data-toc-modified-id=\"Distribution-of-e_sq-5\"><span class=\"toc-item-num\">5&nbsp;&nbsp;</span>Distribution of e_sq</a></div><div class=\"lev1 toc-item\"><a href=\"#Distance-of-objects-in-a-file-from-cetroid-of-that-file\" data-toc-modified-id=\"Distance-of-objects-in-a-file-from-cetroid-of-that-file-6\"><span class=\"toc-item-num\">6&nbsp;&nbsp;</span>Distance of objects in a file from cetroid of that file</a></div><div class=\"lev1 toc-item\"><a href=\"#Bad-density-percentage-of-100-lsst-files\" data-toc-modified-id=\"Bad-density-percentage-of-100-lsst-files-7\"><span class=\"toc-item-num\">7&nbsp;&nbsp;</span>Bad density percentage of 100 lsst files</a></div>"
   ]
  },
  {
   "cell_type": "markdown",
   "metadata": {
    "deletable": true,
    "editable": true
   },
   "source": [
    "# Introduction\n",
    "\n",
    "Date: Jul 17, 2019\n",
    "\n",
    "1. In jedisim we used ngals = 10k, z = 1.5 and did 100 simulations. jedisim gives l,l9,m,m9 for each 100 simulations (total 100*4 = 400 fitsfiles).\n",
    "\n",
    "2. Dmstack gives 400 csv files from 400 jedisim outputs.\n",
    "   Each csv output has 90 flags and 76 parameters.\n",
    "\n",
    "3. After dmstack we clean and filter csv fiels to get txt files with \n",
    "   few columns of    interest. \n",
    "   - no nans\n",
    "   - e <= 1.5,\n",
    "   - not psf candidate\n",
    "   - have no child.\n",
    "\n",
    "4. We use combine four txt files l.txt, l9.txt, m.txt, m9.txt in IMCAT\n",
    "   and get final0.cat\n",
    "   and combine 100 final.cat files to get final.cat and then final_text.txt file.\n",
    "\n",
    "5. The output of imcat program final_text.txt has more columns than txt output of\n",
    "   processed dmstack output.\n",
    "   ```\n",
    "   fN    00 10 20 30  # fN means file number\n",
    "   id    00 10 20 30\n",
    "   flux  00 10 20 30\n",
    "\n",
    "   x  0 1\n",
    "   gm 0 1\n",
    "   gc 0 1\n",
    "   \n",
    "   errx 00 01 10 11 20 21 30 31\n",
    "   g    00 01 10 11 20 21 30 31 # there is no erry here in imcat output\n",
    "   \n",
    "   So, in total there are\n",
    "   3 * 4 + 3 * 2 + 2 * 8 = 8 + 6 + 16 = 34 columns in final.cat file.\n",
    "   ```\n",
    "   \n",
    "**Previous Work**  \n",
    "I found there are many objects which have 0.7 < gm_sq < 1.0. I need to find out\n",
    "where are they in the original fitsfiles.\n",
    "\n",
    "**Current Work**  \n",
    "- The dmstack work on the jedisim_output + wcs + psf fitsfile.\n",
    "- I calculated centroid (center of mass) of 400 fitsfiles\n",
    "  using scipy ndimage center of mass.\n",
    "- I looked at the each of 400 files and their portion of objects in the range\n",
    "  0.7 < gm_sq < 1.0 and their distance from the centroid."
   ]
  },
  {
   "cell_type": "markdown",
   "metadata": {
    "deletable": true,
    "editable": true
   },
   "source": [
    "# Read processed dmstack files"
   ]
  },
  {
   "cell_type": "code",
   "execution_count": 1,
   "metadata": {
    "collapsed": false,
    "deletable": true,
    "editable": true
   },
   "outputs": [
    {
     "name": "stdout",
     "output_type": "stream",
     "text": [
      "../a08_july5_2019/src_lsst90_z1.5_000.txt\r\n",
      "../a08_july5_2019/src_lsst90_z1.5_001.txt\r\n",
      "../a08_july5_2019/src_lsst90_z1.5_002.txt\r\n",
      "../a08_july5_2019/src_lsst90_z1.5_003.txt\r\n",
      "../a08_july5_2019/src_lsst90_z1.5_004.txt\r\n",
      "../a08_july5_2019/src_lsst90_z1.5_005.txt\r\n",
      "../a08_july5_2019/src_lsst90_z1.5_006.txt\r\n",
      "../a08_july5_2019/src_lsst90_z1.5_007.txt\r\n",
      "../a08_july5_2019/src_lsst90_z1.5_008.txt\r\n",
      "../a08_july5_2019/src_lsst90_z1.5_009.txt\r\n"
     ]
    }
   ],
   "source": [
    "!ls ../a08_july5_2019/*.txt | head # This gives lsst90 but I look at lsst"
   ]
  },
  {
   "cell_type": "code",
   "execution_count": 2,
   "metadata": {
    "collapsed": false,
    "deletable": true,
    "editable": true
   },
   "outputs": [
    {
     "name": "stdout",
     "output_type": "stream",
     "text": [
      "# file_number           id           base_SdssCentroid_x           base_SdssCentroid_y           base_SdssCentroid_xSigma           base_SdssCentroid_ySigma           ext_shapeHSM_HsmShapeRegauss_e1           ext_shapeHSM_HsmShapeRegauss_e2           base_SdssShape_flux\r\n",
      "0.000000000000000000e+00\t3.000000000000000000e+01\t1.877364299999999957e+03\t2.783330000000000126e+01\t3.300000000000000155e-01\t2.990999999999999770e-01\t1.607999999999999985e-01\t-2.922000000000000153e-01\t3.044910100000000057e+03\r\n"
     ]
    }
   ],
   "source": [
    "!head -2 ../a08_july5_2019/src_lsst_z1.5_000.txt"
   ]
  },
  {
   "cell_type": "code",
   "execution_count": 3,
   "metadata": {
    "collapsed": true,
    "deletable": true,
    "editable": true
   },
   "outputs": [],
   "source": [
    "# Now we will read file using pandas"
   ]
  },
  {
   "cell_type": "code",
   "execution_count": 4,
   "metadata": {
    "collapsed": false,
    "deletable": true,
    "editable": true
   },
   "outputs": [
    {
     "data": {
      "application/json": {
       "Software versions": [
        {
         "module": "Python",
         "version": "3.5.2 64bit [GCC 4.2.1 Compatible Apple LLVM 6.0 (clang-600.0.57)]"
        },
        {
         "module": "IPython",
         "version": "7.4.0"
        },
        {
         "module": "OS",
         "version": "Darwin 14.5.0 x86_64 i386 64bit"
        },
        {
         "module": "numpy",
         "version": "1.11.0"
        },
        {
         "module": "scipy",
         "version": "0.19.0"
        },
        {
         "module": "pandas",
         "version": "0.20.0"
        },
        {
         "module": "sklearn",
         "version": "0.18.1"
        },
        {
         "module": "matplotlib",
         "version": "2.0.0"
        },
        {
         "module": "seaborn",
         "version": "0.7.1"
        }
       ]
      },
      "text/html": [
       "<table><tr><th>Software</th><th>Version</th></tr><tr><td>Python</td><td>3.5.2 64bit [GCC 4.2.1 Compatible Apple LLVM 6.0 (clang-600.0.57)]</td></tr><tr><td>IPython</td><td>7.4.0</td></tr><tr><td>OS</td><td>Darwin 14.5.0 x86_64 i386 64bit</td></tr><tr><td>numpy</td><td>1.11.0</td></tr><tr><td>scipy</td><td>0.19.0</td></tr><tr><td>pandas</td><td>0.20.0</td></tr><tr><td>sklearn</td><td>0.18.1</td></tr><tr><td>matplotlib</td><td>2.0.0</td></tr><tr><td>seaborn</td><td>0.7.1</td></tr><tr><td colspan='2'>Fri Jul 19 11:03:41 2019 EDT</td></tr></table>"
      ],
      "text/latex": [
       "\\begin{tabular}{|l|l|}\\hline\n",
       "{\\bf Software} & {\\bf Version} \\\\ \\hline\\hline\n",
       "Python & 3.5.2 64bit [GCC 4.2.1 Compatible Apple LLVM 6.0 (clang-600.0.57)] \\\\ \\hline\n",
       "IPython & 7.4.0 \\\\ \\hline\n",
       "OS & Darwin 14.5.0 x86\\_64 i386 64bit \\\\ \\hline\n",
       "numpy & 1.11.0 \\\\ \\hline\n",
       "scipy & 0.19.0 \\\\ \\hline\n",
       "pandas & 0.20.0 \\\\ \\hline\n",
       "sklearn & 0.18.1 \\\\ \\hline\n",
       "matplotlib & 2.0.0 \\\\ \\hline\n",
       "seaborn & 0.7.1 \\\\ \\hline\n",
       "\\hline \\multicolumn{2}{|l|}{Fri Jul 19 11:03:41 2019 EDT} \\\\ \\hline\n",
       "\\end{tabular}\n"
      ],
      "text/plain": [
       "Software versions\n",
       "Python 3.5.2 64bit [GCC 4.2.1 Compatible Apple LLVM 6.0 (clang-600.0.57)]\n",
       "IPython 7.4.0\n",
       "OS Darwin 14.5.0 x86_64 i386 64bit\n",
       "numpy 1.11.0\n",
       "scipy 0.19.0\n",
       "pandas 0.20.0\n",
       "sklearn 0.18.1\n",
       "matplotlib 2.0.0\n",
       "seaborn 0.7.1\n",
       "Fri Jul 19 11:03:41 2019 EDT"
      ]
     },
     "execution_count": 4,
     "metadata": {},
     "output_type": "execute_result"
    }
   ],
   "source": [
    "import numpy as np\n",
    "import pandas as pd\n",
    "import seaborn as sns\n",
    "sns.set(color_codes=True)\n",
    "\n",
    "import matplotlib.pyplot as plt\n",
    "plt.rcParams[\"figure.figsize\"] = [10, 8]\n",
    "plt.style.use('fivethirtyeight')\n",
    "%matplotlib inline\n",
    "%config InlineBackend.figure_format = 'retina'\n",
    "\n",
    "import scipy\n",
    "import scipy.stats as stats\n",
    "\n",
    "# Jupyter notebook settings for pandas\n",
    "pd.set_option('display.max_columns', None)\n",
    "pd.set_option('display.max_rows', 100) # None for all the rows\n",
    "pd.set_option('display.max_colwidth', 500)\n",
    "\n",
    "%load_ext version_information\n",
    "%version_information numpy,  scipy, pandas, sklearn, matplotlib, seaborn"
   ]
  },
  {
   "cell_type": "code",
   "execution_count": 5,
   "metadata": {
    "collapsed": false,
    "deletable": true,
    "editable": true
   },
   "outputs": [
    {
     "data": {
      "application/javascript": [
       "\n",
       "/* show long output*/\n",
       "IPython.OutputArea.auto_scroll_threshold = 9999;\n"
      ],
      "text/plain": [
       "<IPython.core.display.Javascript object>"
      ]
     },
     "metadata": {},
     "output_type": "display_data"
    }
   ],
   "source": [
    "%%javascript\n",
    "\n",
    "/* show long output*/\n",
    "IPython.OutputArea.auto_scroll_threshold = 9999;"
   ]
  },
  {
   "cell_type": "markdown",
   "metadata": {
    "deletable": true,
    "editable": true
   },
   "source": [
    "# Look at first lsst file (lsst_000)"
   ]
  },
  {
   "cell_type": "code",
   "execution_count": 6,
   "metadata": {
    "collapsed": false,
    "deletable": true,
    "editable": true
   },
   "outputs": [
    {
     "data": {
      "text/plain": [
       "Index(['file_number', 'id', 'base_SdssCentroid_x', 'base_SdssCentroid_y',\n",
       "       'base_SdssCentroid_xSigma', 'base_SdssCentroid_ySigma',\n",
       "       'ext_shapeHSM_HsmShapeRegauss_e1', 'ext_shapeHSM_HsmShapeRegauss_e2',\n",
       "       'base_SdssShape_flux'],\n",
       "      dtype='object')"
      ]
     },
     "execution_count": 6,
     "metadata": {},
     "output_type": "execute_result"
    }
   ],
   "source": [
    "# the column is commented in datafile, just read the header line\n",
    "# read the  first row only and use separator whitspace.\n",
    "infile = '../a08_july5_2019/src_lsst_z1.5_000.txt'\n",
    "headers = pd.read_csv(infile,sep=r'\\s+',nrows=1).columns\n",
    "\n",
    "headers = headers[1:] # remove first # column\n",
    "headers"
   ]
  },
  {
   "cell_type": "code",
   "execution_count": 7,
   "metadata": {
    "collapsed": false,
    "deletable": true,
    "editable": true
   },
   "outputs": [
    {
     "name": "stdout",
     "output_type": "stream",
     "text": [
      "(2044, 9)\n"
     ]
    },
    {
     "data": {
      "text/html": [
       "<div>\n",
       "<style>\n",
       "    .dataframe thead tr:only-child th {\n",
       "        text-align: right;\n",
       "    }\n",
       "\n",
       "    .dataframe thead th {\n",
       "        text-align: left;\n",
       "    }\n",
       "\n",
       "    .dataframe tbody tr th {\n",
       "        vertical-align: top;\n",
       "    }\n",
       "</style>\n",
       "<table border=\"1\" class=\"dataframe\">\n",
       "  <thead>\n",
       "    <tr style=\"text-align: right;\">\n",
       "      <th></th>\n",
       "      <th>0</th>\n",
       "      <th>2043</th>\n",
       "    </tr>\n",
       "  </thead>\n",
       "  <tbody>\n",
       "    <tr>\n",
       "      <th>file_number</th>\n",
       "      <td>0.0000</td>\n",
       "      <td>0.0000</td>\n",
       "    </tr>\n",
       "    <tr>\n",
       "      <th>id</th>\n",
       "      <td>30.0000</td>\n",
       "      <td>7572.0000</td>\n",
       "    </tr>\n",
       "    <tr>\n",
       "      <th>base_SdssCentroid_x</th>\n",
       "      <td>1877.3643</td>\n",
       "      <td>30.9955</td>\n",
       "    </tr>\n",
       "    <tr>\n",
       "      <th>base_SdssCentroid_y</th>\n",
       "      <td>27.8333</td>\n",
       "      <td>3344.8463</td>\n",
       "    </tr>\n",
       "    <tr>\n",
       "      <th>base_SdssCentroid_xSigma</th>\n",
       "      <td>0.3300</td>\n",
       "      <td>0.0555</td>\n",
       "    </tr>\n",
       "    <tr>\n",
       "      <th>base_SdssCentroid_ySigma</th>\n",
       "      <td>0.2991</td>\n",
       "      <td>0.0575</td>\n",
       "    </tr>\n",
       "    <tr>\n",
       "      <th>ext_shapeHSM_HsmShapeRegauss_e1</th>\n",
       "      <td>0.1608</td>\n",
       "      <td>-0.1726</td>\n",
       "    </tr>\n",
       "    <tr>\n",
       "      <th>ext_shapeHSM_HsmShapeRegauss_e2</th>\n",
       "      <td>-0.2922</td>\n",
       "      <td>-0.0006</td>\n",
       "    </tr>\n",
       "    <tr>\n",
       "      <th>base_SdssShape_flux</th>\n",
       "      <td>3044.9101</td>\n",
       "      <td>7238.3610</td>\n",
       "    </tr>\n",
       "  </tbody>\n",
       "</table>\n",
       "</div>"
      ],
      "text/plain": [
       "                                      0          2043\n",
       "file_number                         0.0000     0.0000\n",
       "id                                 30.0000  7572.0000\n",
       "base_SdssCentroid_x              1877.3643    30.9955\n",
       "base_SdssCentroid_y                27.8333  3344.8463\n",
       "base_SdssCentroid_xSigma            0.3300     0.0555\n",
       "base_SdssCentroid_ySigma            0.2991     0.0575\n",
       "ext_shapeHSM_HsmShapeRegauss_e1     0.1608    -0.1726\n",
       "ext_shapeHSM_HsmShapeRegauss_e2    -0.2922    -0.0006\n",
       "base_SdssShape_flux              3044.9101  7238.3610"
      ]
     },
     "execution_count": 7,
     "metadata": {},
     "output_type": "execute_result"
    }
   ],
   "source": [
    "df = pd.read_csv(infile,sep=r'\\s+',comment='#',header=None)\n",
    "df.columns = headers\n",
    "print(df.shape)\n",
    "df.head(1).append(df.tail(1)).T"
   ]
  },
  {
   "cell_type": "code",
   "execution_count": 8,
   "metadata": {
    "collapsed": false,
    "deletable": true,
    "editable": true
   },
   "outputs": [
    {
     "name": "stdout",
     "output_type": "stream",
     "text": [
      "# file_number           id           base_SdssCentroid_x           base_SdssCentroid_y           base_SdssCentroid_xSigma           base_SdssCentroid_ySigma           ext_shapeHSM_HsmShapeRegauss_e1           ext_shapeHSM_HsmShapeRegauss_e2           base_SdssShape_flux\r\n",
      "0.000000000000000000e+00\t3.000000000000000000e+01\t1.877364299999999957e+03\t2.783330000000000126e+01\t3.300000000000000155e-01\t2.990999999999999770e-01\t1.607999999999999985e-01\t-2.922000000000000153e-01\t3.044910100000000057e+03\r\n"
     ]
    }
   ],
   "source": [
    "!head -2 ../a08_july5_2019/src_lsst_z1.5_000.txt"
   ]
  },
  {
   "cell_type": "code",
   "execution_count": 9,
   "metadata": {
    "collapsed": false,
    "deletable": true,
    "editable": true
   },
   "outputs": [
    {
     "name": "stdout",
     "output_type": "stream",
     "text": [
      "0.000000000000000000e+00\t7.572000000000000000e+03\t3.099549999999999983e+01\t3.344846300000000156e+03\t5.550000000000000072e-02\t5.750000000000000250e-02\t-1.726000000000000034e-01\t-5.999999999999999474e-04\t7.238360999999999876e+03\r\n"
     ]
    }
   ],
   "source": [
    "!tail -1 ../a08_july5_2019/src_lsst_z1.5_000.txt"
   ]
  },
  {
   "cell_type": "markdown",
   "metadata": {
    "deletable": true,
    "editable": true
   },
   "source": [
    "# Create new columns"
   ]
  },
  {
   "cell_type": "code",
   "execution_count": 10,
   "metadata": {
    "collapsed": false,
    "deletable": true,
    "editable": true
   },
   "outputs": [
    {
     "data": {
      "text/plain": [
       "Index(['file_number', 'id', 'base_SdssCentroid_x', 'base_SdssCentroid_y',\n",
       "       'base_SdssCentroid_xSigma', 'base_SdssCentroid_ySigma',\n",
       "       'ext_shapeHSM_HsmShapeRegauss_e1', 'ext_shapeHSM_HsmShapeRegauss_e2',\n",
       "       'base_SdssShape_flux'],\n",
       "      dtype='object')"
      ]
     },
     "execution_count": 10,
     "metadata": {},
     "output_type": "execute_result"
    }
   ],
   "source": [
    "df.columns"
   ]
  },
  {
   "cell_type": "code",
   "execution_count": 11,
   "metadata": {
    "collapsed": true,
    "deletable": true,
    "editable": true
   },
   "outputs": [],
   "source": [
    "df['e_sq'] = df['ext_shapeHSM_HsmShapeRegauss_e1']**2 \\\n",
    "            + df['ext_shapeHSM_HsmShapeRegauss_e2']**2"
   ]
  },
  {
   "cell_type": "markdown",
   "metadata": {
    "deletable": true,
    "editable": true
   },
   "source": [
    "# Distribution of e_sq"
   ]
  },
  {
   "cell_type": "code",
   "execution_count": 12,
   "metadata": {
    "collapsed": false,
    "deletable": true,
    "editable": true
   },
   "outputs": [
    {
     "data": {
      "text/plain": [
       "(2.2374810100000002, 1.4958211824947527)"
      ]
     },
     "execution_count": 12,
     "metadata": {},
     "output_type": "execute_result"
    }
   ],
   "source": [
    "df['e_sq'].max(), np.sqrt(df['e_sq'].max())"
   ]
  },
  {
   "cell_type": "code",
   "execution_count": 13,
   "metadata": {
    "collapsed": false,
    "deletable": true,
    "editable": true
   },
   "outputs": [
    {
     "data": {
      "text/plain": [
       "<matplotlib.lines.Line2D at 0x106a7b550>"
      ]
     },
     "execution_count": 13,
     "metadata": {},
     "output_type": "execute_result"
    },
    {
     "data": {
      "image/png": "[encoded data removed]",
      "text/plain": [
       "<matplotlib.figure.Figure at 0x115793e48>"
      ]
     },
     "metadata": {
      "image/png": {
       "height": 248,
       "width": 423
      }
     },
     "output_type": "display_data"
    }
   ],
   "source": [
    "df['e_sq'].plot.hist(bins=60)\n",
    "plt.axvline(x=0.7,color='red')\n",
    "plt.axvline(x=1.0,color='red')"
   ]
  },
  {
   "cell_type": "code",
   "execution_count": 14,
   "metadata": {
    "collapsed": false,
    "deletable": true,
    "editable": true
   },
   "outputs": [
    {
     "name": "stdout",
     "output_type": "stream",
     "text": [
      "all objects = 2,044\n",
      "bad objects = 330\n",
      "bad objects percentage = 16.14% \n"
     ]
    },
    {
     "data": {
      "text/html": [
       "<div>\n",
       "<style>\n",
       "    .dataframe thead tr:only-child th {\n",
       "        text-align: right;\n",
       "    }\n",
       "\n",
       "    .dataframe thead th {\n",
       "        text-align: left;\n",
       "    }\n",
       "\n",
       "    .dataframe tbody tr th {\n",
       "        vertical-align: top;\n",
       "    }\n",
       "</style>\n",
       "<table border=\"1\" class=\"dataframe\">\n",
       "  <thead>\n",
       "    <tr style=\"text-align: right;\">\n",
       "      <th></th>\n",
       "      <th>19</th>\n",
       "      <th>24</th>\n",
       "    </tr>\n",
       "  </thead>\n",
       "  <tbody>\n",
       "    <tr>\n",
       "      <th>file_number</th>\n",
       "      <td>0.000000</td>\n",
       "      <td>0.00000</td>\n",
       "    </tr>\n",
       "    <tr>\n",
       "      <th>id</th>\n",
       "      <td>136.000000</td>\n",
       "      <td>169.00000</td>\n",
       "    </tr>\n",
       "    <tr>\n",
       "      <th>base_SdssCentroid_x</th>\n",
       "      <td>1687.716700</td>\n",
       "      <td>1124.50960</td>\n",
       "    </tr>\n",
       "    <tr>\n",
       "      <th>base_SdssCentroid_y</th>\n",
       "      <td>163.514200</td>\n",
       "      <td>204.95690</td>\n",
       "    </tr>\n",
       "    <tr>\n",
       "      <th>base_SdssCentroid_xSigma</th>\n",
       "      <td>0.111800</td>\n",
       "      <td>0.13540</td>\n",
       "    </tr>\n",
       "    <tr>\n",
       "      <th>base_SdssCentroid_ySigma</th>\n",
       "      <td>0.108900</td>\n",
       "      <td>0.09180</td>\n",
       "    </tr>\n",
       "    <tr>\n",
       "      <th>ext_shapeHSM_HsmShapeRegauss_e1</th>\n",
       "      <td>0.262400</td>\n",
       "      <td>0.63340</td>\n",
       "    </tr>\n",
       "    <tr>\n",
       "      <th>ext_shapeHSM_HsmShapeRegauss_e2</th>\n",
       "      <td>0.947100</td>\n",
       "      <td>-0.68800</td>\n",
       "    </tr>\n",
       "    <tr>\n",
       "      <th>base_SdssShape_flux</th>\n",
       "      <td>5491.398300</td>\n",
       "      <td>10528.76050</td>\n",
       "    </tr>\n",
       "    <tr>\n",
       "      <th>e_sq</th>\n",
       "      <td>0.965852</td>\n",
       "      <td>0.87454</td>\n",
       "    </tr>\n",
       "  </tbody>\n",
       "</table>\n",
       "</div>"
      ],
      "text/plain": [
       "                                          19           24\n",
       "file_number                         0.000000      0.00000\n",
       "id                                136.000000    169.00000\n",
       "base_SdssCentroid_x              1687.716700   1124.50960\n",
       "base_SdssCentroid_y               163.514200    204.95690\n",
       "base_SdssCentroid_xSigma            0.111800      0.13540\n",
       "base_SdssCentroid_ySigma            0.108900      0.09180\n",
       "ext_shapeHSM_HsmShapeRegauss_e1     0.262400      0.63340\n",
       "ext_shapeHSM_HsmShapeRegauss_e2     0.947100     -0.68800\n",
       "base_SdssShape_flux              5491.398300  10528.76050\n",
       "e_sq                                0.965852      0.87454"
      ]
     },
     "execution_count": 14,
     "metadata": {},
     "output_type": "execute_result"
    }
   ],
   "source": [
    "df_07_10 = df.query(\"0.7 < e_sq < 1.0\")\n",
    "print('all objects = {:,}'.format(len(df)))\n",
    "print('bad objects = {:,}'.format(len(df_07_10)))\n",
    "print('bad objects percentage = {:.2f}% '.format(len(df_07_10)/len(df)*100) )\n",
    "df_07_10.head(2).T"
   ]
  },
  {
   "cell_type": "markdown",
   "metadata": {
    "deletable": true,
    "editable": true
   },
   "source": [
    "# Distance of objects in a file from cetroid of that file"
   ]
  },
  {
   "cell_type": "code",
   "execution_count": 15,
   "metadata": {
    "collapsed": false,
    "deletable": true,
    "editable": true
   },
   "outputs": [
    {
     "name": "stdout",
     "output_type": "stream",
     "text": [
      "centroids_wcs_psf_f8_lsst.txt        find_centroid.ipynb\r\n",
      "centroids_wcs_psf_f8_lsst90.txt      find_centroid_wcs_psf.py\r\n",
      "centroids_wcs_psf_f8_lsst_mono.txt   july17_bad_density_of_400files.ipynb\r\n",
      "centroids_wcs_psf_f8_lsst_mono90.txt\r\n"
     ]
    }
   ],
   "source": [
    "!ls"
   ]
  },
  {
   "cell_type": "code",
   "execution_count": 16,
   "metadata": {
    "collapsed": false,
    "deletable": true,
    "editable": true
   },
   "outputs": [
    {
     "name": "stdout",
     "output_type": "stream",
     "text": [
      "1695 1712\r\n",
      "1661 1703\r\n"
     ]
    }
   ],
   "source": [
    "!head -2 centroids_wcs_psf_f8_lsst.txt"
   ]
  },
  {
   "cell_type": "code",
   "execution_count": 17,
   "metadata": {
    "collapsed": true,
    "deletable": true,
    "editable": true
   },
   "outputs": [],
   "source": [
    "# the first lsst file has centroids = 1695, 1712\n",
    "x_centroid = 1695\n",
    "y_centroid = 1712"
   ]
  },
  {
   "cell_type": "code",
   "execution_count": 18,
   "metadata": {
    "collapsed": false,
    "deletable": true,
    "editable": true
   },
   "outputs": [
    {
     "data": {
      "text/html": [
       "<div>\n",
       "<style>\n",
       "    .dataframe thead tr:only-child th {\n",
       "        text-align: right;\n",
       "    }\n",
       "\n",
       "    .dataframe thead th {\n",
       "        text-align: left;\n",
       "    }\n",
       "\n",
       "    .dataframe tbody tr th {\n",
       "        vertical-align: top;\n",
       "    }\n",
       "</style>\n",
       "<table border=\"1\" class=\"dataframe\">\n",
       "  <thead>\n",
       "    <tr style=\"text-align: right;\">\n",
       "      <th></th>\n",
       "      <th>0</th>\n",
       "    </tr>\n",
       "  </thead>\n",
       "  <tbody>\n",
       "    <tr>\n",
       "      <th>file_number</th>\n",
       "      <td>0.000000</td>\n",
       "    </tr>\n",
       "    <tr>\n",
       "      <th>id</th>\n",
       "      <td>30.000000</td>\n",
       "    </tr>\n",
       "    <tr>\n",
       "      <th>base_SdssCentroid_x</th>\n",
       "      <td>1877.364300</td>\n",
       "    </tr>\n",
       "    <tr>\n",
       "      <th>base_SdssCentroid_y</th>\n",
       "      <td>27.833300</td>\n",
       "    </tr>\n",
       "    <tr>\n",
       "      <th>base_SdssCentroid_xSigma</th>\n",
       "      <td>0.330000</td>\n",
       "    </tr>\n",
       "    <tr>\n",
       "      <th>base_SdssCentroid_ySigma</th>\n",
       "      <td>0.299100</td>\n",
       "    </tr>\n",
       "    <tr>\n",
       "      <th>ext_shapeHSM_HsmShapeRegauss_e1</th>\n",
       "      <td>0.160800</td>\n",
       "    </tr>\n",
       "    <tr>\n",
       "      <th>ext_shapeHSM_HsmShapeRegauss_e2</th>\n",
       "      <td>-0.292200</td>\n",
       "    </tr>\n",
       "    <tr>\n",
       "      <th>base_SdssShape_flux</th>\n",
       "      <td>3044.910100</td>\n",
       "    </tr>\n",
       "    <tr>\n",
       "      <th>e_sq</th>\n",
       "      <td>0.111237</td>\n",
       "    </tr>\n",
       "  </tbody>\n",
       "</table>\n",
       "</div>"
      ],
      "text/plain": [
       "                                           0\n",
       "file_number                         0.000000\n",
       "id                                 30.000000\n",
       "base_SdssCentroid_x              1877.364300\n",
       "base_SdssCentroid_y                27.833300\n",
       "base_SdssCentroid_xSigma            0.330000\n",
       "base_SdssCentroid_ySigma            0.299100\n",
       "ext_shapeHSM_HsmShapeRegauss_e1     0.160800\n",
       "ext_shapeHSM_HsmShapeRegauss_e2    -0.292200\n",
       "base_SdssShape_flux              3044.910100\n",
       "e_sq                                0.111237"
      ]
     },
     "execution_count": 18,
     "metadata": {},
     "output_type": "execute_result"
    }
   ],
   "source": [
    "df.head(1).T"
   ]
  },
  {
   "cell_type": "code",
   "execution_count": 19,
   "metadata": {
    "collapsed": false,
    "deletable": true,
    "editable": true
   },
   "outputs": [],
   "source": [
    "df['radius_sq'] = (df['base_SdssCentroid_x'] - x_centroid)**2 +\\\n",
    "                        (df['base_SdssCentroid_y'] - y_centroid)**2"
   ]
  },
  {
   "cell_type": "code",
   "execution_count": 20,
   "metadata": {
    "collapsed": false,
    "deletable": true,
    "editable": true
   },
   "outputs": [
    {
     "data": {
      "text/html": [
       "<div>\n",
       "<style>\n",
       "    .dataframe thead tr:only-child th {\n",
       "        text-align: right;\n",
       "    }\n",
       "\n",
       "    .dataframe thead th {\n",
       "        text-align: left;\n",
       "    }\n",
       "\n",
       "    .dataframe tbody tr th {\n",
       "        vertical-align: top;\n",
       "    }\n",
       "</style>\n",
       "<table border=\"1\" class=\"dataframe\">\n",
       "  <thead>\n",
       "    <tr style=\"text-align: right;\">\n",
       "      <th></th>\n",
       "      <th>0</th>\n",
       "      <th>1</th>\n",
       "    </tr>\n",
       "  </thead>\n",
       "  <tbody>\n",
       "    <tr>\n",
       "      <th>file_number</th>\n",
       "      <td>0.000000e+00</td>\n",
       "      <td>0.000000e+00</td>\n",
       "    </tr>\n",
       "    <tr>\n",
       "      <th>id</th>\n",
       "      <td>3.000000e+01</td>\n",
       "      <td>4.600000e+01</td>\n",
       "    </tr>\n",
       "    <tr>\n",
       "      <th>base_SdssCentroid_x</th>\n",
       "      <td>1.877364e+03</td>\n",
       "      <td>2.075329e+03</td>\n",
       "    </tr>\n",
       "    <tr>\n",
       "      <th>base_SdssCentroid_y</th>\n",
       "      <td>2.783330e+01</td>\n",
       "      <td>5.073660e+01</td>\n",
       "    </tr>\n",
       "    <tr>\n",
       "      <th>base_SdssCentroid_xSigma</th>\n",
       "      <td>3.300000e-01</td>\n",
       "      <td>1.004000e-01</td>\n",
       "    </tr>\n",
       "    <tr>\n",
       "      <th>base_SdssCentroid_ySigma</th>\n",
       "      <td>2.991000e-01</td>\n",
       "      <td>9.650000e-02</td>\n",
       "    </tr>\n",
       "    <tr>\n",
       "      <th>ext_shapeHSM_HsmShapeRegauss_e1</th>\n",
       "      <td>1.608000e-01</td>\n",
       "      <td>4.208000e-01</td>\n",
       "    </tr>\n",
       "    <tr>\n",
       "      <th>ext_shapeHSM_HsmShapeRegauss_e2</th>\n",
       "      <td>-2.922000e-01</td>\n",
       "      <td>-6.910000e-01</td>\n",
       "    </tr>\n",
       "    <tr>\n",
       "      <th>base_SdssShape_flux</th>\n",
       "      <td>3.044910e+03</td>\n",
       "      <td>6.985676e+03</td>\n",
       "    </tr>\n",
       "    <tr>\n",
       "      <th>e_sq</th>\n",
       "      <td>1.112375e-01</td>\n",
       "      <td>6.545536e-01</td>\n",
       "    </tr>\n",
       "    <tr>\n",
       "      <th>radius_sq</th>\n",
       "      <td>2.869674e+06</td>\n",
       "      <td>2.904446e+06</td>\n",
       "    </tr>\n",
       "  </tbody>\n",
       "</table>\n",
       "</div>"
      ],
      "text/plain": [
       "                                            0             1\n",
       "file_number                      0.000000e+00  0.000000e+00\n",
       "id                               3.000000e+01  4.600000e+01\n",
       "base_SdssCentroid_x              1.877364e+03  2.075329e+03\n",
       "base_SdssCentroid_y              2.783330e+01  5.073660e+01\n",
       "base_SdssCentroid_xSigma         3.300000e-01  1.004000e-01\n",
       "base_SdssCentroid_ySigma         2.991000e-01  9.650000e-02\n",
       "ext_shapeHSM_HsmShapeRegauss_e1  1.608000e-01  4.208000e-01\n",
       "ext_shapeHSM_HsmShapeRegauss_e2 -2.922000e-01 -6.910000e-01\n",
       "base_SdssShape_flux              3.044910e+03  6.985676e+03\n",
       "e_sq                             1.112375e-01  6.545536e-01\n",
       "radius_sq                        2.869674e+06  2.904446e+06"
      ]
     },
     "execution_count": 20,
     "metadata": {},
     "output_type": "execute_result"
    }
   ],
   "source": [
    "df.head(2).T"
   ]
  },
  {
   "cell_type": "code",
   "execution_count": 21,
   "metadata": {
    "collapsed": false,
    "deletable": true,
    "editable": true
   },
   "outputs": [
    {
     "data": {
      "text/plain": [
       "<matplotlib.axes._subplots.AxesSubplot at 0x103e1c588>"
      ]
     },
     "execution_count": 21,
     "metadata": {},
     "output_type": "execute_result"
    },
    {
     "data": {
      "image/png": "[encoded data removed]",
      "text/plain": [
       "<matplotlib.figure.Figure at 0x1161f7860>"
      ]
     },
     "metadata": {
      "image/png": {
       "height": 248,
       "width": 423
      }
     },
     "output_type": "display_data"
    }
   ],
   "source": [
    "df['radius_sq'].plot.hist(bins=50)"
   ]
  },
  {
   "cell_type": "code",
   "execution_count": 22,
   "metadata": {
    "collapsed": false,
    "deletable": true,
    "editable": true
   },
   "outputs": [
    {
     "data": {
      "text/plain": [
       "<matplotlib.axes._subplots.AxesSubplot at 0x1163a4390>"
      ]
     },
     "execution_count": 22,
     "metadata": {},
     "output_type": "execute_result"
    },
    {
     "data": {
      "image/png": "[encoded data removed]",
      "text/plain": [
       "<matplotlib.figure.Figure at 0x11659cb00>"
      ]
     },
     "metadata": {
      "image/png": {
       "height": 274,
       "width": 411
      }
     },
     "output_type": "display_data"
    }
   ],
   "source": [
    "sns.distplot(df['radius_sq'])"
   ]
  },
  {
   "cell_type": "code",
   "execution_count": 23,
   "metadata": {
    "collapsed": false,
    "deletable": true,
    "editable": true
   },
   "outputs": [
    {
     "data": {
      "text/plain": [
       "<matplotlib.lines.Line2D at 0x11660d668>"
      ]
     },
     "execution_count": 23,
     "metadata": {},
     "output_type": "execute_result"
    },
    {
     "data": {
      "image/png": "[encoded data removed]",
      "text/plain": [
       "<matplotlib.figure.Figure at 0x11660df28>"
      ]
     },
     "metadata": {
      "image/png": {
       "height": 263,
       "width": 426
      }
     },
     "output_type": "display_data"
    }
   ],
   "source": [
    "ax=df.plot.scatter(x='radius_sq',y='e_sq')\n",
    "df.query(\"0.7 < e_sq < 1\").plot.scatter(x='radius_sq',y='e_sq',color='red',ax=ax)\n",
    "plt.axhline(y=0.7,color='green')\n",
    "plt.axhline(y=1.0,color='green')"
   ]
  },
  {
   "cell_type": "code",
   "execution_count": 24,
   "metadata": {
    "collapsed": false
   },
   "outputs": [
    {
     "data": {
      "text/plain": [
       "(330, 11)"
      ]
     },
     "execution_count": 24,
     "metadata": {},
     "output_type": "execute_result"
    }
   ],
   "source": [
    "df.query(\"0.7 < e_sq < 1.0\").shape"
   ]
  },
  {
   "cell_type": "code",
   "execution_count": 25,
   "metadata": {
    "collapsed": false
   },
   "outputs": [
    {
     "data": {
      "text/plain": [
       "16.14481409001957"
      ]
     },
     "execution_count": 25,
     "metadata": {},
     "output_type": "execute_result"
    }
   ],
   "source": [
    "len(df.query(\"0.7 < e_sq < 1.0\")) / len(df) * 100"
   ]
  },
  {
   "cell_type": "markdown",
   "metadata": {
    "collapsed": true,
    "deletable": true,
    "editable": true
   },
   "source": [
    "# Bad density percentage of 100 lsst files"
   ]
  },
  {
   "cell_type": "code",
   "execution_count": 26,
   "metadata": {
    "collapsed": true,
    "deletable": true,
    "editable": true
   },
   "outputs": [],
   "source": [
    "# infile = '../a08_july5_2019/src_lsst_z1.5_000.txt'"
   ]
  },
  {
   "cell_type": "code",
   "execution_count": 27,
   "metadata": {
    "collapsed": false
   },
   "outputs": [
    {
     "name": "stdout",
     "output_type": "stream",
     "text": [
      "     100\r\n"
     ]
    }
   ],
   "source": [
    "!ls ../a08_july5_2019/*_lsst_[^m9]*.txt | wc -l"
   ]
  },
  {
   "cell_type": "code",
   "execution_count": 28,
   "metadata": {
    "collapsed": false
   },
   "outputs": [
    {
     "name": "stdout",
     "output_type": "stream",
     "text": [
      "# file_number           id           base_SdssCentroid_x           base_SdssCentroid_y           base_SdssCentroid_xSigma           base_SdssCentroid_ySigma           ext_shapeHSM_HsmShapeRegauss_e1           ext_shapeHSM_HsmShapeRegauss_e2           base_SdssShape_flux\r\n",
      "0.000000000000000000e+00\t3.000000000000000000e+01\t1.877364299999999957e+03\t2.783330000000000126e+01\t3.300000000000000155e-01\t2.990999999999999770e-01\t1.607999999999999985e-01\t-2.922000000000000153e-01\t3.044910100000000057e+03\r\n"
     ]
    }
   ],
   "source": [
    "!head -2 ../a08_july5_2019/src_lsst_z1.5_000.txt"
   ]
  },
  {
   "cell_type": "code",
   "execution_count": 29,
   "metadata": {
    "collapsed": true
   },
   "outputs": [],
   "source": [
    "lsst_files = !ls ../a08_july5_2019/*_lsst_[^m9]*.txt"
   ]
  },
  {
   "cell_type": "code",
   "execution_count": 30,
   "metadata": {
    "collapsed": false
   },
   "outputs": [
    {
     "data": {
      "text/plain": [
       "'../a08_july5_2019/src_lsst_z1.5_000.txt'"
      ]
     },
     "execution_count": 30,
     "metadata": {},
     "output_type": "execute_result"
    }
   ],
   "source": [
    "lsst_files[0]"
   ]
  },
  {
   "cell_type": "code",
   "execution_count": 31,
   "metadata": {
    "collapsed": false
   },
   "outputs": [
    {
     "data": {
      "text/plain": [
       "'../a08_july5_2019/src_lsst_z1.5_099.txt'"
      ]
     },
     "execution_count": 31,
     "metadata": {},
     "output_type": "execute_result"
    }
   ],
   "source": [
    "lsst_files[-1]"
   ]
  },
  {
   "cell_type": "code",
   "execution_count": 32,
   "metadata": {
    "collapsed": true
   },
   "outputs": [],
   "source": [
    "bad_percent_lsst = []\n",
    "col_names = ['file_number', 'id', 'base_SdssCentroid_x', 'base_SdssCentroid_y',\n",
    "       'base_SdssCentroid_xSigma', 'base_SdssCentroid_ySigma',\n",
    "       'ext_shapeHSM_HsmShapeRegauss_e1', 'ext_shapeHSM_HsmShapeRegauss_e2',\n",
    "       'base_SdssShape_flux']"
   ]
  },
  {
   "cell_type": "code",
   "execution_count": 33,
   "metadata": {
    "collapsed": false
   },
   "outputs": [
    {
     "data": {
      "text/plain": [
       "16.14481409001957"
      ]
     },
     "execution_count": 33,
     "metadata": {},
     "output_type": "execute_result"
    }
   ],
   "source": [
    "df = pd.read_csv(infile,sep=r'\\s+',comment='#',header=None,names=col_names)\n",
    "df['e_sq'] = df['ext_shapeHSM_HsmShapeRegauss_e1']**2 \\\n",
    "        + df['ext_shapeHSM_HsmShapeRegauss_e2']**2\n",
    "\n",
    "len(df.query(\"0.7 < e_sq < 1.0\")) / len(df) * 100"
   ]
  },
  {
   "cell_type": "code",
   "execution_count": 34,
   "metadata": {
    "collapsed": false
   },
   "outputs": [],
   "source": [
    "for infile in lsst_files:\n",
    "    df = pd.read_csv(infile,sep=r'\\s+',comment='#',header=None,names=col_names)\n",
    "    df['e_sq'] = df['ext_shapeHSM_HsmShapeRegauss_e1']**2 \\\n",
    "            + df['ext_shapeHSM_HsmShapeRegauss_e2']**2\n",
    "    bad_percent = len(df.query(\"0.7 < e_sq < 1.0\")) / len(df) * 100\n",
    "    bad_percent_lsst.append(bad_percent)"
   ]
  },
  {
   "cell_type": "code",
   "execution_count": 36,
   "metadata": {
    "collapsed": false
   },
   "outputs": [
    {
     "data": {
      "text/plain": [
       "18    47\n",
       "17    34\n",
       "19    12\n",
       "16     7\n",
       "dtype: int64"
      ]
     },
     "execution_count": 36,
     "metadata": {},
     "output_type": "execute_result"
    }
   ],
   "source": [
    "bad_percent_lsst = np.array(bad_percent_lsst).astype(int)\n",
    "pd.value_counts(bad_percent_lsst)"
   ]
  },
  {
   "cell_type": "code",
   "execution_count": 37,
   "metadata": {
    "collapsed": false
   },
   "outputs": [
    {
     "data": {
      "text/html": [
       "<div>\n",
       "<style>\n",
       "    .dataframe thead tr:only-child th {\n",
       "        text-align: right;\n",
       "    }\n",
       "\n",
       "    .dataframe thead th {\n",
       "        text-align: left;\n",
       "    }\n",
       "\n",
       "    .dataframe tbody tr th {\n",
       "        vertical-align: top;\n",
       "    }\n",
       "</style>\n",
       "<table border=\"1\" class=\"dataframe\">\n",
       "  <thead>\n",
       "    <tr style=\"text-align: right;\">\n",
       "      <th></th>\n",
       "      <th>bad_percent</th>\n",
       "      <th>counts</th>\n",
       "    </tr>\n",
       "  </thead>\n",
       "  <tbody>\n",
       "    <tr>\n",
       "      <th>0</th>\n",
       "      <td>18</td>\n",
       "      <td>47</td>\n",
       "    </tr>\n",
       "    <tr>\n",
       "      <th>1</th>\n",
       "      <td>17</td>\n",
       "      <td>34</td>\n",
       "    </tr>\n",
       "    <tr>\n",
       "      <th>2</th>\n",
       "      <td>19</td>\n",
       "      <td>12</td>\n",
       "    </tr>\n",
       "    <tr>\n",
       "      <th>3</th>\n",
       "      <td>16</td>\n",
       "      <td>7</td>\n",
       "    </tr>\n",
       "  </tbody>\n",
       "</table>\n",
       "</div>"
      ],
      "text/plain": [
       "   bad_percent  counts\n",
       "0           18      47\n",
       "1           17      34\n",
       "2           19      12\n",
       "3           16       7"
      ]
     },
     "execution_count": 37,
     "metadata": {},
     "output_type": "execute_result"
    }
   ],
   "source": [
    "pd.value_counts(bad_percent_lsst).to_frame().reset_index().rename(columns={'index':'bad_percent', 0: 'counts'})"
   ]
  },
  {
   "cell_type": "code",
   "execution_count": 38,
   "metadata": {
    "collapsed": false
   },
   "outputs": [
    {
     "data": {
      "text/html": [
       "<div>\n",
       "<style>\n",
       "    .dataframe thead tr:only-child th {\n",
       "        text-align: right;\n",
       "    }\n",
       "\n",
       "    .dataframe thead th {\n",
       "        text-align: left;\n",
       "    }\n",
       "\n",
       "    .dataframe tbody tr th {\n",
       "        vertical-align: top;\n",
       "    }\n",
       "</style>\n",
       "<table border=\"1\" class=\"dataframe\">\n",
       "  <thead>\n",
       "    <tr style=\"text-align: right;\">\n",
       "      <th></th>\n",
       "      <th>bad_percent</th>\n",
       "      <th>counts</th>\n",
       "    </tr>\n",
       "  </thead>\n",
       "  <tbody>\n",
       "    <tr>\n",
       "      <th>0</th>\n",
       "      <td>16</td>\n",
       "      <td>7</td>\n",
       "    </tr>\n",
       "    <tr>\n",
       "      <th>1</th>\n",
       "      <td>17</td>\n",
       "      <td>34</td>\n",
       "    </tr>\n",
       "    <tr>\n",
       "      <th>2</th>\n",
       "      <td>18</td>\n",
       "      <td>47</td>\n",
       "    </tr>\n",
       "    <tr>\n",
       "      <th>3</th>\n",
       "      <td>19</td>\n",
       "      <td>12</td>\n",
       "    </tr>\n",
       "  </tbody>\n",
       "</table>\n",
       "</div>"
      ],
      "text/plain": [
       "   bad_percent  counts\n",
       "0           16       7\n",
       "1           17      34\n",
       "2           18      47\n",
       "3           19      12"
      ]
     },
     "execution_count": 38,
     "metadata": {},
     "output_type": "execute_result"
    }
   ],
   "source": [
    "pd.DataFrame( data = np.array(np.unique(bad_percent_lsst, return_counts=True)).T,\n",
    "              columns = ['bad_percent','counts'])\n"
   ]
  },
  {
   "cell_type": "code",
   "execution_count": null,
   "metadata": {
    "collapsed": true
   },
   "outputs": [],
   "source": [
    "# all 100 lsst files have bad density 16, 17, 18, or 19\n",
    "# 47 lsst fitsfiles have 18% percent objects in range 0.7 < e_sq < 1.0"
   ]
  }
 ],
 "metadata": {
  "kernelspec": {
   "display_name": "Python 3",
   "language": "python",
   "name": "python3"
  },
  "language_info": {
   "codemirror_mode": {
    "name": "ipython",
    "version": 3
   },
   "file_extension": ".py",
   "mimetype": "text/x-python",
   "name": "python",
   "nbconvert_exporter": "python",
   "pygments_lexer": "ipython3",
   "version": "3.5.2"
  },
  "toc": {
   "colors": {
    "hover_highlight": "#DAA520",
    "navigate_num": "#000000",
    "navigate_text": "#333333",
    "running_highlight": "#FF0000",
    "selected_highlight": "#FFD700",
    "sidebar_border": "#EEEEEE",
    "wrapper_background": "#FFFFFF"
   },
   "moveMenuLeft": true,
   "nav_menu": {
    "height": "189px",
    "width": "252px"
   },
   "navigate_menu": true,
   "number_sections": true,
   "sideBar": true,
   "threshold": 4,
   "toc_cell": true,
   "toc_section_display": "block",
   "toc_window_display": true,
   "widenNotebook": false
  }
 },
 "nbformat": 4,
 "nbformat_minor": 2
}
