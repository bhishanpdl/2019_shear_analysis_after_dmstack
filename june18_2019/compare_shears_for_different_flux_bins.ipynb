{
 "cells": [
  {
   "cell_type": "markdown",
   "metadata": {
    "toc": "true"
   },
   "source": [
    "# Table of Contents\n",
    " <p><div class=\"lev1 toc-item\"><a href=\"#Introduction\" data-toc-modified-id=\"Introduction-1\"><span class=\"toc-item-num\">1&nbsp;&nbsp;</span>Introduction</a></div><div class=\"lev1 toc-item\"><a href=\"#Read-imcat-output-final.cat\" data-toc-modified-id=\"Read-imcat-output-final.cat-2\"><span class=\"toc-item-num\">2&nbsp;&nbsp;</span>Read imcat output final.cat</a></div><div class=\"lev1 toc-item\"><a href=\"#Create-new-columns\" data-toc-modified-id=\"Create-new-columns-3\"><span class=\"toc-item-num\">3&nbsp;&nbsp;</span>Create new columns</a></div><div class=\"lev1 toc-item\"><a href=\"#Fitting-cubic-function-without-bucketing-for-flux-vs-gm**2\" data-toc-modified-id=\"Fitting-cubic-function-without-bucketing-for-flux-vs-gm**2-4\"><span class=\"toc-item-num\">4&nbsp;&nbsp;</span>Fitting cubic function without bucketing for flux vs gm**2</a></div><div class=\"lev1 toc-item\"><a href=\"#Fitting-cubic-function-without-bucketing-for-flux-vs-gc**2\" data-toc-modified-id=\"Fitting-cubic-function-without-bucketing-for-flux-vs-gc**2-5\"><span class=\"toc-item-num\">5&nbsp;&nbsp;</span>Fitting cubic function without bucketing for flux vs gc**2</a></div><div class=\"lev1 toc-item\"><a href=\"#Fitting-cubic-function-after-bucketing\" data-toc-modified-id=\"Fitting-cubic-function-after-bucketing-6\"><span class=\"toc-item-num\">6&nbsp;&nbsp;</span>Fitting cubic function after bucketing</a></div><div class=\"lev1 toc-item\"><a href=\"#Polynomial-Fitting-for-gm-vs-flux-after-bucketing\" data-toc-modified-id=\"Polynomial-Fitting-for-gm-vs-flux-after-bucketing-7\"><span class=\"toc-item-num\">7&nbsp;&nbsp;</span>Polynomial Fitting for gm vs flux after bucketing</a></div><div class=\"lev1 toc-item\"><a href=\"#Polynomial-fitting-for-gc-vs-flux-after-bucketing\" data-toc-modified-id=\"Polynomial-fitting-for-gc-vs-flux-after-bucketing-8\"><span class=\"toc-item-num\">8&nbsp;&nbsp;</span>Polynomial fitting for gc vs flux after bucketing</a></div><div class=\"lev1 toc-item\"><a href=\"#Outputs\" data-toc-modified-id=\"Outputs-9\"><span class=\"toc-item-num\">9&nbsp;&nbsp;</span>Outputs</a></div>"
   ]
  },
  {
   "cell_type": "markdown",
   "metadata": {},
   "source": [
    "# Introduction\n",
    "\n",
    "Date: June 20, 2019\n",
    "\n",
    "1. In jedisim we used ngals = 10k, z = 1.5 and did 100 simulations. jedisim gives l,l9,m,m9 for each 100 simulations.\n",
    "2. In dmstack we create l.csv from l.fits and so on for 100*4 files, this file has 90 flags and 76 parameters.\n",
    "3. After dmstack we clean and filter l.csv to get l.txt which have no nans, e <= 1.5,\n",
    "   not psf candidate and have no child.\n",
    "   This file has only few columns: id, x-y, errx-erry, e1-e2, sdssFlux.\n",
    "4. We use these four l.txt, l9.txt, m.txt, m9.txt file in IMCAT and get final0.cat and combine 100 finalxx.cat to get \n",
    "   final.cat.\n",
    "5. This lc catalog file final.cat has more columns than original 8 columns.\n",
    "   ```\n",
    "   id    00 10 20 30\n",
    "   flux  00 10 20 30\n",
    "\n",
    "   x  0 1\n",
    "   gm 0 1\n",
    "   gc 0 1\n",
    "   \n",
    "   errx 00 01 10 11 20 21 30 31\n",
    "   g    00 01 10 11 20 21 30 31 # there is no erry here in imcat output\n",
    "   \n",
    "   So, in total there are\n",
    "   2 * 4 + 3 * 2 + 2 * 8 = 8 + 6 + 16 = 30 columns in final.cat file.\n",
    "   ```\n",
    "   \n",
    "   \n",
    "**Purpose**  \n",
    "We want to test whether the e^2 is equally distributed in different flux bins of final.cat.\n",
    "We will divide flux in multiple bins and find mean(e^2) and mean(flux) for each bins and try to get a fitting function.\n",
    "   "
   ]
  },
  {
   "cell_type": "markdown",
   "metadata": {},
   "source": [
    "# Read imcat output final.cat"
   ]
  },
  {
   "cell_type": "code",
   "execution_count": 1,
   "metadata": {
    "collapsed": false
   },
   "outputs": [
    {
     "name": "stdout",
     "output_type": "stream",
     "text": [
      "#       id[0][0]       id[1][0]       id[2][0]       id[3][0]           x[0]           x[1]     errx[0][0]     errx[0][1]     errx[1][0]     errx[1][1]     errx[2][0]     errx[2][1]     errx[3][0]     errx[3][1]        g[0][0]        g[0][1]        g[1][0]        g[1][1]        g[2][0]        g[2][1]        g[3][0]        g[3][1]     flux[0][0]     flux[1][0]     flux[2][0]     flux[3][0]          gm[0]          gm[1]          gc[0]          gc[1]\r\n",
      "            5678           5735           5568           5678      1969.2159      2159.7569         0.1046         0.0759         0.1063         0.0745         0.1055         0.0759          0.107         0.0746          1.083        -0.2341         1.1499        -0.4244         1.1705        -0.2617         1.2105        -0.4458      8119.9753      8214.5911      8109.6423      8206.3494        1.11645       -0.32925         1.1905       -0.35375\r\n"
     ]
    }
   ],
   "source": [
    "!head -2 final_text.txt"
   ]
  },
  {
   "cell_type": "code",
   "execution_count": 2,
   "metadata": {
    "collapsed": false
   },
   "outputs": [
    {
     "name": "stdout",
     "output_type": "stream",
     "text": [
      "  183837 final_text.txt\r\n"
     ]
    }
   ],
   "source": [
    "# find number of lines\n",
    "!wc -l final_text.txt"
   ]
  },
  {
   "cell_type": "code",
   "execution_count": 3,
   "metadata": {
    "collapsed": false
   },
   "outputs": [
    {
     "name": "stdout",
     "output_type": "stream",
     "text": [
      "            7429           7423           7347           7327      628.17332      3170.7007         0.0252         0.0236         0.0136         0.0172         0.0174         0.0145         0.0137         0.0173         0.4518        -0.5612        -0.4099         0.6419         0.4638         -0.575        -0.4214         0.6486      65430.341      65042.717      65522.963      65130.234        0.02095        0.04035         0.0212         0.0368\r\n",
      "            3565            487           3546            486      1012.9914      668.48905         0.1321         0.1634         0.2443         0.2245         0.1336         0.1664          0.165         0.1341         0.0185          0.745         0.3311         0.3349         0.0605         0.7665         0.3397         0.3455      7363.0329      8192.7381      7288.0971       7581.061         0.1748        0.53995         0.2001          0.556\r\n"
     ]
    }
   ],
   "source": [
    "!tail -2 final_text.txt"
   ]
  },
  {
   "cell_type": "code",
   "execution_count": 4,
   "metadata": {
    "collapsed": true
   },
   "outputs": [],
   "source": [
    "# Now we will read file using pandas"
   ]
  },
  {
   "cell_type": "code",
   "execution_count": 81,
   "metadata": {
    "collapsed": true
   },
   "outputs": [],
   "source": [
    "import numpy as np\n",
    "import pandas as pd\n",
    "import seaborn as sns\n",
    "sns.set()\n",
    "\n",
    "import matplotlib.pyplot as plt\n",
    "plt.rcParams[\"figure.figsize\"] = [10, 8]\n",
    "plt.style.use('fivethirtyeight')\n",
    "%matplotlib inline\n",
    "%config InlineBackend.figure_format = 'retina'"
   ]
  },
  {
   "cell_type": "code",
   "execution_count": 6,
   "metadata": {
    "collapsed": false
   },
   "outputs": [
    {
     "data": {
      "text/plain": [
       "Index(['id[0][0]', 'id[1][0]', 'id[2][0]', 'id[3][0]', 'x[0]', 'x[1]',\n",
       "       'errx[0][0]', 'errx[0][1]', 'errx[1][0]', 'errx[1][1]', 'errx[2][0]',\n",
       "       'errx[2][1]', 'errx[3][0]', 'errx[3][1]', 'g[0][0]', 'g[0][1]',\n",
       "       'g[1][0]', 'g[1][1]', 'g[2][0]', 'g[2][1]', 'g[3][0]', 'g[3][1]',\n",
       "       'flux[0][0]', 'flux[1][0]', 'flux[2][0]', 'flux[3][0]', 'gm[0]',\n",
       "       'gm[1]', 'gc[0]', 'gc[1]'],\n",
       "      dtype='object')"
      ]
     },
     "execution_count": 6,
     "metadata": {},
     "output_type": "execute_result"
    }
   ],
   "source": [
    "# columns names\n",
    "infile = 'final_text.txt'\n",
    "headers = pd.read_csv(infile,sep=r'\\s+',nrows=1).columns\n",
    "\n",
    "headers = headers[1:] # remove first # column\n",
    "headers"
   ]
  },
  {
   "cell_type": "code",
   "execution_count": 7,
   "metadata": {
    "collapsed": false
   },
   "outputs": [
    {
     "name": "stdout",
     "output_type": "stream",
     "text": [
      "(183836, 30)\n"
     ]
    },
    {
     "data": {
      "text/html": [
       "<div>\n",
       "<style>\n",
       "    .dataframe thead tr:only-child th {\n",
       "        text-align: right;\n",
       "    }\n",
       "\n",
       "    .dataframe thead th {\n",
       "        text-align: left;\n",
       "    }\n",
       "\n",
       "    .dataframe tbody tr th {\n",
       "        vertical-align: top;\n",
       "    }\n",
       "</style>\n",
       "<table border=\"1\" class=\"dataframe\">\n",
       "  <thead>\n",
       "    <tr style=\"text-align: right;\">\n",
       "      <th></th>\n",
       "      <th>0</th>\n",
       "      <th>1</th>\n",
       "      <th>183834</th>\n",
       "      <th>183835</th>\n",
       "    </tr>\n",
       "  </thead>\n",
       "  <tbody>\n",
       "    <tr>\n",
       "      <th>id[0][0]</th>\n",
       "      <td>5678.00000</td>\n",
       "      <td>3181.00000</td>\n",
       "      <td>7429.00000</td>\n",
       "      <td>3565.00000</td>\n",
       "    </tr>\n",
       "    <tr>\n",
       "      <th>id[1][0]</th>\n",
       "      <td>5735.00000</td>\n",
       "      <td>3193.00000</td>\n",
       "      <td>7423.00000</td>\n",
       "      <td>487.00000</td>\n",
       "    </tr>\n",
       "    <tr>\n",
       "      <th>id[2][0]</th>\n",
       "      <td>5568.00000</td>\n",
       "      <td>3164.00000</td>\n",
       "      <td>7347.00000</td>\n",
       "      <td>3546.00000</td>\n",
       "    </tr>\n",
       "    <tr>\n",
       "      <th>id[3][0]</th>\n",
       "      <td>5678.00000</td>\n",
       "      <td>3179.00000</td>\n",
       "      <td>7327.00000</td>\n",
       "      <td>486.00000</td>\n",
       "    </tr>\n",
       "    <tr>\n",
       "      <th>x[0]</th>\n",
       "      <td>1969.21590</td>\n",
       "      <td>2222.70820</td>\n",
       "      <td>628.17332</td>\n",
       "      <td>1012.99140</td>\n",
       "    </tr>\n",
       "    <tr>\n",
       "      <th>x[1]</th>\n",
       "      <td>2159.75690</td>\n",
       "      <td>480.46175</td>\n",
       "      <td>3170.70070</td>\n",
       "      <td>668.48905</td>\n",
       "    </tr>\n",
       "    <tr>\n",
       "      <th>errx[0][0]</th>\n",
       "      <td>0.10460</td>\n",
       "      <td>0.00840</td>\n",
       "      <td>0.02520</td>\n",
       "      <td>0.13210</td>\n",
       "    </tr>\n",
       "    <tr>\n",
       "      <th>errx[0][1]</th>\n",
       "      <td>0.07590</td>\n",
       "      <td>0.00800</td>\n",
       "      <td>0.02360</td>\n",
       "      <td>0.16340</td>\n",
       "    </tr>\n",
       "    <tr>\n",
       "      <th>errx[1][0]</th>\n",
       "      <td>0.10630</td>\n",
       "      <td>0.00780</td>\n",
       "      <td>0.01360</td>\n",
       "      <td>0.24430</td>\n",
       "    </tr>\n",
       "    <tr>\n",
       "      <th>errx[1][1]</th>\n",
       "      <td>0.07450</td>\n",
       "      <td>0.00860</td>\n",
       "      <td>0.01720</td>\n",
       "      <td>0.22450</td>\n",
       "    </tr>\n",
       "    <tr>\n",
       "      <th>errx[2][0]</th>\n",
       "      <td>0.10550</td>\n",
       "      <td>0.00830</td>\n",
       "      <td>0.01740</td>\n",
       "      <td>0.13360</td>\n",
       "    </tr>\n",
       "    <tr>\n",
       "      <th>errx[2][1]</th>\n",
       "      <td>0.07590</td>\n",
       "      <td>0.00800</td>\n",
       "      <td>0.01450</td>\n",
       "      <td>0.16640</td>\n",
       "    </tr>\n",
       "    <tr>\n",
       "      <th>errx[3][0]</th>\n",
       "      <td>0.10700</td>\n",
       "      <td>0.00780</td>\n",
       "      <td>0.01370</td>\n",
       "      <td>0.16500</td>\n",
       "    </tr>\n",
       "    <tr>\n",
       "      <th>errx[3][1]</th>\n",
       "      <td>0.07460</td>\n",
       "      <td>0.00860</td>\n",
       "      <td>0.01730</td>\n",
       "      <td>0.13410</td>\n",
       "    </tr>\n",
       "    <tr>\n",
       "      <th>g[0][0]</th>\n",
       "      <td>1.08300</td>\n",
       "      <td>0.41740</td>\n",
       "      <td>0.45180</td>\n",
       "      <td>0.01850</td>\n",
       "    </tr>\n",
       "    <tr>\n",
       "      <th>g[0][1]</th>\n",
       "      <td>-0.23410</td>\n",
       "      <td>0.64280</td>\n",
       "      <td>-0.56120</td>\n",
       "      <td>0.74500</td>\n",
       "    </tr>\n",
       "    <tr>\n",
       "      <th>g[1][0]</th>\n",
       "      <td>1.14990</td>\n",
       "      <td>-0.22490</td>\n",
       "      <td>-0.40990</td>\n",
       "      <td>0.33110</td>\n",
       "    </tr>\n",
       "    <tr>\n",
       "      <th>g[1][1]</th>\n",
       "      <td>-0.42440</td>\n",
       "      <td>-0.52650</td>\n",
       "      <td>0.64190</td>\n",
       "      <td>0.33490</td>\n",
       "    </tr>\n",
       "    <tr>\n",
       "      <th>g[2][0]</th>\n",
       "      <td>1.17050</td>\n",
       "      <td>0.43780</td>\n",
       "      <td>0.46380</td>\n",
       "      <td>0.06050</td>\n",
       "    </tr>\n",
       "    <tr>\n",
       "      <th>g[2][1]</th>\n",
       "      <td>-0.26170</td>\n",
       "      <td>0.65210</td>\n",
       "      <td>-0.57500</td>\n",
       "      <td>0.76650</td>\n",
       "    </tr>\n",
       "    <tr>\n",
       "      <th>g[3][0]</th>\n",
       "      <td>1.21050</td>\n",
       "      <td>-0.26650</td>\n",
       "      <td>-0.42140</td>\n",
       "      <td>0.33970</td>\n",
       "    </tr>\n",
       "    <tr>\n",
       "      <th>g[3][1]</th>\n",
       "      <td>-0.44580</td>\n",
       "      <td>-0.52150</td>\n",
       "      <td>0.64860</td>\n",
       "      <td>0.34550</td>\n",
       "    </tr>\n",
       "    <tr>\n",
       "      <th>flux[0][0]</th>\n",
       "      <td>8119.97530</td>\n",
       "      <td>53940.34200</td>\n",
       "      <td>65430.34100</td>\n",
       "      <td>7363.03290</td>\n",
       "    </tr>\n",
       "    <tr>\n",
       "      <th>flux[1][0]</th>\n",
       "      <td>8214.59110</td>\n",
       "      <td>53844.27400</td>\n",
       "      <td>65042.71700</td>\n",
       "      <td>8192.73810</td>\n",
       "    </tr>\n",
       "    <tr>\n",
       "      <th>flux[2][0]</th>\n",
       "      <td>8109.64230</td>\n",
       "      <td>53930.38000</td>\n",
       "      <td>65522.96300</td>\n",
       "      <td>7288.09710</td>\n",
       "    </tr>\n",
       "    <tr>\n",
       "      <th>flux[3][0]</th>\n",
       "      <td>8206.34940</td>\n",
       "      <td>53825.16300</td>\n",
       "      <td>65130.23400</td>\n",
       "      <td>7581.06100</td>\n",
       "    </tr>\n",
       "    <tr>\n",
       "      <th>gm[0]</th>\n",
       "      <td>1.11645</td>\n",
       "      <td>0.09625</td>\n",
       "      <td>0.02095</td>\n",
       "      <td>0.17480</td>\n",
       "    </tr>\n",
       "    <tr>\n",
       "      <th>gm[1]</th>\n",
       "      <td>-0.32925</td>\n",
       "      <td>0.05815</td>\n",
       "      <td>0.04035</td>\n",
       "      <td>0.53995</td>\n",
       "    </tr>\n",
       "    <tr>\n",
       "      <th>gc[0]</th>\n",
       "      <td>1.19050</td>\n",
       "      <td>0.08565</td>\n",
       "      <td>0.02120</td>\n",
       "      <td>0.20010</td>\n",
       "    </tr>\n",
       "    <tr>\n",
       "      <th>gc[1]</th>\n",
       "      <td>-0.35375</td>\n",
       "      <td>0.06530</td>\n",
       "      <td>0.03680</td>\n",
       "      <td>0.55600</td>\n",
       "    </tr>\n",
       "  </tbody>\n",
       "</table>\n",
       "</div>"
      ],
      "text/plain": [
       "                0            1            183834      183835\n",
       "id[0][0]    5678.00000   3181.00000   7429.00000  3565.00000\n",
       "id[1][0]    5735.00000   3193.00000   7423.00000   487.00000\n",
       "id[2][0]    5568.00000   3164.00000   7347.00000  3546.00000\n",
       "id[3][0]    5678.00000   3179.00000   7327.00000   486.00000\n",
       "x[0]        1969.21590   2222.70820    628.17332  1012.99140\n",
       "x[1]        2159.75690    480.46175   3170.70070   668.48905\n",
       "errx[0][0]     0.10460      0.00840      0.02520     0.13210\n",
       "errx[0][1]     0.07590      0.00800      0.02360     0.16340\n",
       "errx[1][0]     0.10630      0.00780      0.01360     0.24430\n",
       "errx[1][1]     0.07450      0.00860      0.01720     0.22450\n",
       "errx[2][0]     0.10550      0.00830      0.01740     0.13360\n",
       "errx[2][1]     0.07590      0.00800      0.01450     0.16640\n",
       "errx[3][0]     0.10700      0.00780      0.01370     0.16500\n",
       "errx[3][1]     0.07460      0.00860      0.01730     0.13410\n",
       "g[0][0]        1.08300      0.41740      0.45180     0.01850\n",
       "g[0][1]       -0.23410      0.64280     -0.56120     0.74500\n",
       "g[1][0]        1.14990     -0.22490     -0.40990     0.33110\n",
       "g[1][1]       -0.42440     -0.52650      0.64190     0.33490\n",
       "g[2][0]        1.17050      0.43780      0.46380     0.06050\n",
       "g[2][1]       -0.26170      0.65210     -0.57500     0.76650\n",
       "g[3][0]        1.21050     -0.26650     -0.42140     0.33970\n",
       "g[3][1]       -0.44580     -0.52150      0.64860     0.34550\n",
       "flux[0][0]  8119.97530  53940.34200  65430.34100  7363.03290\n",
       "flux[1][0]  8214.59110  53844.27400  65042.71700  8192.73810\n",
       "flux[2][0]  8109.64230  53930.38000  65522.96300  7288.09710\n",
       "flux[3][0]  8206.34940  53825.16300  65130.23400  7581.06100\n",
       "gm[0]          1.11645      0.09625      0.02095     0.17480\n",
       "gm[1]         -0.32925      0.05815      0.04035     0.53995\n",
       "gc[0]          1.19050      0.08565      0.02120     0.20010\n",
       "gc[1]         -0.35375      0.06530      0.03680     0.55600"
      ]
     },
     "execution_count": 7,
     "metadata": {},
     "output_type": "execute_result"
    }
   ],
   "source": [
    "df = pd.read_csv(infile,sep=r'\\s+',comment='#',header=None)\n",
    "df.columns = headers\n",
    "print(df.shape)\n",
    "df.head(2).append(df.tail(2)).T"
   ]
  },
  {
   "cell_type": "markdown",
   "metadata": {},
   "source": [
    "# Create new columns"
   ]
  },
  {
   "cell_type": "code",
   "execution_count": 8,
   "metadata": {
    "collapsed": false
   },
   "outputs": [
    {
     "data": {
      "text/html": [
       "<div>\n",
       "<style>\n",
       "    .dataframe thead tr:only-child th {\n",
       "        text-align: right;\n",
       "    }\n",
       "\n",
       "    .dataframe thead th {\n",
       "        text-align: left;\n",
       "    }\n",
       "\n",
       "    .dataframe tbody tr th {\n",
       "        vertical-align: top;\n",
       "    }\n",
       "</style>\n",
       "<table border=\"1\" class=\"dataframe\">\n",
       "  <thead>\n",
       "    <tr style=\"text-align: right;\">\n",
       "      <th></th>\n",
       "      <th>id[0][0]</th>\n",
       "      <th>id[1][0]</th>\n",
       "      <th>id[2][0]</th>\n",
       "      <th>id[3][0]</th>\n",
       "      <th>x[0]</th>\n",
       "      <th>x[1]</th>\n",
       "      <th>errx[0][0]</th>\n",
       "      <th>errx[0][1]</th>\n",
       "      <th>errx[1][0]</th>\n",
       "      <th>errx[1][1]</th>\n",
       "      <th>...</th>\n",
       "      <th>flux[1][0]</th>\n",
       "      <th>flux[2][0]</th>\n",
       "      <th>flux[3][0]</th>\n",
       "      <th>gm[0]</th>\n",
       "      <th>gm[1]</th>\n",
       "      <th>gc[0]</th>\n",
       "      <th>gc[1]</th>\n",
       "      <th>flux</th>\n",
       "      <th>gm_sq</th>\n",
       "      <th>gc_sq</th>\n",
       "    </tr>\n",
       "  </thead>\n",
       "  <tbody>\n",
       "    <tr>\n",
       "      <th>0</th>\n",
       "      <td>5678</td>\n",
       "      <td>5735</td>\n",
       "      <td>5568</td>\n",
       "      <td>5678</td>\n",
       "      <td>1969.21590</td>\n",
       "      <td>2159.75690</td>\n",
       "      <td>0.1046</td>\n",
       "      <td>0.0759</td>\n",
       "      <td>0.1063</td>\n",
       "      <td>0.0745</td>\n",
       "      <td>...</td>\n",
       "      <td>8214.5911</td>\n",
       "      <td>8109.6423</td>\n",
       "      <td>8206.3494</td>\n",
       "      <td>1.11645</td>\n",
       "      <td>-0.32925</td>\n",
       "      <td>1.19050</td>\n",
       "      <td>-0.35375</td>\n",
       "      <td>32650.5581</td>\n",
       "      <td>1.354866</td>\n",
       "      <td>1.542429</td>\n",
       "    </tr>\n",
       "    <tr>\n",
       "      <th>1</th>\n",
       "      <td>3181</td>\n",
       "      <td>3193</td>\n",
       "      <td>3164</td>\n",
       "      <td>3179</td>\n",
       "      <td>2222.70820</td>\n",
       "      <td>480.46175</td>\n",
       "      <td>0.0084</td>\n",
       "      <td>0.0080</td>\n",
       "      <td>0.0078</td>\n",
       "      <td>0.0086</td>\n",
       "      <td>...</td>\n",
       "      <td>53844.2740</td>\n",
       "      <td>53930.3800</td>\n",
       "      <td>53825.1630</td>\n",
       "      <td>0.09625</td>\n",
       "      <td>0.05815</td>\n",
       "      <td>0.08565</td>\n",
       "      <td>0.06530</td>\n",
       "      <td>215540.1590</td>\n",
       "      <td>0.012645</td>\n",
       "      <td>0.011600</td>\n",
       "    </tr>\n",
       "    <tr>\n",
       "      <th>2</th>\n",
       "      <td>617</td>\n",
       "      <td>629</td>\n",
       "      <td>634</td>\n",
       "      <td>631</td>\n",
       "      <td>2490.22380</td>\n",
       "      <td>808.50175</td>\n",
       "      <td>0.1954</td>\n",
       "      <td>0.2183</td>\n",
       "      <td>0.1988</td>\n",
       "      <td>0.2101</td>\n",
       "      <td>...</td>\n",
       "      <td>2009.3786</td>\n",
       "      <td>1981.6793</td>\n",
       "      <td>2005.1267</td>\n",
       "      <td>-0.30090</td>\n",
       "      <td>-0.46295</td>\n",
       "      <td>-0.34460</td>\n",
       "      <td>-0.37255</td>\n",
       "      <td>7989.1430</td>\n",
       "      <td>0.304864</td>\n",
       "      <td>0.257543</td>\n",
       "    </tr>\n",
       "    <tr>\n",
       "      <th>3</th>\n",
       "      <td>684</td>\n",
       "      <td>696</td>\n",
       "      <td>699</td>\n",
       "      <td>698</td>\n",
       "      <td>3373.27020</td>\n",
       "      <td>905.54893</td>\n",
       "      <td>0.0547</td>\n",
       "      <td>0.0594</td>\n",
       "      <td>0.0549</td>\n",
       "      <td>0.0592</td>\n",
       "      <td>...</td>\n",
       "      <td>6547.4142</td>\n",
       "      <td>6556.4337</td>\n",
       "      <td>6549.9094</td>\n",
       "      <td>-0.15520</td>\n",
       "      <td>-0.07390</td>\n",
       "      <td>-0.17915</td>\n",
       "      <td>-0.16215</td>\n",
       "      <td>26208.0764</td>\n",
       "      <td>0.029548</td>\n",
       "      <td>0.058387</td>\n",
       "    </tr>\n",
       "    <tr>\n",
       "      <th>4</th>\n",
       "      <td>7439</td>\n",
       "      <td>7449</td>\n",
       "      <td>7225</td>\n",
       "      <td>7379</td>\n",
       "      <td>469.49428</td>\n",
       "      <td>3091.40550</td>\n",
       "      <td>0.1649</td>\n",
       "      <td>0.1191</td>\n",
       "      <td>0.1122</td>\n",
       "      <td>0.1652</td>\n",
       "      <td>...</td>\n",
       "      <td>5059.5502</td>\n",
       "      <td>5279.9345</td>\n",
       "      <td>5064.7001</td>\n",
       "      <td>0.01340</td>\n",
       "      <td>0.03275</td>\n",
       "      <td>0.00085</td>\n",
       "      <td>0.03555</td>\n",
       "      <td>20687.7608</td>\n",
       "      <td>0.001252</td>\n",
       "      <td>0.001265</td>\n",
       "    </tr>\n",
       "  </tbody>\n",
       "</table>\n",
       "<p>5 rows × 33 columns</p>\n",
       "</div>"
      ],
      "text/plain": [
       "   id[0][0]  id[1][0]  id[2][0]  id[3][0]        x[0]        x[1]  errx[0][0]  \\\n",
       "0      5678      5735      5568      5678  1969.21590  2159.75690      0.1046   \n",
       "1      3181      3193      3164      3179  2222.70820   480.46175      0.0084   \n",
       "2       617       629       634       631  2490.22380   808.50175      0.1954   \n",
       "3       684       696       699       698  3373.27020   905.54893      0.0547   \n",
       "4      7439      7449      7225      7379   469.49428  3091.40550      0.1649   \n",
       "\n",
       "   errx[0][1]  errx[1][0]  errx[1][1]    ...     flux[1][0]  flux[2][0]  \\\n",
       "0      0.0759      0.1063      0.0745    ...      8214.5911   8109.6423   \n",
       "1      0.0080      0.0078      0.0086    ...     53844.2740  53930.3800   \n",
       "2      0.2183      0.1988      0.2101    ...      2009.3786   1981.6793   \n",
       "3      0.0594      0.0549      0.0592    ...      6547.4142   6556.4337   \n",
       "4      0.1191      0.1122      0.1652    ...      5059.5502   5279.9345   \n",
       "\n",
       "   flux[3][0]    gm[0]    gm[1]    gc[0]    gc[1]         flux     gm_sq  \\\n",
       "0   8206.3494  1.11645 -0.32925  1.19050 -0.35375   32650.5581  1.354866   \n",
       "1  53825.1630  0.09625  0.05815  0.08565  0.06530  215540.1590  0.012645   \n",
       "2   2005.1267 -0.30090 -0.46295 -0.34460 -0.37255    7989.1430  0.304864   \n",
       "3   6549.9094 -0.15520 -0.07390 -0.17915 -0.16215   26208.0764  0.029548   \n",
       "4   5064.7001  0.01340  0.03275  0.00085  0.03555   20687.7608  0.001252   \n",
       "\n",
       "      gc_sq  \n",
       "0  1.542429  \n",
       "1  0.011600  \n",
       "2  0.257543  \n",
       "3  0.058387  \n",
       "4  0.001265  \n",
       "\n",
       "[5 rows x 33 columns]"
      ]
     },
     "execution_count": 8,
     "metadata": {},
     "output_type": "execute_result"
    }
   ],
   "source": [
    "# Find total flux, gm**2 and gc**2\n",
    "df['flux'] = df['flux[0][0]'] + df['flux[1][0]'] + df['flux[2][0]'] + df['flux[3][0]']\n",
    "df['gm_sq'] = df['gm[0]']**2 + df['gm[1]']**2\n",
    "df['gc_sq'] = df['gc[0]']**2 + df['gc[1]']**2\n",
    "df.head()"
   ]
  },
  {
   "cell_type": "code",
   "execution_count": 9,
   "metadata": {
    "collapsed": false
   },
   "outputs": [
    {
     "data": {
      "text/html": [
       "<div>\n",
       "<style>\n",
       "    .dataframe thead tr:only-child th {\n",
       "        text-align: right;\n",
       "    }\n",
       "\n",
       "    .dataframe thead th {\n",
       "        text-align: left;\n",
       "    }\n",
       "\n",
       "    .dataframe tbody tr th {\n",
       "        vertical-align: top;\n",
       "    }\n",
       "</style>\n",
       "<table border=\"1\" class=\"dataframe\">\n",
       "  <thead>\n",
       "    <tr style=\"text-align: right;\">\n",
       "      <th></th>\n",
       "      <th>id[0][0]</th>\n",
       "      <th>id[1][0]</th>\n",
       "      <th>id[2][0]</th>\n",
       "      <th>id[3][0]</th>\n",
       "      <th>x[0]</th>\n",
       "      <th>x[1]</th>\n",
       "      <th>errx[0][0]</th>\n",
       "      <th>errx[0][1]</th>\n",
       "      <th>errx[1][0]</th>\n",
       "      <th>errx[1][1]</th>\n",
       "      <th>...</th>\n",
       "      <th>flux[1][0]</th>\n",
       "      <th>flux[2][0]</th>\n",
       "      <th>flux[3][0]</th>\n",
       "      <th>gm[0]</th>\n",
       "      <th>gm[1]</th>\n",
       "      <th>gc[0]</th>\n",
       "      <th>gc[1]</th>\n",
       "      <th>flux</th>\n",
       "      <th>gm_sq</th>\n",
       "      <th>gc_sq</th>\n",
       "    </tr>\n",
       "  </thead>\n",
       "  <tbody>\n",
       "    <tr>\n",
       "      <th>180836</th>\n",
       "      <td>7597</td>\n",
       "      <td>7587</td>\n",
       "      <td>7519</td>\n",
       "      <td>7501</td>\n",
       "      <td>2193.6307</td>\n",
       "      <td>3159.44600</td>\n",
       "      <td>0.3857</td>\n",
       "      <td>0.3846</td>\n",
       "      <td>0.4108</td>\n",
       "      <td>0.4646</td>\n",
       "      <td>...</td>\n",
       "      <td>8.597343e+02</td>\n",
       "      <td>8.518551e+02</td>\n",
       "      <td>8.422593e+02</td>\n",
       "      <td>0.06375</td>\n",
       "      <td>-0.13935</td>\n",
       "      <td>0.13805</td>\n",
       "      <td>-0.21480</td>\n",
       "      <td>3.517335e+03</td>\n",
       "      <td>0.023482</td>\n",
       "      <td>0.065197</td>\n",
       "    </tr>\n",
       "    <tr>\n",
       "      <th>24586</th>\n",
       "      <td>3241</td>\n",
       "      <td>3245</td>\n",
       "      <td>3259</td>\n",
       "      <td>3255</td>\n",
       "      <td>1177.8090</td>\n",
       "      <td>467.15318</td>\n",
       "      <td>0.2720</td>\n",
       "      <td>0.3329</td>\n",
       "      <td>0.3182</td>\n",
       "      <td>0.3392</td>\n",
       "      <td>...</td>\n",
       "      <td>1.123866e+03</td>\n",
       "      <td>1.166863e+03</td>\n",
       "      <td>1.051554e+03</td>\n",
       "      <td>0.35400</td>\n",
       "      <td>0.14165</td>\n",
       "      <td>0.16295</td>\n",
       "      <td>0.23625</td>\n",
       "      <td>4.517341e+03</td>\n",
       "      <td>0.145381</td>\n",
       "      <td>0.082367</td>\n",
       "    </tr>\n",
       "    <tr>\n",
       "      <th>44153</th>\n",
       "      <td>5092</td>\n",
       "      <td>5093</td>\n",
       "      <td>5067</td>\n",
       "      <td>5058</td>\n",
       "      <td>1864.7449</td>\n",
       "      <td>1676.20600</td>\n",
       "      <td>0.0006</td>\n",
       "      <td>0.0009</td>\n",
       "      <td>0.0006</td>\n",
       "      <td>0.0010</td>\n",
       "      <td>...</td>\n",
       "      <td>1.112796e+06</td>\n",
       "      <td>1.092244e+06</td>\n",
       "      <td>1.111720e+06</td>\n",
       "      <td>-0.93000</td>\n",
       "      <td>0.03850</td>\n",
       "      <td>-0.95505</td>\n",
       "      <td>0.05265</td>\n",
       "      <td>4.410982e+06</td>\n",
       "      <td>0.866382</td>\n",
       "      <td>0.914893</td>\n",
       "    </tr>\n",
       "    <tr>\n",
       "      <th>182110</th>\n",
       "      <td>1343</td>\n",
       "      <td>1357</td>\n",
       "      <td>1365</td>\n",
       "      <td>1381</td>\n",
       "      <td>1752.4989</td>\n",
       "      <td>1823.38120</td>\n",
       "      <td>0.0017</td>\n",
       "      <td>0.0012</td>\n",
       "      <td>0.0009</td>\n",
       "      <td>0.0006</td>\n",
       "      <td>...</td>\n",
       "      <td>1.510224e+06</td>\n",
       "      <td>1.523726e+06</td>\n",
       "      <td>1.520149e+06</td>\n",
       "      <td>0.82035</td>\n",
       "      <td>-0.52500</td>\n",
       "      <td>0.81545</td>\n",
       "      <td>-0.54430</td>\n",
       "      <td>6.084687e+06</td>\n",
       "      <td>0.948599</td>\n",
       "      <td>0.961221</td>\n",
       "    </tr>\n",
       "  </tbody>\n",
       "</table>\n",
       "<p>4 rows × 33 columns</p>\n",
       "</div>"
      ],
      "text/plain": [
       "        id[0][0]  id[1][0]  id[2][0]  id[3][0]       x[0]        x[1]  \\\n",
       "180836      7597      7587      7519      7501  2193.6307  3159.44600   \n",
       "24586       3241      3245      3259      3255  1177.8090   467.15318   \n",
       "44153       5092      5093      5067      5058  1864.7449  1676.20600   \n",
       "182110      1343      1357      1365      1381  1752.4989  1823.38120   \n",
       "\n",
       "        errx[0][0]  errx[0][1]  errx[1][0]  errx[1][1]    ...     \\\n",
       "180836      0.3857      0.3846      0.4108      0.4646    ...      \n",
       "24586       0.2720      0.3329      0.3182      0.3392    ...      \n",
       "44153       0.0006      0.0009      0.0006      0.0010    ...      \n",
       "182110      0.0017      0.0012      0.0009      0.0006    ...      \n",
       "\n",
       "          flux[1][0]    flux[2][0]    flux[3][0]    gm[0]    gm[1]    gc[0]  \\\n",
       "180836  8.597343e+02  8.518551e+02  8.422593e+02  0.06375 -0.13935  0.13805   \n",
       "24586   1.123866e+03  1.166863e+03  1.051554e+03  0.35400  0.14165  0.16295   \n",
       "44153   1.112796e+06  1.092244e+06  1.111720e+06 -0.93000  0.03850 -0.95505   \n",
       "182110  1.510224e+06  1.523726e+06  1.520149e+06  0.82035 -0.52500  0.81545   \n",
       "\n",
       "          gc[1]          flux     gm_sq     gc_sq  \n",
       "180836 -0.21480  3.517335e+03  0.023482  0.065197  \n",
       "24586   0.23625  4.517341e+03  0.145381  0.082367  \n",
       "44153   0.05265  4.410982e+06  0.866382  0.914893  \n",
       "182110 -0.54430  6.084687e+06  0.948599  0.961221  \n",
       "\n",
       "[4 rows x 33 columns]"
      ]
     },
     "execution_count": 9,
     "metadata": {},
     "output_type": "execute_result"
    }
   ],
   "source": [
    "# we want to find flux buckets, so sort the data by flux\n",
    "df = df.sort_values(by='flux')\n",
    "df.head(2).append(df.tail(2))"
   ]
  },
  {
   "cell_type": "code",
   "execution_count": 10,
   "metadata": {
    "collapsed": false
   },
   "outputs": [
    {
     "data": {
      "text/plain": [
       "(183836, 33)"
      ]
     },
     "execution_count": 10,
     "metadata": {},
     "output_type": "execute_result"
    }
   ],
   "source": [
    "df.shape"
   ]
  },
  {
   "cell_type": "code",
   "execution_count": 135,
   "metadata": {
    "collapsed": false
   },
   "outputs": [
    {
     "data": {
      "text/plain": [
       "count    1.838360e+05\n",
       "mean     1.408643e+05\n",
       "std      2.657454e+05\n",
       "min      3.517335e+03\n",
       "25%      1.771650e+04\n",
       "50%      3.720871e+04\n",
       "75%      1.160867e+05\n",
       "max      6.084687e+06\n",
       "Name: flux, dtype: float64"
      ]
     },
     "execution_count": 135,
     "metadata": {},
     "output_type": "execute_result"
    }
   ],
   "source": [
    "df.flux.describe()"
   ]
  },
  {
   "cell_type": "code",
   "execution_count": 139,
   "metadata": {
    "collapsed": false
   },
   "outputs": [
    {
     "data": {
      "text/plain": [
       "<matplotlib.text.Text at 0x116d654a8>"
      ]
     },
     "execution_count": 139,
     "metadata": {},
     "output_type": "execute_result"
    },
    {
     "data": {
      "image/png": "[encoded data removed]",
      "text/plain": [
       "<matplotlib.figure.Figure at 0x117a60a58>"
      ]
     },
     "metadata": {
      "image/png": {
       "height": 263,
       "width": 451
      }
     },
     "output_type": "display_data"
    }
   ],
   "source": [
    "plt.plot(df.flux.values,'.')\n",
    "plt.xlabel('row_number')\n",
    "plt.ylabel('flux')"
   ]
  },
  {
   "cell_type": "code",
   "execution_count": 141,
   "metadata": {
    "collapsed": false
   },
   "outputs": [
    {
     "data": {
      "text/plain": [
       "<matplotlib.text.Text at 0x117aabc18>"
      ]
     },
     "execution_count": 141,
     "metadata": {},
     "output_type": "execute_result"
    },
    {
     "data": {
      "image/png": "[encoded data removed]",
      "text/plain": [
       "<matplotlib.figure.Figure at 0x11a69e4a8>"
      ]
     },
     "metadata": {
      "image/png": {
       "height": 263,
       "width": 451
      }
     },
     "output_type": "display_data"
    }
   ],
   "source": [
    "# looks like two data points are outliers, remove them\n",
    "df = df.query('flux < 4e6')\n",
    "plt.plot(df.flux.values,'.')\n",
    "plt.xlabel('row_number')\n",
    "plt.ylabel('flux')"
   ]
  },
  {
   "cell_type": "code",
   "execution_count": 142,
   "metadata": {
    "collapsed": false
   },
   "outputs": [
    {
     "data": {
      "text/html": [
       "<div>\n",
       "<style>\n",
       "    .dataframe thead tr:only-child th {\n",
       "        text-align: right;\n",
       "    }\n",
       "\n",
       "    .dataframe thead th {\n",
       "        text-align: left;\n",
       "    }\n",
       "\n",
       "    .dataframe tbody tr th {\n",
       "        vertical-align: top;\n",
       "    }\n",
       "</style>\n",
       "<table border=\"1\" class=\"dataframe\">\n",
       "  <thead>\n",
       "    <tr style=\"text-align: right;\">\n",
       "      <th></th>\n",
       "      <th>gc_sq</th>\n",
       "      <th>flux_bin</th>\n",
       "      <th>flux_bin_mean_gm_sq</th>\n",
       "      <th>flux_bin_mean_gc_sq</th>\n",
       "      <th>flux_bin_mean_flux</th>\n",
       "    </tr>\n",
       "  </thead>\n",
       "  <tbody>\n",
       "    <tr>\n",
       "      <th>180836</th>\n",
       "      <td>0.065197</td>\n",
       "      <td>0</td>\n",
       "      <td>0.315938</td>\n",
       "      <td>0.322123</td>\n",
       "      <td>4.442059e+04</td>\n",
       "    </tr>\n",
       "    <tr>\n",
       "      <th>24586</th>\n",
       "      <td>0.082367</td>\n",
       "      <td>0</td>\n",
       "      <td>0.315938</td>\n",
       "      <td>0.322123</td>\n",
       "      <td>4.442059e+04</td>\n",
       "    </tr>\n",
       "    <tr>\n",
       "      <th>80278</th>\n",
       "      <td>0.827968</td>\n",
       "      <td>29</td>\n",
       "      <td>0.843333</td>\n",
       "      <td>0.827968</td>\n",
       "      <td>3.806006e+06</td>\n",
       "    </tr>\n",
       "    <tr>\n",
       "      <th>71103</th>\n",
       "      <td>0.818372</td>\n",
       "      <td>29</td>\n",
       "      <td>0.815898</td>\n",
       "      <td>0.818372</td>\n",
       "      <td>3.889998e+06</td>\n",
       "    </tr>\n",
       "  </tbody>\n",
       "</table>\n",
       "</div>"
      ],
      "text/plain": [
       "           gc_sq  flux_bin  flux_bin_mean_gm_sq  flux_bin_mean_gc_sq  \\\n",
       "180836  0.065197         0             0.315938             0.322123   \n",
       "24586   0.082367         0             0.315938             0.322123   \n",
       "80278   0.827968        29             0.843333             0.827968   \n",
       "71103   0.818372        29             0.815898             0.818372   \n",
       "\n",
       "        flux_bin_mean_flux  \n",
       "180836        4.442059e+04  \n",
       "24586         4.442059e+04  \n",
       "80278         3.806006e+06  \n",
       "71103         3.889998e+06  "
      ]
     },
     "execution_count": 142,
     "metadata": {},
     "output_type": "execute_result"
    }
   ],
   "source": [
    "N_BUCKETS = 30\n",
    "df['flux_bin'] = pd.cut(df.flux, bins=N_BUCKETS, labels=False)\n",
    "df.head(2).append(df.tail(2)).iloc[:,-5:]"
   ]
  },
  {
   "cell_type": "code",
   "execution_count": 143,
   "metadata": {
    "collapsed": false
   },
   "outputs": [
    {
     "data": {
      "text/html": [
       "<div>\n",
       "<style>\n",
       "    .dataframe thead tr:only-child th {\n",
       "        text-align: right;\n",
       "    }\n",
       "\n",
       "    .dataframe thead th {\n",
       "        text-align: left;\n",
       "    }\n",
       "\n",
       "    .dataframe tbody tr th {\n",
       "        vertical-align: top;\n",
       "    }\n",
       "</style>\n",
       "<table border=\"1\" class=\"dataframe\">\n",
       "  <thead>\n",
       "    <tr style=\"text-align: right;\">\n",
       "      <th></th>\n",
       "      <th>id[0][0]</th>\n",
       "      <th>id[1][0]</th>\n",
       "      <th>id[2][0]</th>\n",
       "      <th>id[3][0]</th>\n",
       "      <th>x[0]</th>\n",
       "      <th>x[1]</th>\n",
       "      <th>errx[0][0]</th>\n",
       "      <th>errx[0][1]</th>\n",
       "      <th>errx[1][0]</th>\n",
       "      <th>errx[1][1]</th>\n",
       "      <th>...</th>\n",
       "      <th>gm[1]</th>\n",
       "      <th>gc[0]</th>\n",
       "      <th>gc[1]</th>\n",
       "      <th>flux</th>\n",
       "      <th>gm_sq</th>\n",
       "      <th>gc_sq</th>\n",
       "      <th>flux_bin</th>\n",
       "      <th>flux_bin_mean_gm_sq</th>\n",
       "      <th>flux_bin_mean_gc_sq</th>\n",
       "      <th>flux_bin_mean_flux</th>\n",
       "    </tr>\n",
       "  </thead>\n",
       "  <tbody>\n",
       "    <tr>\n",
       "      <th>80278</th>\n",
       "      <td>5133</td>\n",
       "      <td>5111</td>\n",
       "      <td>5125</td>\n",
       "      <td>5121</td>\n",
       "      <td>1872.0278</td>\n",
       "      <td>1769.3216</td>\n",
       "      <td>0.0008</td>\n",
       "      <td>0.0010</td>\n",
       "      <td>0.0007</td>\n",
       "      <td>0.0010</td>\n",
       "      <td>...</td>\n",
       "      <td>-0.72725</td>\n",
       "      <td>-0.56210</td>\n",
       "      <td>-0.71555</td>\n",
       "      <td>3806006.39</td>\n",
       "      <td>0.843333</td>\n",
       "      <td>0.827968</td>\n",
       "      <td>29</td>\n",
       "      <td>0.843333</td>\n",
       "      <td>0.827968</td>\n",
       "      <td>3806006.39</td>\n",
       "    </tr>\n",
       "    <tr>\n",
       "      <th>71103</th>\n",
       "      <td>4878</td>\n",
       "      <td>4889</td>\n",
       "      <td>4900</td>\n",
       "      <td>4883</td>\n",
       "      <td>1721.7061</td>\n",
       "      <td>1565.6212</td>\n",
       "      <td>0.0055</td>\n",
       "      <td>0.0019</td>\n",
       "      <td>0.0058</td>\n",
       "      <td>0.0031</td>\n",
       "      <td>...</td>\n",
       "      <td>0.18415</td>\n",
       "      <td>0.88575</td>\n",
       "      <td>0.18390</td>\n",
       "      <td>3889998.23</td>\n",
       "      <td>0.815898</td>\n",
       "      <td>0.818372</td>\n",
       "      <td>29</td>\n",
       "      <td>0.815898</td>\n",
       "      <td>0.818372</td>\n",
       "      <td>3889998.23</td>\n",
       "    </tr>\n",
       "  </tbody>\n",
       "</table>\n",
       "<p>2 rows × 37 columns</p>\n",
       "</div>"
      ],
      "text/plain": [
       "       id[0][0]  id[1][0]  id[2][0]  id[3][0]       x[0]       x[1]  \\\n",
       "80278      5133      5111      5125      5121  1872.0278  1769.3216   \n",
       "71103      4878      4889      4900      4883  1721.7061  1565.6212   \n",
       "\n",
       "       errx[0][0]  errx[0][1]  errx[1][0]  errx[1][1]         ...          \\\n",
       "80278      0.0008      0.0010      0.0007      0.0010         ...           \n",
       "71103      0.0055      0.0019      0.0058      0.0031         ...           \n",
       "\n",
       "         gm[1]    gc[0]    gc[1]        flux     gm_sq     gc_sq  flux_bin  \\\n",
       "80278 -0.72725 -0.56210 -0.71555  3806006.39  0.843333  0.827968        29   \n",
       "71103  0.18415  0.88575  0.18390  3889998.23  0.815898  0.818372        29   \n",
       "\n",
       "       flux_bin_mean_gm_sq  flux_bin_mean_gc_sq  flux_bin_mean_flux  \n",
       "80278             0.843333             0.827968          3806006.39  \n",
       "71103             0.815898             0.818372          3889998.23  \n",
       "\n",
       "[2 rows x 37 columns]"
      ]
     },
     "execution_count": 143,
     "metadata": {},
     "output_type": "execute_result"
    }
   ],
   "source": [
    "# Note that not all the bins have values\n",
    "# they are divided with equal flux sum, not by number of rows.\n",
    "temp = N_BUCKETS -1\n",
    "df.query('flux_bin == @temp')"
   ]
  },
  {
   "cell_type": "code",
   "execution_count": 144,
   "metadata": {
    "collapsed": false
   },
   "outputs": [
    {
     "data": {
      "text/plain": [
       "<matplotlib.axes._subplots.AxesSubplot at 0x117a6e4a8>"
      ]
     },
     "execution_count": 144,
     "metadata": {},
     "output_type": "execute_result"
    },
    {
     "data": {
      "image/png": "[encoded data removed]",
      "text/plain": [
       "<matplotlib.figure.Figure at 0x11b29d550>"
      ]
     },
     "metadata": {
      "image/png": {
       "height": 248,
       "width": 458
      }
     },
     "output_type": "display_data"
    }
   ],
   "source": [
    "df.flux.plot.hist(N_BUCKETS)"
   ]
  },
  {
   "cell_type": "code",
   "execution_count": 149,
   "metadata": {
    "collapsed": false
   },
   "outputs": [
    {
     "data": {
      "text/html": [
       "<div>\n",
       "<style>\n",
       "    .dataframe thead tr:only-child th {\n",
       "        text-align: right;\n",
       "    }\n",
       "\n",
       "    .dataframe thead th {\n",
       "        text-align: left;\n",
       "    }\n",
       "\n",
       "    .dataframe tbody tr th {\n",
       "        vertical-align: top;\n",
       "    }\n",
       "</style>\n",
       "<table border=\"1\" class=\"dataframe\">\n",
       "  <thead>\n",
       "    <tr style=\"text-align: right;\">\n",
       "      <th></th>\n",
       "      <th>gc_sq</th>\n",
       "      <th>flux_bin</th>\n",
       "      <th>flux_bin_mean_gm_sq</th>\n",
       "      <th>flux_bin_mean_gc_sq</th>\n",
       "      <th>flux_bin_mean_flux</th>\n",
       "    </tr>\n",
       "  </thead>\n",
       "  <tbody>\n",
       "    <tr>\n",
       "      <th>180836</th>\n",
       "      <td>0.065197</td>\n",
       "      <td>0</td>\n",
       "      <td>0.323353</td>\n",
       "      <td>0.329551</td>\n",
       "      <td>36169.504788</td>\n",
       "    </tr>\n",
       "    <tr>\n",
       "      <th>24586</th>\n",
       "      <td>0.082367</td>\n",
       "      <td>0</td>\n",
       "      <td>0.323353</td>\n",
       "      <td>0.329551</td>\n",
       "      <td>36169.504788</td>\n",
       "    </tr>\n",
       "    <tr>\n",
       "      <th>169317</th>\n",
       "      <td>0.032798</td>\n",
       "      <td>0</td>\n",
       "      <td>0.323353</td>\n",
       "      <td>0.329551</td>\n",
       "      <td>36169.504788</td>\n",
       "    </tr>\n",
       "    <tr>\n",
       "      <th>53346</th>\n",
       "      <td>0.167132</td>\n",
       "      <td>0</td>\n",
       "      <td>0.323353</td>\n",
       "      <td>0.329551</td>\n",
       "      <td>36169.504788</td>\n",
       "    </tr>\n",
       "    <tr>\n",
       "      <th>137696</th>\n",
       "      <td>0.963135</td>\n",
       "      <td>0</td>\n",
       "      <td>0.323353</td>\n",
       "      <td>0.329551</td>\n",
       "      <td>36169.504788</td>\n",
       "    </tr>\n",
       "  </tbody>\n",
       "</table>\n",
       "</div>"
      ],
      "text/plain": [
       "           gc_sq  flux_bin  flux_bin_mean_gm_sq  flux_bin_mean_gc_sq  \\\n",
       "180836  0.065197         0             0.323353             0.329551   \n",
       "24586   0.082367         0             0.323353             0.329551   \n",
       "169317  0.032798         0             0.323353             0.329551   \n",
       "53346   0.167132         0             0.323353             0.329551   \n",
       "137696  0.963135         0             0.323353             0.329551   \n",
       "\n",
       "        flux_bin_mean_flux  \n",
       "180836        36169.504788  \n",
       "24586         36169.504788  \n",
       "169317        36169.504788  \n",
       "53346         36169.504788  \n",
       "137696        36169.504788  "
      ]
     },
     "execution_count": 149,
     "metadata": {},
     "output_type": "execute_result"
    }
   ],
   "source": [
    "df.iloc[:5,-5:]"
   ]
  },
  {
   "cell_type": "markdown",
   "metadata": {},
   "source": [
    "# Fitting cubic function without bucketing for flux vs gm**2"
   ]
  },
  {
   "cell_type": "code",
   "execution_count": 158,
   "metadata": {
    "collapsed": false
   },
   "outputs": [
    {
     "data": {
      "text/plain": [
       "array([ -5.74135019e-20,   4.33159258e-13,  -7.16880305e-07,\n",
       "         3.40963718e-01])"
      ]
     },
     "execution_count": 158,
     "metadata": {},
     "output_type": "execute_result"
    },
    {
     "data": {
      "image/png": "[encoded data removed]",
      "text/plain": [
       "<matplotlib.figure.Figure at 0x11a6b52e8>"
      ]
     },
     "metadata": {
      "image/png": {
       "height": 248,
       "width": 423
      }
     },
     "output_type": "display_data"
    }
   ],
   "source": [
    "x = df['flux'].values\n",
    "y = df['gm_sq'].values\n",
    "\n",
    "z = np.polyfit(x,y,3)\n",
    "p = np.poly1d(z)\n",
    "xp = np.linspace(x.min(), x.max(), 1000)\n",
    "plt.plot(x, y, '.', xp, p(xp), '-')\n",
    "\n",
    "\n",
    "gm_no_buckets = p.coeffs\n",
    "gm_no_buckets"
   ]
  },
  {
   "cell_type": "markdown",
   "metadata": {},
   "source": [
    "# Fitting cubic function without bucketing for flux vs gc**2"
   ]
  },
  {
   "cell_type": "code",
   "execution_count": 159,
   "metadata": {
    "collapsed": false
   },
   "outputs": [
    {
     "data": {
      "text/plain": [
       "array([ -5.64600247e-20,   4.33941935e-13,  -7.21976523e-07,\n",
       "         3.47180962e-01])"
      ]
     },
     "execution_count": 159,
     "metadata": {},
     "output_type": "execute_result"
    },
    {
     "data": {
      "image/png": "[encoded data removed]",
      "text/plain": [
       "<matplotlib.figure.Figure at 0x11ac8abe0>"
      ]
     },
     "metadata": {
      "image/png": {
       "height": 248,
       "width": 423
      }
     },
     "output_type": "display_data"
    }
   ],
   "source": [
    "x = df['flux'].values\n",
    "y = df['gc_sq'].values\n",
    "\n",
    "z = np.polyfit(x,y,3)\n",
    "p = np.poly1d(z)\n",
    "xp = np.linspace(x.min(), x.max(), 1000)\n",
    "plt.plot(x, y, '.', xp, p(xp), '-')\n",
    "\n",
    "gc_no_buckets = p.coeffs\n",
    "gc_no_buckets"
   ]
  },
  {
   "cell_type": "markdown",
   "metadata": {},
   "source": [
    "# Fitting cubic function after bucketing\n",
    "```\n",
    "p(x) = p[0] * x**deg + ... + p[deg]\n",
    "p(x) = ax**3 + bx**2 + cx + d\n",
    "\n",
    "z = np.polyfit(x,y,3)\n",
    "p = np.poly1d(z)\n",
    "a = p(0)\n",
    "d = p(-1)\n",
    "\n",
    "```"
   ]
  },
  {
   "cell_type": "code",
   "execution_count": 151,
   "metadata": {
    "collapsed": false
   },
   "outputs": [
    {
     "data": {
      "text/html": [
       "<div>\n",
       "<style>\n",
       "    .dataframe thead tr:only-child th {\n",
       "        text-align: right;\n",
       "    }\n",
       "\n",
       "    .dataframe thead th {\n",
       "        text-align: left;\n",
       "    }\n",
       "\n",
       "    .dataframe tbody tr th {\n",
       "        vertical-align: top;\n",
       "    }\n",
       "</style>\n",
       "<table border=\"1\" class=\"dataframe\">\n",
       "  <thead>\n",
       "    <tr style=\"text-align: right;\">\n",
       "      <th></th>\n",
       "      <th>gc[1]</th>\n",
       "      <th>flux</th>\n",
       "      <th>gm_sq</th>\n",
       "      <th>gc_sq</th>\n",
       "      <th>flux_bin</th>\n",
       "      <th>flux_bin_mean_gm_sq</th>\n",
       "      <th>flux_bin_mean_gc_sq</th>\n",
       "      <th>flux_bin_mean_flux</th>\n",
       "    </tr>\n",
       "  </thead>\n",
       "  <tbody>\n",
       "    <tr>\n",
       "      <th>180836</th>\n",
       "      <td>-0.21480</td>\n",
       "      <td>3517.3354</td>\n",
       "      <td>0.023482</td>\n",
       "      <td>0.065197</td>\n",
       "      <td>0</td>\n",
       "      <td>0.323353</td>\n",
       "      <td>0.329551</td>\n",
       "      <td>36169.504788</td>\n",
       "    </tr>\n",
       "    <tr>\n",
       "      <th>24586</th>\n",
       "      <td>0.23625</td>\n",
       "      <td>4517.3414</td>\n",
       "      <td>0.145381</td>\n",
       "      <td>0.082367</td>\n",
       "      <td>0</td>\n",
       "      <td>0.323353</td>\n",
       "      <td>0.329551</td>\n",
       "      <td>36169.504788</td>\n",
       "    </tr>\n",
       "    <tr>\n",
       "      <th>169317</th>\n",
       "      <td>0.08615</td>\n",
       "      <td>4635.8814</td>\n",
       "      <td>0.062990</td>\n",
       "      <td>0.032798</td>\n",
       "      <td>0</td>\n",
       "      <td>0.323353</td>\n",
       "      <td>0.329551</td>\n",
       "      <td>36169.504788</td>\n",
       "    </tr>\n",
       "    <tr>\n",
       "      <th>53346</th>\n",
       "      <td>-0.40020</td>\n",
       "      <td>4705.8241</td>\n",
       "      <td>0.183463</td>\n",
       "      <td>0.167132</td>\n",
       "      <td>0</td>\n",
       "      <td>0.323353</td>\n",
       "      <td>0.329551</td>\n",
       "      <td>36169.504788</td>\n",
       "    </tr>\n",
       "    <tr>\n",
       "      <th>137696</th>\n",
       "      <td>-0.81485</td>\n",
       "      <td>4717.4109</td>\n",
       "      <td>0.995355</td>\n",
       "      <td>0.963135</td>\n",
       "      <td>0</td>\n",
       "      <td>0.323353</td>\n",
       "      <td>0.329551</td>\n",
       "      <td>36169.504788</td>\n",
       "    </tr>\n",
       "  </tbody>\n",
       "</table>\n",
       "</div>"
      ],
      "text/plain": [
       "          gc[1]       flux     gm_sq     gc_sq  flux_bin  flux_bin_mean_gm_sq  \\\n",
       "180836 -0.21480  3517.3354  0.023482  0.065197         0             0.323353   \n",
       "24586   0.23625  4517.3414  0.145381  0.082367         0             0.323353   \n",
       "169317  0.08615  4635.8814  0.062990  0.032798         0             0.323353   \n",
       "53346  -0.40020  4705.8241  0.183463  0.167132         0             0.323353   \n",
       "137696 -0.81485  4717.4109  0.995355  0.963135         0             0.323353   \n",
       "\n",
       "        flux_bin_mean_gc_sq  flux_bin_mean_flux  \n",
       "180836             0.329551        36169.504788  \n",
       "24586              0.329551        36169.504788  \n",
       "169317             0.329551        36169.504788  \n",
       "53346              0.329551        36169.504788  \n",
       "137696             0.329551        36169.504788  "
      ]
     },
     "execution_count": 151,
     "metadata": {},
     "output_type": "execute_result"
    }
   ],
   "source": [
    "# create new columns gm**2 gc**2 and flux for each bins\n",
    "df['flux_bin_mean_gm_sq'] = df.groupby('flux_bin')['gm_sq'].transform('mean')\n",
    "df['flux_bin_mean_gc_sq'] = df.groupby('flux_bin')['gc_sq'].transform('mean')\n",
    "df['flux_bin_mean_flux'] = df.groupby('flux_bin')['flux'].transform('mean')\n",
    "df.iloc[:5,-8:]"
   ]
  },
  {
   "cell_type": "code",
   "execution_count": 152,
   "metadata": {
    "collapsed": false
   },
   "outputs": [
    {
     "data": {
      "text/plain": [
       "0.3233528841387166"
      ]
     },
     "execution_count": 152,
     "metadata": {},
     "output_type": "execute_result"
    }
   ],
   "source": [
    "# confirm first bin values\n",
    "bin1 = df.query('flux_bin == 0')\n",
    "bin1.gm_sq.mean()"
   ]
  },
  {
   "cell_type": "code",
   "execution_count": 153,
   "metadata": {
    "collapsed": false
   },
   "outputs": [
    {
     "data": {
      "text/html": [
       "<div>\n",
       "<style>\n",
       "    .dataframe thead tr:only-child th {\n",
       "        text-align: right;\n",
       "    }\n",
       "\n",
       "    .dataframe thead th {\n",
       "        text-align: left;\n",
       "    }\n",
       "\n",
       "    .dataframe tbody tr th {\n",
       "        vertical-align: top;\n",
       "    }\n",
       "</style>\n",
       "<table border=\"1\" class=\"dataframe\">\n",
       "  <thead>\n",
       "    <tr style=\"text-align: right;\">\n",
       "      <th></th>\n",
       "      <th>gm</th>\n",
       "      <th>gc</th>\n",
       "      <th>flux</th>\n",
       "    </tr>\n",
       "  </thead>\n",
       "  <tbody>\n",
       "    <tr>\n",
       "      <th>180836</th>\n",
       "      <td>0.323353</td>\n",
       "      <td>0.329551</td>\n",
       "      <td>3.616950e+04</td>\n",
       "    </tr>\n",
       "    <tr>\n",
       "      <th>23299</th>\n",
       "      <td>0.197824</td>\n",
       "      <td>0.203180</td>\n",
       "      <td>1.850304e+05</td>\n",
       "    </tr>\n",
       "    <tr>\n",
       "      <th>114230</th>\n",
       "      <td>0.086962</td>\n",
       "      <td>0.090766</td>\n",
       "      <td>3.293991e+05</td>\n",
       "    </tr>\n",
       "    <tr>\n",
       "      <th>98543</th>\n",
       "      <td>0.050810</td>\n",
       "      <td>0.053291</td>\n",
       "      <td>4.516968e+05</td>\n",
       "    </tr>\n",
       "    <tr>\n",
       "      <th>29805</th>\n",
       "      <td>0.046026</td>\n",
       "      <td>0.048501</td>\n",
       "      <td>5.811807e+05</td>\n",
       "    </tr>\n",
       "    <tr>\n",
       "      <th>55731</th>\n",
       "      <td>0.044931</td>\n",
       "      <td>0.046479</td>\n",
       "      <td>7.100716e+05</td>\n",
       "    </tr>\n",
       "    <tr>\n",
       "      <th>56898</th>\n",
       "      <td>0.055904</td>\n",
       "      <td>0.059859</td>\n",
       "      <td>8.406654e+05</td>\n",
       "    </tr>\n",
       "    <tr>\n",
       "      <th>201</th>\n",
       "      <td>0.054203</td>\n",
       "      <td>0.056365</td>\n",
       "      <td>9.731027e+05</td>\n",
       "    </tr>\n",
       "    <tr>\n",
       "      <th>54738</th>\n",
       "      <td>0.057344</td>\n",
       "      <td>0.060293</td>\n",
       "      <td>1.101241e+06</td>\n",
       "    </tr>\n",
       "    <tr>\n",
       "      <th>134966</th>\n",
       "      <td>0.048709</td>\n",
       "      <td>0.051394</td>\n",
       "      <td>1.232770e+06</td>\n",
       "    </tr>\n",
       "    <tr>\n",
       "      <th>94432</th>\n",
       "      <td>0.049838</td>\n",
       "      <td>0.056162</td>\n",
       "      <td>1.360943e+06</td>\n",
       "    </tr>\n",
       "    <tr>\n",
       "      <th>91564</th>\n",
       "      <td>0.055738</td>\n",
       "      <td>0.060935</td>\n",
       "      <td>1.492656e+06</td>\n",
       "    </tr>\n",
       "    <tr>\n",
       "      <th>116520</th>\n",
       "      <td>0.040190</td>\n",
       "      <td>0.044794</td>\n",
       "      <td>1.623344e+06</td>\n",
       "    </tr>\n",
       "    <tr>\n",
       "      <th>36598</th>\n",
       "      <td>0.049689</td>\n",
       "      <td>0.053564</td>\n",
       "      <td>1.751073e+06</td>\n",
       "    </tr>\n",
       "    <tr>\n",
       "      <th>160056</th>\n",
       "      <td>0.065772</td>\n",
       "      <td>0.074953</td>\n",
       "      <td>1.868224e+06</td>\n",
       "    </tr>\n",
       "    <tr>\n",
       "      <th>86300</th>\n",
       "      <td>0.191283</td>\n",
       "      <td>0.204394</td>\n",
       "      <td>1.994877e+06</td>\n",
       "    </tr>\n",
       "    <tr>\n",
       "      <th>108729</th>\n",
       "      <td>0.251479</td>\n",
       "      <td>0.255727</td>\n",
       "      <td>2.148073e+06</td>\n",
       "    </tr>\n",
       "    <tr>\n",
       "      <th>84020</th>\n",
       "      <td>0.229993</td>\n",
       "      <td>0.254816</td>\n",
       "      <td>2.273889e+06</td>\n",
       "    </tr>\n",
       "    <tr>\n",
       "      <th>29661</th>\n",
       "      <td>0.338052</td>\n",
       "      <td>0.350808</td>\n",
       "      <td>2.388606e+06</td>\n",
       "    </tr>\n",
       "    <tr>\n",
       "      <th>108252</th>\n",
       "      <td>0.508714</td>\n",
       "      <td>0.505839</td>\n",
       "      <td>2.523791e+06</td>\n",
       "    </tr>\n",
       "    <tr>\n",
       "      <th>28111</th>\n",
       "      <td>0.257540</td>\n",
       "      <td>0.270867</td>\n",
       "      <td>2.657364e+06</td>\n",
       "    </tr>\n",
       "    <tr>\n",
       "      <th>108534</th>\n",
       "      <td>0.467620</td>\n",
       "      <td>0.485425</td>\n",
       "      <td>2.743166e+06</td>\n",
       "    </tr>\n",
       "    <tr>\n",
       "      <th>42376</th>\n",
       "      <td>0.458354</td>\n",
       "      <td>0.472216</td>\n",
       "      <td>2.909183e+06</td>\n",
       "    </tr>\n",
       "    <tr>\n",
       "      <th>181950</th>\n",
       "      <td>0.651079</td>\n",
       "      <td>0.685254</td>\n",
       "      <td>3.079359e+06</td>\n",
       "    </tr>\n",
       "    <tr>\n",
       "      <th>7189</th>\n",
       "      <td>0.672797</td>\n",
       "      <td>0.678961</td>\n",
       "      <td>3.325987e+06</td>\n",
       "    </tr>\n",
       "    <tr>\n",
       "      <th>147071</th>\n",
       "      <td>0.905567</td>\n",
       "      <td>0.920261</td>\n",
       "      <td>3.467489e+06</td>\n",
       "    </tr>\n",
       "    <tr>\n",
       "      <th>129686</th>\n",
       "      <td>0.628720</td>\n",
       "      <td>0.650702</td>\n",
       "      <td>3.570431e+06</td>\n",
       "    </tr>\n",
       "    <tr>\n",
       "      <th>80278</th>\n",
       "      <td>0.829615</td>\n",
       "      <td>0.823170</td>\n",
       "      <td>3.848002e+06</td>\n",
       "    </tr>\n",
       "  </tbody>\n",
       "</table>\n",
       "</div>"
      ],
      "text/plain": [
       "              gm        gc          flux\n",
       "180836  0.323353  0.329551  3.616950e+04\n",
       "23299   0.197824  0.203180  1.850304e+05\n",
       "114230  0.086962  0.090766  3.293991e+05\n",
       "98543   0.050810  0.053291  4.516968e+05\n",
       "29805   0.046026  0.048501  5.811807e+05\n",
       "55731   0.044931  0.046479  7.100716e+05\n",
       "56898   0.055904  0.059859  8.406654e+05\n",
       "201     0.054203  0.056365  9.731027e+05\n",
       "54738   0.057344  0.060293  1.101241e+06\n",
       "134966  0.048709  0.051394  1.232770e+06\n",
       "94432   0.049838  0.056162  1.360943e+06\n",
       "91564   0.055738  0.060935  1.492656e+06\n",
       "116520  0.040190  0.044794  1.623344e+06\n",
       "36598   0.049689  0.053564  1.751073e+06\n",
       "160056  0.065772  0.074953  1.868224e+06\n",
       "86300   0.191283  0.204394  1.994877e+06\n",
       "108729  0.251479  0.255727  2.148073e+06\n",
       "84020   0.229993  0.254816  2.273889e+06\n",
       "29661   0.338052  0.350808  2.388606e+06\n",
       "108252  0.508714  0.505839  2.523791e+06\n",
       "28111   0.257540  0.270867  2.657364e+06\n",
       "108534  0.467620  0.485425  2.743166e+06\n",
       "42376   0.458354  0.472216  2.909183e+06\n",
       "181950  0.651079  0.685254  3.079359e+06\n",
       "7189    0.672797  0.678961  3.325987e+06\n",
       "147071  0.905567  0.920261  3.467489e+06\n",
       "129686  0.628720  0.650702  3.570431e+06\n",
       "80278   0.829615  0.823170  3.848002e+06"
      ]
     },
     "execution_count": 153,
     "metadata": {},
     "output_type": "execute_result"
    }
   ],
   "source": [
    "# take only mean gm gc flux in each buckets, and take unique values\n",
    "gm_gc_flux = df[['flux_bin_mean_gm_sq', 'flux_bin_mean_gc_sq', 'flux_bin_mean_flux']].drop_duplicates()\n",
    "gm_gc_flux.columns = ['gm','gc','flux']\n",
    "gm_gc_flux"
   ]
  },
  {
   "cell_type": "code",
   "execution_count": 154,
   "metadata": {
    "collapsed": false
   },
   "outputs": [
    {
     "data": {
      "text/plain": [
       "<matplotlib.axes._subplots.AxesSubplot at 0x11f1ca2b0>"
      ]
     },
     "execution_count": 154,
     "metadata": {},
     "output_type": "execute_result"
    },
    {
     "data": {
      "image/png": "[encoded data removed]",
      "text/plain": [
       "<matplotlib.figure.Figure at 0x11a6b3cc0>"
      ]
     },
     "metadata": {
      "image/png": {
       "height": 263,
       "width": 442
      }
     },
     "output_type": "display_data"
    }
   ],
   "source": [
    "gm_gc_flux.plot.scatter(x='flux',y='gm')"
   ]
  },
  {
   "cell_type": "markdown",
   "metadata": {},
   "source": [
    "# Polynomial Fitting for gm vs flux after bucketing"
   ]
  },
  {
   "cell_type": "code",
   "execution_count": 160,
   "metadata": {
    "collapsed": false
   },
   "outputs": [
    {
     "data": {
      "text/plain": [
       "array([ -4.24697483e-20,   3.58803463e-13,  -6.11607762e-07,\n",
       "         3.05308587e-01])"
      ]
     },
     "execution_count": 160,
     "metadata": {},
     "output_type": "execute_result"
    },
    {
     "data": {
      "image/png": "[encoded data removed]",
      "text/plain": [
       "<matplotlib.figure.Figure at 0x11a1835f8>"
      ]
     },
     "metadata": {
      "image/png": {
       "height": 248,
       "width": 427
      }
     },
     "output_type": "display_data"
    }
   ],
   "source": [
    "x = gm_gc_flux['flux'].values\n",
    "y = gm_gc_flux['gm'].values\n",
    "\n",
    "z = np.polyfit(x,y,3)\n",
    "p = np.poly1d(z)\n",
    "xp = np.linspace(x.min(), x.max(), 1000)\n",
    "plt.plot(x, y, '.', xp, p(xp), '-')\n",
    "\n",
    "gm_buckets = p.coeffs\n",
    "gm_buckets"
   ]
  },
  {
   "cell_type": "markdown",
   "metadata": {},
   "source": [
    "# Polynomial fitting for gc vs flux after bucketing"
   ]
  },
  {
   "cell_type": "code",
   "execution_count": 163,
   "metadata": {
    "collapsed": false
   },
   "outputs": [
    {
     "data": {
      "text/plain": [
       "array([ -4.58533069e-20,   3.77506542e-13,  -6.35017858e-07,\n",
       "         3.14779327e-01])"
      ]
     },
     "execution_count": 163,
     "metadata": {},
     "output_type": "execute_result"
    },
    {
     "data": {
      "image/png": "[encoded data removed]",
      "text/plain": [
       "<matplotlib.figure.Figure at 0x11a6a2d68>"
      ]
     },
     "metadata": {
      "image/png": {
       "height": 248,
       "width": 427
      }
     },
     "output_type": "display_data"
    }
   ],
   "source": [
    "x = gm_gc_flux['flux'].values\n",
    "y = gm_gc_flux['gc'].values\n",
    "\n",
    "z = np.polyfit(x,y,3)\n",
    "p = np.poly1d(z)\n",
    "xp = np.linspace(x.min(), x.max(), 1000)\n",
    "plt.plot(x, y, '.', xp, p(xp), '-')\n",
    "\n",
    "gc_buckets = p.coeffs\n",
    "gc_buckets"
   ]
  },
  {
   "cell_type": "markdown",
   "metadata": {},
   "source": [
    "# Outputs\n",
    "\n",
    "- number of buckets used = 30\n",
    "- there are two flux values are are extremely high, which can be excluded."
   ]
  },
  {
   "cell_type": "code",
   "execution_count": 165,
   "metadata": {
    "collapsed": false
   },
   "outputs": [
    {
     "name": "stdout",
     "output_type": "stream",
     "text": [
      "fitting: ax**3 + bx**2 + cx + d\n"
     ]
    },
    {
     "data": {
      "text/html": [
       "<div>\n",
       "<style>\n",
       "    .dataframe thead tr:only-child th {\n",
       "        text-align: right;\n",
       "    }\n",
       "\n",
       "    .dataframe thead th {\n",
       "        text-align: left;\n",
       "    }\n",
       "\n",
       "    .dataframe tbody tr th {\n",
       "        vertical-align: top;\n",
       "    }\n",
       "</style>\n",
       "<table border=\"1\" class=\"dataframe\">\n",
       "  <thead>\n",
       "    <tr style=\"text-align: right;\">\n",
       "      <th></th>\n",
       "      <th>gc_buckets</th>\n",
       "      <th>gc_no_buckets</th>\n",
       "      <th>gm_buckets</th>\n",
       "      <th>gm_no_buckets</th>\n",
       "    </tr>\n",
       "  </thead>\n",
       "  <tbody>\n",
       "    <tr>\n",
       "      <th>a</th>\n",
       "      <td>-4.585331e-20</td>\n",
       "      <td>-5.646002e-20</td>\n",
       "      <td>-4.585331e-20</td>\n",
       "      <td>-5.741350e-20</td>\n",
       "    </tr>\n",
       "    <tr>\n",
       "      <th>b</th>\n",
       "      <td>3.775065e-13</td>\n",
       "      <td>4.339419e-13</td>\n",
       "      <td>3.775065e-13</td>\n",
       "      <td>4.331593e-13</td>\n",
       "    </tr>\n",
       "    <tr>\n",
       "      <th>c</th>\n",
       "      <td>-6.350179e-07</td>\n",
       "      <td>-7.219765e-07</td>\n",
       "      <td>-6.350179e-07</td>\n",
       "      <td>-7.168803e-07</td>\n",
       "    </tr>\n",
       "    <tr>\n",
       "      <th>d</th>\n",
       "      <td>3.147793e-01</td>\n",
       "      <td>3.471810e-01</td>\n",
       "      <td>3.147793e-01</td>\n",
       "      <td>3.409637e-01</td>\n",
       "    </tr>\n",
       "  </tbody>\n",
       "</table>\n",
       "</div>"
      ],
      "text/plain": [
       "     gc_buckets  gc_no_buckets    gm_buckets  gm_no_buckets\n",
       "a -4.585331e-20  -5.646002e-20 -4.585331e-20  -5.741350e-20\n",
       "b  3.775065e-13   4.339419e-13  3.775065e-13   4.331593e-13\n",
       "c -6.350179e-07  -7.219765e-07 -6.350179e-07  -7.168803e-07\n",
       "d  3.147793e-01   3.471810e-01  3.147793e-01   3.409637e-01"
      ]
     },
     "execution_count": 165,
     "metadata": {},
     "output_type": "execute_result"
    }
   ],
   "source": [
    "parameters = pd.DataFrame({'gm_no_buckets': gm_no_buckets,\n",
    "                          'gc_no_buckets': gc_no_buckets,\n",
    "                          'gm_buckets': gm_buckets,\n",
    "                          'gc_buckets': gc_buckets})\n",
    "\n",
    "parameters.index = list('abcd')\n",
    "print('fitting: ax**3 + bx**2 + cx + d')\n",
    "\n",
    "parameters"
   ]
  },
  {
   "cell_type": "code",
   "execution_count": null,
   "metadata": {
    "collapsed": true
   },
   "outputs": [],
   "source": []
  }
 ],
 "metadata": {
  "kernelspec": {
   "display_name": "Python 3",
   "language": "python",
   "name": "python3"
  },
  "language_info": {
   "codemirror_mode": {
    "name": "ipython",
    "version": 3
   },
   "file_extension": ".py",
   "mimetype": "text/x-python",
   "name": "python",
   "nbconvert_exporter": "python",
   "pygments_lexer": "ipython3",
   "version": "3.5.2"
  },
  "toc": {
   "colors": {
    "hover_highlight": "#DAA520",
    "navigate_num": "#000000",
    "navigate_text": "#333333",
    "running_highlight": "#FF0000",
    "selected_highlight": "#FFD700",
    "sidebar_border": "#EEEEEE",
    "wrapper_background": "#FFFFFF"
   },
   "moveMenuLeft": true,
   "nav_menu": {
    "height": "189px",
    "width": "252px"
   },
   "navigate_menu": true,
   "number_sections": true,
   "sideBar": true,
   "threshold": 4,
   "toc_cell": true,
   "toc_section_display": "block",
   "toc_window_display": true,
   "widenNotebook": false
  }
 },
 "nbformat": 4,
 "nbformat_minor": 2
}
