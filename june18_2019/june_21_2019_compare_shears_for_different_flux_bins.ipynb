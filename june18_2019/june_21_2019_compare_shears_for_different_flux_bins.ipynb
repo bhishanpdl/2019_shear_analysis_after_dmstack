{
 "cells": [
  {
   "cell_type": "markdown",
   "metadata": {
    "deletable": true,
    "editable": true,
    "toc": "true"
   },
   "source": [
    "# Table of Contents\n",
    " <p><div class=\"lev1 toc-item\"><a href=\"#Introduction\" data-toc-modified-id=\"Introduction-1\"><span class=\"toc-item-num\">1&nbsp;&nbsp;</span>Introduction</a></div><div class=\"lev1 toc-item\"><a href=\"#Read-imcat-output-final.cat\" data-toc-modified-id=\"Read-imcat-output-final.cat-2\"><span class=\"toc-item-num\">2&nbsp;&nbsp;</span>Read imcat output final.cat</a></div><div class=\"lev1 toc-item\"><a href=\"#Create-new-columns\" data-toc-modified-id=\"Create-new-columns-3\"><span class=\"toc-item-num\">3&nbsp;&nbsp;</span>Create new columns</a></div><div class=\"lev1 toc-item\"><a href=\"#Fitting-cubic-function-without-bucketing-for-flux-vs-gm**2\" data-toc-modified-id=\"Fitting-cubic-function-without-bucketing-for-flux-vs-gm**2-4\"><span class=\"toc-item-num\">4&nbsp;&nbsp;</span>Fitting cubic function without bucketing for flux vs gm**2</a></div><div class=\"lev1 toc-item\"><a href=\"#Fitting-cubic-function-without-bucketing-for-flux-vs-gc**2\" data-toc-modified-id=\"Fitting-cubic-function-without-bucketing-for-flux-vs-gc**2-5\"><span class=\"toc-item-num\">5&nbsp;&nbsp;</span>Fitting cubic function without bucketing for flux vs gc**2</a></div><div class=\"lev1 toc-item\"><a href=\"#Fitting-cubic-function-after-bucketing\" data-toc-modified-id=\"Fitting-cubic-function-after-bucketing-6\"><span class=\"toc-item-num\">6&nbsp;&nbsp;</span>Fitting cubic function after bucketing</a></div><div class=\"lev1 toc-item\"><a href=\"#Polynomial-Fitting-for-gm-vs-flux-after-bucketing\" data-toc-modified-id=\"Polynomial-Fitting-for-gm-vs-flux-after-bucketing-7\"><span class=\"toc-item-num\">7&nbsp;&nbsp;</span>Polynomial Fitting for gm vs flux after bucketing</a></div><div class=\"lev1 toc-item\"><a href=\"#Polynomial-fitting-for-gc-vs-flux-after-bucketing\" data-toc-modified-id=\"Polynomial-fitting-for-gc-vs-flux-after-bucketing-8\"><span class=\"toc-item-num\">8&nbsp;&nbsp;</span>Polynomial fitting for gc vs flux after bucketing</a></div><div class=\"lev1 toc-item\"><a href=\"#Outputs\" data-toc-modified-id=\"Outputs-9\"><span class=\"toc-item-num\">9&nbsp;&nbsp;</span>Outputs</a></div>"
   ]
  },
  {
   "cell_type": "markdown",
   "metadata": {
    "deletable": true,
    "editable": true
   },
   "source": [
    "# Introduction\n",
    "\n",
    "Date: June 20, 2019\n",
    "\n",
    "1. In jedisim we used ngals = 10k, z = 1.5 and did 100 simulations. jedisim gives l,l9,m,m9 for each 100 simulations.\n",
    "2. In dmstack we create l.csv from l.fits and so on for 100*4 files, this file has 90 flags and 76 parameters.\n",
    "3. After dmstack we clean and filter l.csv to get l.txt which have no nans, e <= 1.5,\n",
    "   not psf candidate and have no child.\n",
    "   This file has only few columns: id, x-y, errx-erry, e1-e2, sdssFlux.\n",
    "4. We use these four l.txt, l9.txt, m.txt, m9.txt file in IMCAT and get final0.cat and combine 100 finalxx.cat to get \n",
    "   final.cat.\n",
    "5. This lc catalog file final.cat has more columns than original 8 columns.\n",
    "   ```\n",
    "   id    00 10 20 30\n",
    "   flux  00 10 20 30\n",
    "\n",
    "   x  0 1\n",
    "   gm 0 1\n",
    "   gc 0 1\n",
    "   \n",
    "   errx 00 01 10 11 20 21 30 31\n",
    "   g    00 01 10 11 20 21 30 31 # there is no erry here in imcat output\n",
    "   \n",
    "   So, in total there are\n",
    "   2 * 4 + 3 * 2 + 2 * 8 = 8 + 6 + 16 = 30 columns in final.cat file.\n",
    "   ```\n",
    "   \n",
    "   \n",
    "**Purpose**  \n",
    "We want to test whether the e^2 is equally distributed in different flux bins of final.cat.\n",
    "We will divide flux in multiple bins and find mean(e^2) and mean(flux) for each bins and try to get a fitting function.\n",
    "   "
   ]
  },
  {
   "cell_type": "markdown",
   "metadata": {
    "deletable": true,
    "editable": true
   },
   "source": [
    "# Read imcat output final.cat"
   ]
  },
  {
   "cell_type": "code",
   "execution_count": 1,
   "metadata": {
    "collapsed": false,
    "deletable": true,
    "editable": true
   },
   "outputs": [
    {
     "name": "stdout",
     "output_type": "stream",
     "text": [
      "#       id[0][0]       id[1][0]       id[2][0]       id[3][0]           x[0]           x[1]     errx[0][0]     errx[0][1]     errx[1][0]     errx[1][1]     errx[2][0]     errx[2][1]     errx[3][0]     errx[3][1]        g[0][0]        g[0][1]        g[1][0]        g[1][1]        g[2][0]        g[2][1]        g[3][0]        g[3][1]     flux[0][0]     flux[1][0]     flux[2][0]     flux[3][0]          gm[0]          gm[1]          gc[0]          gc[1]\r\n",
      "            1650           1644           1649           1632       3209.807      199.77582          0.101         0.1051         0.1001          0.102         0.1021         0.1051         0.1007         0.1037         1.0922         0.0836         0.1326         0.4154         0.8654         0.0843         0.1655         0.4398      4029.9743       4050.508      4032.3095      4054.9686         0.6124         0.2495        0.51545        0.26205\r\n"
     ]
    }
   ],
   "source": [
    "!head -2 final_text.txt"
   ]
  },
  {
   "cell_type": "code",
   "execution_count": 2,
   "metadata": {
    "collapsed": false,
    "deletable": true,
    "editable": true
   },
   "outputs": [
    {
     "name": "stdout",
     "output_type": "stream",
     "text": [
      "   82713 final_text.txt\r\n"
     ]
    }
   ],
   "source": [
    "# find number of lines\n",
    "!wc -l final_text.txt"
   ]
  },
  {
   "cell_type": "code",
   "execution_count": 3,
   "metadata": {
    "collapsed": false,
    "deletable": true,
    "editable": true
   },
   "outputs": [
    {
     "name": "stdout",
     "output_type": "stream",
     "text": [
      "            2422           2403           2419           2414      3045.9086      910.89718         0.0442         0.0462         0.0424         0.0478          0.045         0.0464         0.0428         0.0479         0.0212         0.0218        -0.1339          0.206         0.0259         0.0163         -0.153         0.2034      39327.453      41065.371      39394.715      41150.748       -0.05635         0.1139       -0.06355        0.10985\r\n",
      "            4331           4372           4356           4365      2422.9369      3224.8992         0.1032         0.1206         0.0736         0.0619         0.1029         0.1197         0.0733         0.0619        -0.3059        -0.8497         0.3844         0.7888        -0.2991        -0.8599         0.3843         0.8102      14761.931      14709.275      14763.295      14696.257        0.03925       -0.03045         0.0426       -0.02485\r\n"
     ]
    }
   ],
   "source": [
    "!tail -2 final_text.txt"
   ]
  },
  {
   "cell_type": "code",
   "execution_count": 4,
   "metadata": {
    "collapsed": true,
    "deletable": true,
    "editable": true
   },
   "outputs": [],
   "source": [
    "# Now we will read file using pandas"
   ]
  },
  {
   "cell_type": "code",
   "execution_count": 5,
   "metadata": {
    "collapsed": true,
    "deletable": true,
    "editable": true
   },
   "outputs": [],
   "source": [
    "import numpy as np\n",
    "import pandas as pd\n",
    "import seaborn as sns\n",
    "sns.set()\n",
    "\n",
    "import matplotlib.pyplot as plt\n",
    "plt.rcParams[\"figure.figsize\"] = [10, 8]\n",
    "plt.style.use('fivethirtyeight')\n",
    "%matplotlib inline\n",
    "%config InlineBackend.figure_format = 'retina'"
   ]
  },
  {
   "cell_type": "code",
   "execution_count": 6,
   "metadata": {
    "collapsed": false,
    "deletable": true,
    "editable": true
   },
   "outputs": [
    {
     "data": {
      "text/plain": [
       "Index(['id[0][0]', 'id[1][0]', 'id[2][0]', 'id[3][0]', 'x[0]', 'x[1]',\n",
       "       'errx[0][0]', 'errx[0][1]', 'errx[1][0]', 'errx[1][1]', 'errx[2][0]',\n",
       "       'errx[2][1]', 'errx[3][0]', 'errx[3][1]', 'g[0][0]', 'g[0][1]',\n",
       "       'g[1][0]', 'g[1][1]', 'g[2][0]', 'g[2][1]', 'g[3][0]', 'g[3][1]',\n",
       "       'flux[0][0]', 'flux[1][0]', 'flux[2][0]', 'flux[3][0]', 'gm[0]',\n",
       "       'gm[1]', 'gc[0]', 'gc[1]'],\n",
       "      dtype='object')"
      ]
     },
     "execution_count": 6,
     "metadata": {},
     "output_type": "execute_result"
    }
   ],
   "source": [
    "# columns names\n",
    "infile = 'final_text.txt'\n",
    "headers = pd.read_csv(infile,sep=r'\\s+',nrows=1).columns\n",
    "\n",
    "headers = headers[1:] # remove first # column\n",
    "headers"
   ]
  },
  {
   "cell_type": "code",
   "execution_count": 7,
   "metadata": {
    "collapsed": false,
    "deletable": true,
    "editable": true
   },
   "outputs": [
    {
     "name": "stdout",
     "output_type": "stream",
     "text": [
      "(82712, 30)\n"
     ]
    },
    {
     "data": {
      "text/html": [
       "<div>\n",
       "<style>\n",
       "    .dataframe thead tr:only-child th {\n",
       "        text-align: right;\n",
       "    }\n",
       "\n",
       "    .dataframe thead th {\n",
       "        text-align: left;\n",
       "    }\n",
       "\n",
       "    .dataframe tbody tr th {\n",
       "        vertical-align: top;\n",
       "    }\n",
       "</style>\n",
       "<table border=\"1\" class=\"dataframe\">\n",
       "  <thead>\n",
       "    <tr style=\"text-align: right;\">\n",
       "      <th></th>\n",
       "      <th>0</th>\n",
       "      <th>1</th>\n",
       "      <th>82710</th>\n",
       "      <th>82711</th>\n",
       "    </tr>\n",
       "  </thead>\n",
       "  <tbody>\n",
       "    <tr>\n",
       "      <th>id[0][0]</th>\n",
       "      <td>1650.00000</td>\n",
       "      <td>2741.00000</td>\n",
       "      <td>2422.00000</td>\n",
       "      <td>4331.00000</td>\n",
       "    </tr>\n",
       "    <tr>\n",
       "      <th>id[1][0]</th>\n",
       "      <td>1644.00000</td>\n",
       "      <td>2737.00000</td>\n",
       "      <td>2403.00000</td>\n",
       "      <td>4372.00000</td>\n",
       "    </tr>\n",
       "    <tr>\n",
       "      <th>id[2][0]</th>\n",
       "      <td>1649.00000</td>\n",
       "      <td>2733.00000</td>\n",
       "      <td>2419.00000</td>\n",
       "      <td>4356.00000</td>\n",
       "    </tr>\n",
       "    <tr>\n",
       "      <th>id[3][0]</th>\n",
       "      <td>1632.00000</td>\n",
       "      <td>2723.00000</td>\n",
       "      <td>2414.00000</td>\n",
       "      <td>4365.00000</td>\n",
       "    </tr>\n",
       "    <tr>\n",
       "      <th>x[0]</th>\n",
       "      <td>3209.80700</td>\n",
       "      <td>2161.57240</td>\n",
       "      <td>3045.90860</td>\n",
       "      <td>2422.93690</td>\n",
       "    </tr>\n",
       "    <tr>\n",
       "      <th>x[1]</th>\n",
       "      <td>199.77582</td>\n",
       "      <td>1352.02110</td>\n",
       "      <td>910.89718</td>\n",
       "      <td>3224.89920</td>\n",
       "    </tr>\n",
       "    <tr>\n",
       "      <th>errx[0][0]</th>\n",
       "      <td>0.10100</td>\n",
       "      <td>0.00080</td>\n",
       "      <td>0.04420</td>\n",
       "      <td>0.10320</td>\n",
       "    </tr>\n",
       "    <tr>\n",
       "      <th>errx[0][1]</th>\n",
       "      <td>0.10510</td>\n",
       "      <td>0.00080</td>\n",
       "      <td>0.04620</td>\n",
       "      <td>0.12060</td>\n",
       "    </tr>\n",
       "    <tr>\n",
       "      <th>errx[1][0]</th>\n",
       "      <td>0.10010</td>\n",
       "      <td>0.00080</td>\n",
       "      <td>0.04240</td>\n",
       "      <td>0.07360</td>\n",
       "    </tr>\n",
       "    <tr>\n",
       "      <th>errx[1][1]</th>\n",
       "      <td>0.10200</td>\n",
       "      <td>0.00080</td>\n",
       "      <td>0.04780</td>\n",
       "      <td>0.06190</td>\n",
       "    </tr>\n",
       "    <tr>\n",
       "      <th>errx[2][0]</th>\n",
       "      <td>0.10210</td>\n",
       "      <td>0.00080</td>\n",
       "      <td>0.04500</td>\n",
       "      <td>0.10290</td>\n",
       "    </tr>\n",
       "    <tr>\n",
       "      <th>errx[2][1]</th>\n",
       "      <td>0.10510</td>\n",
       "      <td>0.00080</td>\n",
       "      <td>0.04640</td>\n",
       "      <td>0.11970</td>\n",
       "    </tr>\n",
       "    <tr>\n",
       "      <th>errx[3][0]</th>\n",
       "      <td>0.10070</td>\n",
       "      <td>0.00080</td>\n",
       "      <td>0.04280</td>\n",
       "      <td>0.07330</td>\n",
       "    </tr>\n",
       "    <tr>\n",
       "      <th>errx[3][1]</th>\n",
       "      <td>0.10370</td>\n",
       "      <td>0.00080</td>\n",
       "      <td>0.04790</td>\n",
       "      <td>0.06190</td>\n",
       "    </tr>\n",
       "    <tr>\n",
       "      <th>g[0][0]</th>\n",
       "      <td>1.09220</td>\n",
       "      <td>-0.15010</td>\n",
       "      <td>0.02120</td>\n",
       "      <td>-0.30590</td>\n",
       "    </tr>\n",
       "    <tr>\n",
       "      <th>g[0][1]</th>\n",
       "      <td>0.08360</td>\n",
       "      <td>0.38090</td>\n",
       "      <td>0.02180</td>\n",
       "      <td>-0.84970</td>\n",
       "    </tr>\n",
       "    <tr>\n",
       "      <th>g[1][0]</th>\n",
       "      <td>0.13260</td>\n",
       "      <td>-0.03610</td>\n",
       "      <td>-0.13390</td>\n",
       "      <td>0.38440</td>\n",
       "    </tr>\n",
       "    <tr>\n",
       "      <th>g[1][1]</th>\n",
       "      <td>0.41540</td>\n",
       "      <td>0.12340</td>\n",
       "      <td>0.20600</td>\n",
       "      <td>0.78880</td>\n",
       "    </tr>\n",
       "    <tr>\n",
       "      <th>g[2][0]</th>\n",
       "      <td>0.86540</td>\n",
       "      <td>-0.13940</td>\n",
       "      <td>0.02590</td>\n",
       "      <td>-0.29910</td>\n",
       "    </tr>\n",
       "    <tr>\n",
       "      <th>g[2][1]</th>\n",
       "      <td>0.08430</td>\n",
       "      <td>0.50250</td>\n",
       "      <td>0.01630</td>\n",
       "      <td>-0.85990</td>\n",
       "    </tr>\n",
       "    <tr>\n",
       "      <th>g[3][0]</th>\n",
       "      <td>0.16550</td>\n",
       "      <td>-0.06950</td>\n",
       "      <td>-0.15300</td>\n",
       "      <td>0.38430</td>\n",
       "    </tr>\n",
       "    <tr>\n",
       "      <th>g[3][1]</th>\n",
       "      <td>0.43980</td>\n",
       "      <td>0.11140</td>\n",
       "      <td>0.20340</td>\n",
       "      <td>0.81020</td>\n",
       "    </tr>\n",
       "    <tr>\n",
       "      <th>flux[0][0]</th>\n",
       "      <td>4029.97430</td>\n",
       "      <td>514464.34000</td>\n",
       "      <td>39327.45300</td>\n",
       "      <td>14761.93100</td>\n",
       "    </tr>\n",
       "    <tr>\n",
       "      <th>flux[1][0]</th>\n",
       "      <td>4050.50800</td>\n",
       "      <td>514316.91000</td>\n",
       "      <td>41065.37100</td>\n",
       "      <td>14709.27500</td>\n",
       "    </tr>\n",
       "    <tr>\n",
       "      <th>flux[2][0]</th>\n",
       "      <td>4032.30950</td>\n",
       "      <td>514525.36000</td>\n",
       "      <td>39394.71500</td>\n",
       "      <td>14763.29500</td>\n",
       "    </tr>\n",
       "    <tr>\n",
       "      <th>flux[3][0]</th>\n",
       "      <td>4054.96860</td>\n",
       "      <td>514382.42000</td>\n",
       "      <td>41150.74800</td>\n",
       "      <td>14696.25700</td>\n",
       "    </tr>\n",
       "    <tr>\n",
       "      <th>gm[0]</th>\n",
       "      <td>0.61240</td>\n",
       "      <td>-0.09310</td>\n",
       "      <td>-0.05635</td>\n",
       "      <td>0.03925</td>\n",
       "    </tr>\n",
       "    <tr>\n",
       "      <th>gm[1]</th>\n",
       "      <td>0.24950</td>\n",
       "      <td>0.25215</td>\n",
       "      <td>0.11390</td>\n",
       "      <td>-0.03045</td>\n",
       "    </tr>\n",
       "    <tr>\n",
       "      <th>gc[0]</th>\n",
       "      <td>0.51545</td>\n",
       "      <td>-0.10445</td>\n",
       "      <td>-0.06355</td>\n",
       "      <td>0.04260</td>\n",
       "    </tr>\n",
       "    <tr>\n",
       "      <th>gc[1]</th>\n",
       "      <td>0.26205</td>\n",
       "      <td>0.30695</td>\n",
       "      <td>0.10985</td>\n",
       "      <td>-0.02485</td>\n",
       "    </tr>\n",
       "  </tbody>\n",
       "</table>\n",
       "</div>"
      ],
      "text/plain": [
       "                 0             1            82710        82711\n",
       "id[0][0]    1650.00000    2741.00000   2422.00000   4331.00000\n",
       "id[1][0]    1644.00000    2737.00000   2403.00000   4372.00000\n",
       "id[2][0]    1649.00000    2733.00000   2419.00000   4356.00000\n",
       "id[3][0]    1632.00000    2723.00000   2414.00000   4365.00000\n",
       "x[0]        3209.80700    2161.57240   3045.90860   2422.93690\n",
       "x[1]         199.77582    1352.02110    910.89718   3224.89920\n",
       "errx[0][0]     0.10100       0.00080      0.04420      0.10320\n",
       "errx[0][1]     0.10510       0.00080      0.04620      0.12060\n",
       "errx[1][0]     0.10010       0.00080      0.04240      0.07360\n",
       "errx[1][1]     0.10200       0.00080      0.04780      0.06190\n",
       "errx[2][0]     0.10210       0.00080      0.04500      0.10290\n",
       "errx[2][1]     0.10510       0.00080      0.04640      0.11970\n",
       "errx[3][0]     0.10070       0.00080      0.04280      0.07330\n",
       "errx[3][1]     0.10370       0.00080      0.04790      0.06190\n",
       "g[0][0]        1.09220      -0.15010      0.02120     -0.30590\n",
       "g[0][1]        0.08360       0.38090      0.02180     -0.84970\n",
       "g[1][0]        0.13260      -0.03610     -0.13390      0.38440\n",
       "g[1][1]        0.41540       0.12340      0.20600      0.78880\n",
       "g[2][0]        0.86540      -0.13940      0.02590     -0.29910\n",
       "g[2][1]        0.08430       0.50250      0.01630     -0.85990\n",
       "g[3][0]        0.16550      -0.06950     -0.15300      0.38430\n",
       "g[3][1]        0.43980       0.11140      0.20340      0.81020\n",
       "flux[0][0]  4029.97430  514464.34000  39327.45300  14761.93100\n",
       "flux[1][0]  4050.50800  514316.91000  41065.37100  14709.27500\n",
       "flux[2][0]  4032.30950  514525.36000  39394.71500  14763.29500\n",
       "flux[3][0]  4054.96860  514382.42000  41150.74800  14696.25700\n",
       "gm[0]          0.61240      -0.09310     -0.05635      0.03925\n",
       "gm[1]          0.24950       0.25215      0.11390     -0.03045\n",
       "gc[0]          0.51545      -0.10445     -0.06355      0.04260\n",
       "gc[1]          0.26205       0.30695      0.10985     -0.02485"
      ]
     },
     "execution_count": 7,
     "metadata": {},
     "output_type": "execute_result"
    }
   ],
   "source": [
    "df = pd.read_csv(infile,sep=r'\\s+',comment='#',header=None)\n",
    "df.columns = headers\n",
    "print(df.shape)\n",
    "df.head(2).append(df.tail(2)).T"
   ]
  },
  {
   "cell_type": "markdown",
   "metadata": {
    "deletable": true,
    "editable": true
   },
   "source": [
    "# Create new columns"
   ]
  },
  {
   "cell_type": "code",
   "execution_count": 8,
   "metadata": {
    "collapsed": false,
    "deletable": true,
    "editable": true
   },
   "outputs": [
    {
     "data": {
      "text/html": [
       "<div>\n",
       "<style>\n",
       "    .dataframe thead tr:only-child th {\n",
       "        text-align: right;\n",
       "    }\n",
       "\n",
       "    .dataframe thead th {\n",
       "        text-align: left;\n",
       "    }\n",
       "\n",
       "    .dataframe tbody tr th {\n",
       "        vertical-align: top;\n",
       "    }\n",
       "</style>\n",
       "<table border=\"1\" class=\"dataframe\">\n",
       "  <thead>\n",
       "    <tr style=\"text-align: right;\">\n",
       "      <th></th>\n",
       "      <th>id[0][0]</th>\n",
       "      <th>id[1][0]</th>\n",
       "      <th>id[2][0]</th>\n",
       "      <th>id[3][0]</th>\n",
       "      <th>x[0]</th>\n",
       "      <th>x[1]</th>\n",
       "      <th>errx[0][0]</th>\n",
       "      <th>errx[0][1]</th>\n",
       "      <th>errx[1][0]</th>\n",
       "      <th>errx[1][1]</th>\n",
       "      <th>...</th>\n",
       "      <th>flux[1][0]</th>\n",
       "      <th>flux[2][0]</th>\n",
       "      <th>flux[3][0]</th>\n",
       "      <th>gm[0]</th>\n",
       "      <th>gm[1]</th>\n",
       "      <th>gc[0]</th>\n",
       "      <th>gc[1]</th>\n",
       "      <th>flux</th>\n",
       "      <th>gm_sq</th>\n",
       "      <th>gc_sq</th>\n",
       "    </tr>\n",
       "  </thead>\n",
       "  <tbody>\n",
       "    <tr>\n",
       "      <th>0</th>\n",
       "      <td>1650</td>\n",
       "      <td>1644</td>\n",
       "      <td>1649</td>\n",
       "      <td>1632</td>\n",
       "      <td>3209.80700</td>\n",
       "      <td>199.77582</td>\n",
       "      <td>0.1010</td>\n",
       "      <td>0.1051</td>\n",
       "      <td>0.1001</td>\n",
       "      <td>0.1020</td>\n",
       "      <td>...</td>\n",
       "      <td>4050.5080</td>\n",
       "      <td>4032.3095</td>\n",
       "      <td>4054.9686</td>\n",
       "      <td>0.61240</td>\n",
       "      <td>0.24950</td>\n",
       "      <td>0.51545</td>\n",
       "      <td>0.26205</td>\n",
       "      <td>1.616776e+04</td>\n",
       "      <td>0.437284</td>\n",
       "      <td>0.334359</td>\n",
       "    </tr>\n",
       "    <tr>\n",
       "      <th>1</th>\n",
       "      <td>2741</td>\n",
       "      <td>2737</td>\n",
       "      <td>2733</td>\n",
       "      <td>2723</td>\n",
       "      <td>2161.57240</td>\n",
       "      <td>1352.02110</td>\n",
       "      <td>0.0008</td>\n",
       "      <td>0.0008</td>\n",
       "      <td>0.0008</td>\n",
       "      <td>0.0008</td>\n",
       "      <td>...</td>\n",
       "      <td>514316.9100</td>\n",
       "      <td>514525.3600</td>\n",
       "      <td>514382.4200</td>\n",
       "      <td>-0.09310</td>\n",
       "      <td>0.25215</td>\n",
       "      <td>-0.10445</td>\n",
       "      <td>0.30695</td>\n",
       "      <td>2.057689e+06</td>\n",
       "      <td>0.072247</td>\n",
       "      <td>0.105128</td>\n",
       "    </tr>\n",
       "    <tr>\n",
       "      <th>2</th>\n",
       "      <td>651</td>\n",
       "      <td>646</td>\n",
       "      <td>647</td>\n",
       "      <td>641</td>\n",
       "      <td>579.18560</td>\n",
       "      <td>1409.50070</td>\n",
       "      <td>0.1755</td>\n",
       "      <td>0.1926</td>\n",
       "      <td>0.1750</td>\n",
       "      <td>0.2014</td>\n",
       "      <td>...</td>\n",
       "      <td>2062.3748</td>\n",
       "      <td>2058.1071</td>\n",
       "      <td>2060.8479</td>\n",
       "      <td>-0.40105</td>\n",
       "      <td>0.10185</td>\n",
       "      <td>-0.46155</td>\n",
       "      <td>0.11630</td>\n",
       "      <td>8.240736e+03</td>\n",
       "      <td>0.171215</td>\n",
       "      <td>0.226554</td>\n",
       "    </tr>\n",
       "    <tr>\n",
       "      <th>3</th>\n",
       "      <td>1425</td>\n",
       "      <td>1420</td>\n",
       "      <td>1424</td>\n",
       "      <td>1409</td>\n",
       "      <td>1478.75260</td>\n",
       "      <td>3248.40510</td>\n",
       "      <td>0.1831</td>\n",
       "      <td>0.1977</td>\n",
       "      <td>0.1869</td>\n",
       "      <td>0.1954</td>\n",
       "      <td>...</td>\n",
       "      <td>1827.7336</td>\n",
       "      <td>1823.2766</td>\n",
       "      <td>1826.9437</td>\n",
       "      <td>-0.33800</td>\n",
       "      <td>-1.00940</td>\n",
       "      <td>-0.24275</td>\n",
       "      <td>-0.94250</td>\n",
       "      <td>7.302099e+03</td>\n",
       "      <td>1.133132</td>\n",
       "      <td>0.947234</td>\n",
       "    </tr>\n",
       "    <tr>\n",
       "      <th>4</th>\n",
       "      <td>1341</td>\n",
       "      <td>1334</td>\n",
       "      <td>1339</td>\n",
       "      <td>1324</td>\n",
       "      <td>682.92385</td>\n",
       "      <td>3058.36250</td>\n",
       "      <td>0.1018</td>\n",
       "      <td>0.1079</td>\n",
       "      <td>0.0996</td>\n",
       "      <td>0.1122</td>\n",
       "      <td>...</td>\n",
       "      <td>3809.0571</td>\n",
       "      <td>3807.2367</td>\n",
       "      <td>3811.8982</td>\n",
       "      <td>-0.22945</td>\n",
       "      <td>-0.26680</td>\n",
       "      <td>-0.21345</td>\n",
       "      <td>-0.22875</td>\n",
       "      <td>1.523178e+04</td>\n",
       "      <td>0.123830</td>\n",
       "      <td>0.097887</td>\n",
       "    </tr>\n",
       "  </tbody>\n",
       "</table>\n",
       "<p>5 rows × 33 columns</p>\n",
       "</div>"
      ],
      "text/plain": [
       "   id[0][0]  id[1][0]  id[2][0]  id[3][0]        x[0]        x[1]  errx[0][0]  \\\n",
       "0      1650      1644      1649      1632  3209.80700   199.77582      0.1010   \n",
       "1      2741      2737      2733      2723  2161.57240  1352.02110      0.0008   \n",
       "2       651       646       647       641   579.18560  1409.50070      0.1755   \n",
       "3      1425      1420      1424      1409  1478.75260  3248.40510      0.1831   \n",
       "4      1341      1334      1339      1324   682.92385  3058.36250      0.1018   \n",
       "\n",
       "   errx[0][1]  errx[1][0]  errx[1][1]    ...      flux[1][0]   flux[2][0]  \\\n",
       "0      0.1051      0.1001      0.1020    ...       4050.5080    4032.3095   \n",
       "1      0.0008      0.0008      0.0008    ...     514316.9100  514525.3600   \n",
       "2      0.1926      0.1750      0.2014    ...       2062.3748    2058.1071   \n",
       "3      0.1977      0.1869      0.1954    ...       1827.7336    1823.2766   \n",
       "4      0.1079      0.0996      0.1122    ...       3809.0571    3807.2367   \n",
       "\n",
       "    flux[3][0]    gm[0]    gm[1]    gc[0]    gc[1]          flux     gm_sq  \\\n",
       "0    4054.9686  0.61240  0.24950  0.51545  0.26205  1.616776e+04  0.437284   \n",
       "1  514382.4200 -0.09310  0.25215 -0.10445  0.30695  2.057689e+06  0.072247   \n",
       "2    2060.8479 -0.40105  0.10185 -0.46155  0.11630  8.240736e+03  0.171215   \n",
       "3    1826.9437 -0.33800 -1.00940 -0.24275 -0.94250  7.302099e+03  1.133132   \n",
       "4    3811.8982 -0.22945 -0.26680 -0.21345 -0.22875  1.523178e+04  0.123830   \n",
       "\n",
       "      gc_sq  \n",
       "0  0.334359  \n",
       "1  0.105128  \n",
       "2  0.226554  \n",
       "3  0.947234  \n",
       "4  0.097887  \n",
       "\n",
       "[5 rows x 33 columns]"
      ]
     },
     "execution_count": 8,
     "metadata": {},
     "output_type": "execute_result"
    }
   ],
   "source": [
    "# Find total flux, gm**2 and gc**2\n",
    "df['flux'] = df['flux[0][0]'] + df['flux[1][0]'] + df['flux[2][0]'] + df['flux[3][0]']\n",
    "df['gm_sq'] = df['gm[0]']**2 + df['gm[1]']**2\n",
    "df['gc_sq'] = df['gc[0]']**2 + df['gc[1]']**2\n",
    "df.head()"
   ]
  },
  {
   "cell_type": "code",
   "execution_count": 9,
   "metadata": {
    "collapsed": false,
    "deletable": true,
    "editable": true
   },
   "outputs": [
    {
     "data": {
      "text/html": [
       "<div>\n",
       "<style>\n",
       "    .dataframe thead tr:only-child th {\n",
       "        text-align: right;\n",
       "    }\n",
       "\n",
       "    .dataframe thead th {\n",
       "        text-align: left;\n",
       "    }\n",
       "\n",
       "    .dataframe tbody tr th {\n",
       "        vertical-align: top;\n",
       "    }\n",
       "</style>\n",
       "<table border=\"1\" class=\"dataframe\">\n",
       "  <thead>\n",
       "    <tr style=\"text-align: right;\">\n",
       "      <th></th>\n",
       "      <th>id[0][0]</th>\n",
       "      <th>id[1][0]</th>\n",
       "      <th>id[2][0]</th>\n",
       "      <th>id[3][0]</th>\n",
       "      <th>x[0]</th>\n",
       "      <th>x[1]</th>\n",
       "      <th>errx[0][0]</th>\n",
       "      <th>errx[0][1]</th>\n",
       "      <th>errx[1][0]</th>\n",
       "      <th>errx[1][1]</th>\n",
       "      <th>...</th>\n",
       "      <th>flux[1][0]</th>\n",
       "      <th>flux[2][0]</th>\n",
       "      <th>flux[3][0]</th>\n",
       "      <th>gm[0]</th>\n",
       "      <th>gm[1]</th>\n",
       "      <th>gc[0]</th>\n",
       "      <th>gc[1]</th>\n",
       "      <th>flux</th>\n",
       "      <th>gm_sq</th>\n",
       "      <th>gc_sq</th>\n",
       "    </tr>\n",
       "  </thead>\n",
       "  <tbody>\n",
       "    <tr>\n",
       "      <th>15057</th>\n",
       "      <td>3917</td>\n",
       "      <td>3902</td>\n",
       "      <td>3914</td>\n",
       "      <td>3898</td>\n",
       "      <td>2159.2717</td>\n",
       "      <td>2685.7977</td>\n",
       "      <td>0.7679</td>\n",
       "      <td>0.7501</td>\n",
       "      <td>0.6242</td>\n",
       "      <td>0.6446</td>\n",
       "      <td>...</td>\n",
       "      <td>6.394799e+02</td>\n",
       "      <td>5.035146e+02</td>\n",
       "      <td>5.194708e+02</td>\n",
       "      <td>0.15680</td>\n",
       "      <td>0.27785</td>\n",
       "      <td>0.1527</td>\n",
       "      <td>0.17860</td>\n",
       "      <td>2.234657e+03</td>\n",
       "      <td>0.101787</td>\n",
       "      <td>0.055215</td>\n",
       "    </tr>\n",
       "    <tr>\n",
       "      <th>10942</th>\n",
       "      <td>733</td>\n",
       "      <td>728</td>\n",
       "      <td>728</td>\n",
       "      <td>728</td>\n",
       "      <td>1694.2483</td>\n",
       "      <td>1710.3395</td>\n",
       "      <td>0.8146</td>\n",
       "      <td>0.7065</td>\n",
       "      <td>0.8592</td>\n",
       "      <td>0.8012</td>\n",
       "      <td>...</td>\n",
       "      <td>5.730136e+02</td>\n",
       "      <td>5.699057e+02</td>\n",
       "      <td>5.700806e+02</td>\n",
       "      <td>0.36855</td>\n",
       "      <td>-0.14700</td>\n",
       "      <td>0.4185</td>\n",
       "      <td>-0.13490</td>\n",
       "      <td>2.285642e+03</td>\n",
       "      <td>0.157438</td>\n",
       "      <td>0.193340</td>\n",
       "    </tr>\n",
       "    <tr>\n",
       "      <th>23562</th>\n",
       "      <td>2881</td>\n",
       "      <td>2887</td>\n",
       "      <td>2902</td>\n",
       "      <td>2886</td>\n",
       "      <td>1602.0306</td>\n",
       "      <td>1621.2151</td>\n",
       "      <td>0.0038</td>\n",
       "      <td>0.0061</td>\n",
       "      <td>0.0026</td>\n",
       "      <td>0.0031</td>\n",
       "      <td>...</td>\n",
       "      <td>9.666363e+05</td>\n",
       "      <td>1.092256e+06</td>\n",
       "      <td>9.527513e+05</td>\n",
       "      <td>-0.34560</td>\n",
       "      <td>-0.88600</td>\n",
       "      <td>-0.3315</td>\n",
       "      <td>-0.89275</td>\n",
       "      <td>4.112043e+06</td>\n",
       "      <td>0.904435</td>\n",
       "      <td>0.906895</td>\n",
       "    </tr>\n",
       "    <tr>\n",
       "      <th>67082</th>\n",
       "      <td>3155</td>\n",
       "      <td>3167</td>\n",
       "      <td>3135</td>\n",
       "      <td>3143</td>\n",
       "      <td>1755.4039</td>\n",
       "      <td>1936.1921</td>\n",
       "      <td>0.0015</td>\n",
       "      <td>0.0014</td>\n",
       "      <td>0.0014</td>\n",
       "      <td>0.0014</td>\n",
       "      <td>...</td>\n",
       "      <td>1.153194e+06</td>\n",
       "      <td>1.160840e+06</td>\n",
       "      <td>1.151553e+06</td>\n",
       "      <td>0.08350</td>\n",
       "      <td>-0.54890</td>\n",
       "      <td>0.0887</td>\n",
       "      <td>-0.56385</td>\n",
       "      <td>4.628740e+06</td>\n",
       "      <td>0.308263</td>\n",
       "      <td>0.325795</td>\n",
       "    </tr>\n",
       "  </tbody>\n",
       "</table>\n",
       "<p>4 rows × 33 columns</p>\n",
       "</div>"
      ],
      "text/plain": [
       "       id[0][0]  id[1][0]  id[2][0]  id[3][0]       x[0]       x[1]  \\\n",
       "15057      3917      3902      3914      3898  2159.2717  2685.7977   \n",
       "10942       733       728       728       728  1694.2483  1710.3395   \n",
       "23562      2881      2887      2902      2886  1602.0306  1621.2151   \n",
       "67082      3155      3167      3135      3143  1755.4039  1936.1921   \n",
       "\n",
       "       errx[0][0]  errx[0][1]  errx[1][0]  errx[1][1]    ...       flux[1][0]  \\\n",
       "15057      0.7679      0.7501      0.6242      0.6446    ...     6.394799e+02   \n",
       "10942      0.8146      0.7065      0.8592      0.8012    ...     5.730136e+02   \n",
       "23562      0.0038      0.0061      0.0026      0.0031    ...     9.666363e+05   \n",
       "67082      0.0015      0.0014      0.0014      0.0014    ...     1.153194e+06   \n",
       "\n",
       "         flux[2][0]    flux[3][0]    gm[0]    gm[1]   gc[0]    gc[1]  \\\n",
       "15057  5.035146e+02  5.194708e+02  0.15680  0.27785  0.1527  0.17860   \n",
       "10942  5.699057e+02  5.700806e+02  0.36855 -0.14700  0.4185 -0.13490   \n",
       "23562  1.092256e+06  9.527513e+05 -0.34560 -0.88600 -0.3315 -0.89275   \n",
       "67082  1.160840e+06  1.151553e+06  0.08350 -0.54890  0.0887 -0.56385   \n",
       "\n",
       "               flux     gm_sq     gc_sq  \n",
       "15057  2.234657e+03  0.101787  0.055215  \n",
       "10942  2.285642e+03  0.157438  0.193340  \n",
       "23562  4.112043e+06  0.904435  0.906895  \n",
       "67082  4.628740e+06  0.308263  0.325795  \n",
       "\n",
       "[4 rows x 33 columns]"
      ]
     },
     "execution_count": 9,
     "metadata": {},
     "output_type": "execute_result"
    }
   ],
   "source": [
    "# we want to find flux buckets, so sort the data by flux\n",
    "df = df.sort_values(by='flux')\n",
    "df.head(2).append(df.tail(2))"
   ]
  },
  {
   "cell_type": "code",
   "execution_count": 10,
   "metadata": {
    "collapsed": false,
    "deletable": true,
    "editable": true
   },
   "outputs": [
    {
     "data": {
      "text/plain": [
       "(82712, 33)"
      ]
     },
     "execution_count": 10,
     "metadata": {},
     "output_type": "execute_result"
    }
   ],
   "source": [
    "df.shape"
   ]
  },
  {
   "cell_type": "code",
   "execution_count": 11,
   "metadata": {
    "collapsed": false,
    "deletable": true,
    "editable": true
   },
   "outputs": [
    {
     "data": {
      "text/plain": [
       "count    8.271200e+04\n",
       "mean     1.165733e+05\n",
       "std      2.450004e+05\n",
       "min      2.234657e+03\n",
       "25%      1.314300e+04\n",
       "50%      2.717175e+04\n",
       "75%      7.929015e+04\n",
       "max      4.628740e+06\n",
       "Name: flux, dtype: float64"
      ]
     },
     "execution_count": 11,
     "metadata": {},
     "output_type": "execute_result"
    }
   ],
   "source": [
    "df.flux.describe()"
   ]
  },
  {
   "cell_type": "code",
   "execution_count": 12,
   "metadata": {
    "collapsed": false,
    "deletable": true,
    "editable": true
   },
   "outputs": [
    {
     "data": {
      "text/plain": [
       "<matplotlib.text.Text at 0x1042763c8>"
      ]
     },
     "execution_count": 12,
     "metadata": {},
     "output_type": "execute_result"
    },
    {
     "data": {
      "image/png": "[encoded data removed]",
      "text/plain": [
       "<matplotlib.figure.Figure at 0x1157c4860>"
      ]
     },
     "metadata": {
      "image/png": {
       "height": 263,
       "width": 451
      }
     },
     "output_type": "display_data"
    }
   ],
   "source": [
    "plt.plot(df.flux.values,'.')\n",
    "plt.xlabel('row_number')\n",
    "plt.ylabel('flux')"
   ]
  },
  {
   "cell_type": "code",
   "execution_count": 13,
   "metadata": {
    "collapsed": false,
    "deletable": true,
    "editable": true
   },
   "outputs": [
    {
     "data": {
      "text/html": [
       "<div>\n",
       "<style>\n",
       "    .dataframe thead tr:only-child th {\n",
       "        text-align: right;\n",
       "    }\n",
       "\n",
       "    .dataframe thead th {\n",
       "        text-align: left;\n",
       "    }\n",
       "\n",
       "    .dataframe tbody tr th {\n",
       "        vertical-align: top;\n",
       "    }\n",
       "</style>\n",
       "<table border=\"1\" class=\"dataframe\">\n",
       "  <thead>\n",
       "    <tr style=\"text-align: right;\">\n",
       "      <th></th>\n",
       "      <th>gc[1]</th>\n",
       "      <th>flux</th>\n",
       "      <th>gm_sq</th>\n",
       "      <th>gc_sq</th>\n",
       "      <th>flux_bin</th>\n",
       "    </tr>\n",
       "  </thead>\n",
       "  <tbody>\n",
       "    <tr>\n",
       "      <th>15057</th>\n",
       "      <td>0.17860</td>\n",
       "      <td>2.234657e+03</td>\n",
       "      <td>0.101787</td>\n",
       "      <td>0.055215</td>\n",
       "      <td>0</td>\n",
       "    </tr>\n",
       "    <tr>\n",
       "      <th>10942</th>\n",
       "      <td>-0.13490</td>\n",
       "      <td>2.285642e+03</td>\n",
       "      <td>0.157438</td>\n",
       "      <td>0.193340</td>\n",
       "      <td>0</td>\n",
       "    </tr>\n",
       "    <tr>\n",
       "      <th>23562</th>\n",
       "      <td>-0.89275</td>\n",
       "      <td>4.112043e+06</td>\n",
       "      <td>0.904435</td>\n",
       "      <td>0.906895</td>\n",
       "      <td>26</td>\n",
       "    </tr>\n",
       "    <tr>\n",
       "      <th>67082</th>\n",
       "      <td>-0.56385</td>\n",
       "      <td>4.628740e+06</td>\n",
       "      <td>0.308263</td>\n",
       "      <td>0.325795</td>\n",
       "      <td>29</td>\n",
       "    </tr>\n",
       "  </tbody>\n",
       "</table>\n",
       "</div>"
      ],
      "text/plain": [
       "         gc[1]          flux     gm_sq     gc_sq  flux_bin\n",
       "15057  0.17860  2.234657e+03  0.101787  0.055215         0\n",
       "10942 -0.13490  2.285642e+03  0.157438  0.193340         0\n",
       "23562 -0.89275  4.112043e+06  0.904435  0.906895        26\n",
       "67082 -0.56385  4.628740e+06  0.308263  0.325795        29"
      ]
     },
     "execution_count": 13,
     "metadata": {},
     "output_type": "execute_result"
    }
   ],
   "source": [
    "N_BUCKETS = 30\n",
    "df['flux_bin'] = pd.cut(df.flux, bins=N_BUCKETS, labels=False)\n",
    "df.head(2).append(df.tail(2)).iloc[:,-5:]"
   ]
  },
  {
   "cell_type": "code",
   "execution_count": 14,
   "metadata": {
    "collapsed": false,
    "deletable": true,
    "editable": true
   },
   "outputs": [
    {
     "data": {
      "text/html": [
       "<div>\n",
       "<style>\n",
       "    .dataframe thead tr:only-child th {\n",
       "        text-align: right;\n",
       "    }\n",
       "\n",
       "    .dataframe thead th {\n",
       "        text-align: left;\n",
       "    }\n",
       "\n",
       "    .dataframe tbody tr th {\n",
       "        vertical-align: top;\n",
       "    }\n",
       "</style>\n",
       "<table border=\"1\" class=\"dataframe\">\n",
       "  <thead>\n",
       "    <tr style=\"text-align: right;\">\n",
       "      <th></th>\n",
       "      <th>id[0][0]</th>\n",
       "      <th>id[1][0]</th>\n",
       "      <th>id[2][0]</th>\n",
       "      <th>id[3][0]</th>\n",
       "      <th>x[0]</th>\n",
       "      <th>x[1]</th>\n",
       "      <th>errx[0][0]</th>\n",
       "      <th>errx[0][1]</th>\n",
       "      <th>errx[1][0]</th>\n",
       "      <th>errx[1][1]</th>\n",
       "      <th>...</th>\n",
       "      <th>flux[2][0]</th>\n",
       "      <th>flux[3][0]</th>\n",
       "      <th>gm[0]</th>\n",
       "      <th>gm[1]</th>\n",
       "      <th>gc[0]</th>\n",
       "      <th>gc[1]</th>\n",
       "      <th>flux</th>\n",
       "      <th>gm_sq</th>\n",
       "      <th>gc_sq</th>\n",
       "      <th>flux_bin</th>\n",
       "    </tr>\n",
       "  </thead>\n",
       "  <tbody>\n",
       "    <tr>\n",
       "      <th>67082</th>\n",
       "      <td>3155</td>\n",
       "      <td>3167</td>\n",
       "      <td>3135</td>\n",
       "      <td>3143</td>\n",
       "      <td>1755.4039</td>\n",
       "      <td>1936.1921</td>\n",
       "      <td>0.0015</td>\n",
       "      <td>0.0014</td>\n",
       "      <td>0.0014</td>\n",
       "      <td>0.0014</td>\n",
       "      <td>...</td>\n",
       "      <td>1160840.1</td>\n",
       "      <td>1151553.4</td>\n",
       "      <td>0.0835</td>\n",
       "      <td>-0.5489</td>\n",
       "      <td>0.0887</td>\n",
       "      <td>-0.56385</td>\n",
       "      <td>4628740.5</td>\n",
       "      <td>0.308263</td>\n",
       "      <td>0.325795</td>\n",
       "      <td>29</td>\n",
       "    </tr>\n",
       "  </tbody>\n",
       "</table>\n",
       "<p>1 rows × 34 columns</p>\n",
       "</div>"
      ],
      "text/plain": [
       "       id[0][0]  id[1][0]  id[2][0]  id[3][0]       x[0]       x[1]  \\\n",
       "67082      3155      3167      3135      3143  1755.4039  1936.1921   \n",
       "\n",
       "       errx[0][0]  errx[0][1]  errx[1][0]  errx[1][1]    ...     flux[2][0]  \\\n",
       "67082      0.0015      0.0014      0.0014      0.0014    ...      1160840.1   \n",
       "\n",
       "       flux[3][0]   gm[0]   gm[1]   gc[0]    gc[1]       flux     gm_sq  \\\n",
       "67082   1151553.4  0.0835 -0.5489  0.0887 -0.56385  4628740.5  0.308263   \n",
       "\n",
       "          gc_sq  flux_bin  \n",
       "67082  0.325795        29  \n",
       "\n",
       "[1 rows x 34 columns]"
      ]
     },
     "execution_count": 14,
     "metadata": {},
     "output_type": "execute_result"
    }
   ],
   "source": [
    "# Note that not all the bins have values\n",
    "# they are divided with equal flux sum, not by number of rows.\n",
    "temp = N_BUCKETS -1\n",
    "df.query('flux_bin == @temp')"
   ]
  },
  {
   "cell_type": "code",
   "execution_count": 15,
   "metadata": {
    "collapsed": false,
    "deletable": true,
    "editable": true
   },
   "outputs": [
    {
     "data": {
      "text/plain": [
       "<matplotlib.axes._subplots.AxesSubplot at 0x10432fe10>"
      ]
     },
     "execution_count": 15,
     "metadata": {},
     "output_type": "execute_result"
    },
    {
     "data": {
      "image/png": "[encoded data removed]",
      "text/plain": [
       "<matplotlib.figure.Figure at 0x1042d82b0>"
      ]
     },
     "metadata": {
      "image/png": {
       "height": 248,
       "width": 440
      }
     },
     "output_type": "display_data"
    }
   ],
   "source": [
    "df.flux.plot.hist(N_BUCKETS)"
   ]
  },
  {
   "cell_type": "code",
   "execution_count": 16,
   "metadata": {
    "collapsed": false,
    "deletable": true,
    "editable": true
   },
   "outputs": [
    {
     "data": {
      "text/html": [
       "<div>\n",
       "<style>\n",
       "    .dataframe thead tr:only-child th {\n",
       "        text-align: right;\n",
       "    }\n",
       "\n",
       "    .dataframe thead th {\n",
       "        text-align: left;\n",
       "    }\n",
       "\n",
       "    .dataframe tbody tr th {\n",
       "        vertical-align: top;\n",
       "    }\n",
       "</style>\n",
       "<table border=\"1\" class=\"dataframe\">\n",
       "  <thead>\n",
       "    <tr style=\"text-align: right;\">\n",
       "      <th></th>\n",
       "      <th>gc[1]</th>\n",
       "      <th>flux</th>\n",
       "      <th>gm_sq</th>\n",
       "      <th>gc_sq</th>\n",
       "      <th>flux_bin</th>\n",
       "    </tr>\n",
       "  </thead>\n",
       "  <tbody>\n",
       "    <tr>\n",
       "      <th>15057</th>\n",
       "      <td>0.17860</td>\n",
       "      <td>2234.6574</td>\n",
       "      <td>0.101787</td>\n",
       "      <td>0.055215</td>\n",
       "      <td>0</td>\n",
       "    </tr>\n",
       "    <tr>\n",
       "      <th>10942</th>\n",
       "      <td>-0.13490</td>\n",
       "      <td>2285.6420</td>\n",
       "      <td>0.157438</td>\n",
       "      <td>0.193340</td>\n",
       "      <td>0</td>\n",
       "    </tr>\n",
       "    <tr>\n",
       "      <th>75616</th>\n",
       "      <td>-0.05850</td>\n",
       "      <td>2586.9973</td>\n",
       "      <td>1.012137</td>\n",
       "      <td>0.978875</td>\n",
       "      <td>0</td>\n",
       "    </tr>\n",
       "    <tr>\n",
       "      <th>64774</th>\n",
       "      <td>0.77495</td>\n",
       "      <td>2655.6433</td>\n",
       "      <td>0.784500</td>\n",
       "      <td>1.137543</td>\n",
       "      <td>0</td>\n",
       "    </tr>\n",
       "    <tr>\n",
       "      <th>11955</th>\n",
       "      <td>0.74055</td>\n",
       "      <td>2810.6263</td>\n",
       "      <td>0.554968</td>\n",
       "      <td>0.812662</td>\n",
       "      <td>0</td>\n",
       "    </tr>\n",
       "  </tbody>\n",
       "</table>\n",
       "</div>"
      ],
      "text/plain": [
       "         gc[1]       flux     gm_sq     gc_sq  flux_bin\n",
       "15057  0.17860  2234.6574  0.101787  0.055215         0\n",
       "10942 -0.13490  2285.6420  0.157438  0.193340         0\n",
       "75616 -0.05850  2586.9973  1.012137  0.978875         0\n",
       "64774  0.77495  2655.6433  0.784500  1.137543         0\n",
       "11955  0.74055  2810.6263  0.554968  0.812662         0"
      ]
     },
     "execution_count": 16,
     "metadata": {},
     "output_type": "execute_result"
    }
   ],
   "source": [
    "df.iloc[:5,-5:]"
   ]
  },
  {
   "cell_type": "markdown",
   "metadata": {
    "deletable": true,
    "editable": true
   },
   "source": [
    "# Fitting cubic function without bucketing for flux vs gm**2"
   ]
  },
  {
   "cell_type": "code",
   "execution_count": 17,
   "metadata": {
    "collapsed": false,
    "deletable": true,
    "editable": true
   },
   "outputs": [
    {
     "data": {
      "text/plain": [
       "array([  3.61837337e-44,  -4.98940788e-37,   2.60580272e-30,\n",
       "        -6.45299565e-24,   7.74798464e-18,  -3.93319369e-12,\n",
       "         3.48227044e-07,   1.87505277e-01])"
      ]
     },
     "execution_count": 17,
     "metadata": {},
     "output_type": "execute_result"
    },
    {
     "data": {
      "image/png": "[encoded data removed]",
      "text/plain": [
       "<matplotlib.figure.Figure at 0x11519f908>"
      ]
     },
     "metadata": {
      "image/png": {
       "height": 248,
       "width": 416
      }
     },
     "output_type": "display_data"
    }
   ],
   "source": [
    "DEGREE = 7\n",
    "\n",
    "x = df['flux'].values\n",
    "y = df['gm_sq'].values\n",
    "\n",
    "z = np.polyfit(x,y,DEGREE)\n",
    "p = np.poly1d(z)\n",
    "xp = np.linspace(x.min(), x.max(), 1000)\n",
    "plt.plot(x, y, '.', xp, p(xp), '-')\n",
    "\n",
    "\n",
    "gm_no_buckets = p.coeffs\n",
    "gm_no_buckets"
   ]
  },
  {
   "cell_type": "markdown",
   "metadata": {
    "deletable": true,
    "editable": true
   },
   "source": [
    "# Fitting cubic function without bucketing for flux vs gc**2"
   ]
  },
  {
   "cell_type": "code",
   "execution_count": 18,
   "metadata": {
    "collapsed": false,
    "deletable": true,
    "editable": true
   },
   "outputs": [
    {
     "data": {
      "text/plain": [
       "array([  3.70526103e-44,  -5.10670683e-37,   2.66446289e-30,\n",
       "        -6.58539358e-24,   7.87264873e-18,  -3.94333390e-12,\n",
       "         3.04939224e-07,   2.04901562e-01])"
      ]
     },
     "execution_count": 18,
     "metadata": {},
     "output_type": "execute_result"
    },
    {
     "data": {
      "image/png": "[encoded data removed]",
      "text/plain": [
       "<matplotlib.figure.Figure at 0x11519f0f0>"
      ]
     },
     "metadata": {
      "image/png": {
       "height": 248,
       "width": 416
      }
     },
     "output_type": "display_data"
    }
   ],
   "source": [
    "x = df['flux'].values\n",
    "y = df['gc_sq'].values\n",
    "\n",
    "z = np.polyfit(x,y,DEGREE)\n",
    "p = np.poly1d(z)\n",
    "xp = np.linspace(x.min(), x.max(), 1000)\n",
    "plt.plot(x, y, '.', xp, p(xp), '-')\n",
    "\n",
    "gc_no_buckets = p.coeffs\n",
    "gc_no_buckets"
   ]
  },
  {
   "cell_type": "markdown",
   "metadata": {
    "deletable": true,
    "editable": true
   },
   "source": [
    "# Fitting cubic function after bucketing\n",
    "```\n",
    "p(x) = p[0] * x**deg + ... + p[deg]\n",
    "p(x) = ax**3 + bx**2 + cx + d\n",
    "\n",
    "z = np.polyfit(x,y,3)\n",
    "p = np.poly1d(z)\n",
    "a = p(0)\n",
    "d = p(-1)\n",
    "\n",
    "```"
   ]
  },
  {
   "cell_type": "code",
   "execution_count": 19,
   "metadata": {
    "collapsed": false,
    "deletable": true,
    "editable": true
   },
   "outputs": [
    {
     "data": {
      "text/html": [
       "<div>\n",
       "<style>\n",
       "    .dataframe thead tr:only-child th {\n",
       "        text-align: right;\n",
       "    }\n",
       "\n",
       "    .dataframe thead th {\n",
       "        text-align: left;\n",
       "    }\n",
       "\n",
       "    .dataframe tbody tr th {\n",
       "        vertical-align: top;\n",
       "    }\n",
       "</style>\n",
       "<table border=\"1\" class=\"dataframe\">\n",
       "  <thead>\n",
       "    <tr style=\"text-align: right;\">\n",
       "      <th></th>\n",
       "      <th>gc[1]</th>\n",
       "      <th>flux</th>\n",
       "      <th>gm_sq</th>\n",
       "      <th>gc_sq</th>\n",
       "      <th>flux_bin</th>\n",
       "      <th>flux_bin_mean_gm_sq</th>\n",
       "      <th>flux_bin_mean_gc_sq</th>\n",
       "      <th>flux_bin_mean_flux</th>\n",
       "    </tr>\n",
       "  </thead>\n",
       "  <tbody>\n",
       "    <tr>\n",
       "      <th>15057</th>\n",
       "      <td>0.17860</td>\n",
       "      <td>2234.6574</td>\n",
       "      <td>0.101787</td>\n",
       "      <td>0.055215</td>\n",
       "      <td>0</td>\n",
       "      <td>0.194514</td>\n",
       "      <td>0.210469</td>\n",
       "      <td>33458.414473</td>\n",
       "    </tr>\n",
       "    <tr>\n",
       "      <th>10942</th>\n",
       "      <td>-0.13490</td>\n",
       "      <td>2285.6420</td>\n",
       "      <td>0.157438</td>\n",
       "      <td>0.193340</td>\n",
       "      <td>0</td>\n",
       "      <td>0.194514</td>\n",
       "      <td>0.210469</td>\n",
       "      <td>33458.414473</td>\n",
       "    </tr>\n",
       "    <tr>\n",
       "      <th>75616</th>\n",
       "      <td>-0.05850</td>\n",
       "      <td>2586.9973</td>\n",
       "      <td>1.012137</td>\n",
       "      <td>0.978875</td>\n",
       "      <td>0</td>\n",
       "      <td>0.194514</td>\n",
       "      <td>0.210469</td>\n",
       "      <td>33458.414473</td>\n",
       "    </tr>\n",
       "    <tr>\n",
       "      <th>64774</th>\n",
       "      <td>0.77495</td>\n",
       "      <td>2655.6433</td>\n",
       "      <td>0.784500</td>\n",
       "      <td>1.137543</td>\n",
       "      <td>0</td>\n",
       "      <td>0.194514</td>\n",
       "      <td>0.210469</td>\n",
       "      <td>33458.414473</td>\n",
       "    </tr>\n",
       "    <tr>\n",
       "      <th>11955</th>\n",
       "      <td>0.74055</td>\n",
       "      <td>2810.6263</td>\n",
       "      <td>0.554968</td>\n",
       "      <td>0.812662</td>\n",
       "      <td>0</td>\n",
       "      <td>0.194514</td>\n",
       "      <td>0.210469</td>\n",
       "      <td>33458.414473</td>\n",
       "    </tr>\n",
       "  </tbody>\n",
       "</table>\n",
       "</div>"
      ],
      "text/plain": [
       "         gc[1]       flux     gm_sq     gc_sq  flux_bin  flux_bin_mean_gm_sq  \\\n",
       "15057  0.17860  2234.6574  0.101787  0.055215         0             0.194514   \n",
       "10942 -0.13490  2285.6420  0.157438  0.193340         0             0.194514   \n",
       "75616 -0.05850  2586.9973  1.012137  0.978875         0             0.194514   \n",
       "64774  0.77495  2655.6433  0.784500  1.137543         0             0.194514   \n",
       "11955  0.74055  2810.6263  0.554968  0.812662         0             0.194514   \n",
       "\n",
       "       flux_bin_mean_gc_sq  flux_bin_mean_flux  \n",
       "15057             0.210469        33458.414473  \n",
       "10942             0.210469        33458.414473  \n",
       "75616             0.210469        33458.414473  \n",
       "64774             0.210469        33458.414473  \n",
       "11955             0.210469        33458.414473  "
      ]
     },
     "execution_count": 19,
     "metadata": {},
     "output_type": "execute_result"
    }
   ],
   "source": [
    "# create new columns gm**2 gc**2 and flux for each bins\n",
    "df['flux_bin_mean_gm_sq'] = df.groupby('flux_bin')['gm_sq'].transform('mean')\n",
    "df['flux_bin_mean_gc_sq'] = df.groupby('flux_bin')['gc_sq'].transform('mean')\n",
    "df['flux_bin_mean_flux'] = df.groupby('flux_bin')['flux'].transform('mean')\n",
    "df.iloc[:5,-8:]"
   ]
  },
  {
   "cell_type": "code",
   "execution_count": 20,
   "metadata": {
    "collapsed": false,
    "deletable": true,
    "editable": true
   },
   "outputs": [
    {
     "data": {
      "text/plain": [
       "0.19451413262523234"
      ]
     },
     "execution_count": 20,
     "metadata": {},
     "output_type": "execute_result"
    }
   ],
   "source": [
    "# confirm first bin values\n",
    "bin1 = df.query('flux_bin == 0')\n",
    "bin1.gm_sq.mean()"
   ]
  },
  {
   "cell_type": "code",
   "execution_count": 21,
   "metadata": {
    "collapsed": false,
    "deletable": true,
    "editable": true
   },
   "outputs": [
    {
     "data": {
      "text/plain": [
       "0     68852\n",
       "1      4651\n",
       "2      3420\n",
       "3      1945\n",
       "4      1235\n",
       "5       731\n",
       "6       487\n",
       "7       388\n",
       "8       341\n",
       "9       236\n",
       "10      200\n",
       "11      141\n",
       "12       36\n",
       "13       13\n",
       "14       11\n",
       "15        9\n",
       "16        4\n",
       "17        4\n",
       "18        2\n",
       "26        1\n",
       "19        1\n",
       "20        1\n",
       "21        1\n",
       "23        1\n",
       "29        1\n",
       "Name: flux_bin, dtype: int64"
      ]
     },
     "execution_count": 21,
     "metadata": {},
     "output_type": "execute_result"
    }
   ],
   "source": [
    "# look at number of rows in each bin\n",
    "df['flux_bin'].value_counts()  # there are no flux values in bin #24, #28"
   ]
  },
  {
   "cell_type": "code",
   "execution_count": 22,
   "metadata": {
    "collapsed": false,
    "deletable": true,
    "editable": true
   },
   "outputs": [
    {
     "data": {
      "text/plain": [
       "array([ 0,  1,  2,  3,  4,  5,  6,  7,  8,  9, 10, 11, 12, 13, 14, 15, 16,\n",
       "       17, 18, 19, 20, 21, 23, 26, 29])"
      ]
     },
     "execution_count": 22,
     "metadata": {},
     "output_type": "execute_result"
    }
   ],
   "source": [
    "df.flux_bin.unique()"
   ]
  },
  {
   "cell_type": "code",
   "execution_count": 23,
   "metadata": {
    "collapsed": false,
    "deletable": true,
    "editable": true
   },
   "outputs": [
    {
     "data": {
      "text/plain": [
       "[22, 24, 25, 27, 28]"
      ]
     },
     "execution_count": 23,
     "metadata": {},
     "output_type": "execute_result"
    }
   ],
   "source": [
    "missing = [i  for i in range(N_BUCKETS) if i not in df.flux_bin.unique()]\n",
    "missing"
   ]
  },
  {
   "cell_type": "code",
   "execution_count": 24,
   "metadata": {
    "collapsed": false,
    "deletable": true,
    "editable": true
   },
   "outputs": [
    {
     "data": {
      "text/html": [
       "<div>\n",
       "<style>\n",
       "    .dataframe thead tr:only-child th {\n",
       "        text-align: right;\n",
       "    }\n",
       "\n",
       "    .dataframe thead th {\n",
       "        text-align: left;\n",
       "    }\n",
       "\n",
       "    .dataframe tbody tr th {\n",
       "        vertical-align: top;\n",
       "    }\n",
       "</style>\n",
       "<table border=\"1\" class=\"dataframe\">\n",
       "  <thead>\n",
       "    <tr style=\"text-align: right;\">\n",
       "      <th></th>\n",
       "      <th>gm</th>\n",
       "      <th>gc</th>\n",
       "      <th>flux</th>\n",
       "    </tr>\n",
       "  </thead>\n",
       "  <tbody>\n",
       "    <tr>\n",
       "      <th>15057</th>\n",
       "      <td>0.194514</td>\n",
       "      <td>0.210469</td>\n",
       "      <td>3.345841e+04</td>\n",
       "    </tr>\n",
       "    <tr>\n",
       "      <th>71614</th>\n",
       "      <td>0.107529</td>\n",
       "      <td>0.116431</td>\n",
       "      <td>2.202682e+05</td>\n",
       "    </tr>\n",
       "    <tr>\n",
       "      <th>73252</th>\n",
       "      <td>0.037473</td>\n",
       "      <td>0.040485</td>\n",
       "      <td>3.801962e+05</td>\n",
       "    </tr>\n",
       "    <tr>\n",
       "      <th>52817</th>\n",
       "      <td>0.036093</td>\n",
       "      <td>0.038546</td>\n",
       "      <td>5.365722e+05</td>\n",
       "    </tr>\n",
       "    <tr>\n",
       "      <th>40872</th>\n",
       "      <td>0.033806</td>\n",
       "      <td>0.035346</td>\n",
       "      <td>6.930182e+05</td>\n",
       "    </tr>\n",
       "    <tr>\n",
       "      <th>73949</th>\n",
       "      <td>0.034446</td>\n",
       "      <td>0.038010</td>\n",
       "      <td>8.466203e+05</td>\n",
       "    </tr>\n",
       "    <tr>\n",
       "      <th>21535</th>\n",
       "      <td>0.036903</td>\n",
       "      <td>0.041324</td>\n",
       "      <td>1.001184e+06</td>\n",
       "    </tr>\n",
       "    <tr>\n",
       "      <th>41177</th>\n",
       "      <td>0.037361</td>\n",
       "      <td>0.041066</td>\n",
       "      <td>1.157884e+06</td>\n",
       "    </tr>\n",
       "    <tr>\n",
       "      <th>47094</th>\n",
       "      <td>0.036408</td>\n",
       "      <td>0.045556</td>\n",
       "      <td>1.313294e+06</td>\n",
       "    </tr>\n",
       "    <tr>\n",
       "      <th>18185</th>\n",
       "      <td>0.030513</td>\n",
       "      <td>0.032421</td>\n",
       "      <td>1.467382e+06</td>\n",
       "    </tr>\n",
       "    <tr>\n",
       "      <th>3194</th>\n",
       "      <td>0.026750</td>\n",
       "      <td>0.033196</td>\n",
       "      <td>1.623454e+06</td>\n",
       "    </tr>\n",
       "    <tr>\n",
       "      <th>36644</th>\n",
       "      <td>0.031694</td>\n",
       "      <td>0.038690</td>\n",
       "      <td>1.767924e+06</td>\n",
       "    </tr>\n",
       "    <tr>\n",
       "      <th>62077</th>\n",
       "      <td>0.066232</td>\n",
       "      <td>0.077057</td>\n",
       "      <td>1.917243e+06</td>\n",
       "    </tr>\n",
       "    <tr>\n",
       "      <th>41365</th>\n",
       "      <td>0.170258</td>\n",
       "      <td>0.197813</td>\n",
       "      <td>2.064043e+06</td>\n",
       "    </tr>\n",
       "    <tr>\n",
       "      <th>59708</th>\n",
       "      <td>0.154402</td>\n",
       "      <td>0.186578</td>\n",
       "      <td>2.212433e+06</td>\n",
       "    </tr>\n",
       "    <tr>\n",
       "      <th>49333</th>\n",
       "      <td>0.223762</td>\n",
       "      <td>0.232918</td>\n",
       "      <td>2.378597e+06</td>\n",
       "    </tr>\n",
       "    <tr>\n",
       "      <th>39347</th>\n",
       "      <td>0.680033</td>\n",
       "      <td>0.664739</td>\n",
       "      <td>2.550301e+06</td>\n",
       "    </tr>\n",
       "    <tr>\n",
       "      <th>60899</th>\n",
       "      <td>0.344294</td>\n",
       "      <td>0.372370</td>\n",
       "      <td>2.681743e+06</td>\n",
       "    </tr>\n",
       "    <tr>\n",
       "      <th>16152</th>\n",
       "      <td>0.618715</td>\n",
       "      <td>0.620700</td>\n",
       "      <td>2.884345e+06</td>\n",
       "    </tr>\n",
       "    <tr>\n",
       "      <th>55979</th>\n",
       "      <td>0.555233</td>\n",
       "      <td>0.599563</td>\n",
       "      <td>3.033305e+06</td>\n",
       "    </tr>\n",
       "    <tr>\n",
       "      <th>62811</th>\n",
       "      <td>0.522330</td>\n",
       "      <td>0.542175</td>\n",
       "      <td>3.240452e+06</td>\n",
       "    </tr>\n",
       "    <tr>\n",
       "      <th>46558</th>\n",
       "      <td>0.519987</td>\n",
       "      <td>0.573682</td>\n",
       "      <td>3.375956e+06</td>\n",
       "    </tr>\n",
       "    <tr>\n",
       "      <th>75482</th>\n",
       "      <td>0.460570</td>\n",
       "      <td>0.572433</td>\n",
       "      <td>3.581159e+06</td>\n",
       "    </tr>\n",
       "    <tr>\n",
       "      <th>23562</th>\n",
       "      <td>0.904435</td>\n",
       "      <td>0.906895</td>\n",
       "      <td>4.112043e+06</td>\n",
       "    </tr>\n",
       "    <tr>\n",
       "      <th>67082</th>\n",
       "      <td>0.308263</td>\n",
       "      <td>0.325795</td>\n",
       "      <td>4.628740e+06</td>\n",
       "    </tr>\n",
       "  </tbody>\n",
       "</table>\n",
       "</div>"
      ],
      "text/plain": [
       "             gm        gc          flux\n",
       "15057  0.194514  0.210469  3.345841e+04\n",
       "71614  0.107529  0.116431  2.202682e+05\n",
       "73252  0.037473  0.040485  3.801962e+05\n",
       "52817  0.036093  0.038546  5.365722e+05\n",
       "40872  0.033806  0.035346  6.930182e+05\n",
       "73949  0.034446  0.038010  8.466203e+05\n",
       "21535  0.036903  0.041324  1.001184e+06\n",
       "41177  0.037361  0.041066  1.157884e+06\n",
       "47094  0.036408  0.045556  1.313294e+06\n",
       "18185  0.030513  0.032421  1.467382e+06\n",
       "3194   0.026750  0.033196  1.623454e+06\n",
       "36644  0.031694  0.038690  1.767924e+06\n",
       "62077  0.066232  0.077057  1.917243e+06\n",
       "41365  0.170258  0.197813  2.064043e+06\n",
       "59708  0.154402  0.186578  2.212433e+06\n",
       "49333  0.223762  0.232918  2.378597e+06\n",
       "39347  0.680033  0.664739  2.550301e+06\n",
       "60899  0.344294  0.372370  2.681743e+06\n",
       "16152  0.618715  0.620700  2.884345e+06\n",
       "55979  0.555233  0.599563  3.033305e+06\n",
       "62811  0.522330  0.542175  3.240452e+06\n",
       "46558  0.519987  0.573682  3.375956e+06\n",
       "75482  0.460570  0.572433  3.581159e+06\n",
       "23562  0.904435  0.906895  4.112043e+06\n",
       "67082  0.308263  0.325795  4.628740e+06"
      ]
     },
     "execution_count": 24,
     "metadata": {},
     "output_type": "execute_result"
    }
   ],
   "source": [
    "# take only mean gm gc flux in each buckets, and take unique values\n",
    "gm_gc_flux = df[['flux_bin_mean_gm_sq', 'flux_bin_mean_gc_sq', 'flux_bin_mean_flux']].drop_duplicates()\n",
    "gm_gc_flux.columns = ['gm','gc','flux']\n",
    "gm_gc_flux"
   ]
  },
  {
   "cell_type": "code",
   "execution_count": 25,
   "metadata": {
    "collapsed": false,
    "deletable": true,
    "editable": true
   },
   "outputs": [
    {
     "data": {
      "text/plain": [
       "<matplotlib.axes._subplots.AxesSubplot at 0x117d1d198>"
      ]
     },
     "execution_count": 25,
     "metadata": {},
     "output_type": "execute_result"
    },
    {
     "data": {
      "image/png": "[encoded data removed]",
      "text/plain": [
       "<matplotlib.figure.Figure at 0x117d28e48>"
      ]
     },
     "metadata": {
      "image/png": {
       "height": 263,
       "width": 426
      }
     },
     "output_type": "display_data"
    }
   ],
   "source": [
    "gm_gc_flux.plot.scatter(x='flux',y='gm')"
   ]
  },
  {
   "cell_type": "code",
   "execution_count": 26,
   "metadata": {
    "collapsed": false
   },
   "outputs": [
    {
     "data": {
      "text/plain": [
       "<matplotlib.axes._subplots.AxesSubplot at 0x11ba11898>"
      ]
     },
     "execution_count": 26,
     "metadata": {},
     "output_type": "execute_result"
    },
    {
     "data": {
      "image/png": "[encoded data removed]",
      "text/plain": [
       "<matplotlib.figure.Figure at 0x117ccd4e0>"
      ]
     },
     "metadata": {
      "image/png": {
       "height": 263,
       "width": 426
      }
     },
     "output_type": "display_data"
    }
   ],
   "source": [
    "# we can see two data points are outer of 400k ie. 4e6\n",
    "gm_gc_flux = gm_gc_flux.query('flux < 4e6')\n",
    "gm_gc_flux.plot.scatter(x='flux',y='gm')"
   ]
  },
  {
   "cell_type": "markdown",
   "metadata": {
    "deletable": true,
    "editable": true
   },
   "source": [
    "# Polynomial Fitting for gm vs flux after bucketing"
   ]
  },
  {
   "cell_type": "code",
   "execution_count": 27,
   "metadata": {
    "collapsed": false,
    "deletable": true,
    "editable": true
   },
   "outputs": [
    {
     "data": {
      "text/plain": [
       "array([  2.14277539e-44,  -2.26017752e-37,   8.47465320e-31,\n",
       "        -1.27261270e-24,   3.69972668e-19,   8.66981617e-13,\n",
       "        -7.91075360e-07,   2.24333979e-01])"
      ]
     },
     "execution_count": 27,
     "metadata": {},
     "output_type": "execute_result"
    },
    {
     "data": {
      "image/png": "[encoded data removed]",
      "text/plain": [
       "<matplotlib.figure.Figure at 0x11b7a7be0>"
      ]
     },
     "metadata": {
      "image/png": {
       "height": 248,
       "width": 411
      }
     },
     "output_type": "display_data"
    }
   ],
   "source": [
    "x = gm_gc_flux['flux'].values\n",
    "y = gm_gc_flux['gm'].values\n",
    "\n",
    "z = np.polyfit(x,y,DEGREE)\n",
    "p = np.poly1d(z)\n",
    "xp = np.linspace(x.min(), x.max(), 1000)\n",
    "plt.plot(x, y, '.', xp, p(xp), '-')\n",
    "\n",
    "gm_buckets = p.coeffs\n",
    "gm_buckets"
   ]
  },
  {
   "cell_type": "markdown",
   "metadata": {
    "deletable": true,
    "editable": true
   },
   "source": [
    "# Polynomial fitting for gc vs flux after bucketing"
   ]
  },
  {
   "cell_type": "code",
   "execution_count": 28,
   "metadata": {
    "collapsed": false,
    "deletable": true,
    "editable": true
   },
   "outputs": [
    {
     "data": {
      "text/plain": [
       "array([  2.11461600e-44,  -2.20487954e-37,   8.13633141e-31,\n",
       "        -1.17803432e-24,   2.29105186e-19,   9.95074270e-13,\n",
       "        -8.59831357e-07,   2.42492168e-01])"
      ]
     },
     "execution_count": 28,
     "metadata": {},
     "output_type": "execute_result"
    },
    {
     "data": {
      "image/png": "[encoded data removed]",
      "text/plain": [
       "<matplotlib.figure.Figure at 0x117d2ca90>"
      ]
     },
     "metadata": {
      "image/png": {
       "height": 248,
       "width": 411
      }
     },
     "output_type": "display_data"
    }
   ],
   "source": [
    "x = gm_gc_flux['flux'].values\n",
    "y = gm_gc_flux['gc'].values\n",
    "\n",
    "z = np.polyfit(x,y,DEGREE)\n",
    "p = np.poly1d(z)\n",
    "xp = np.linspace(x.min(), x.max(), 1000)\n",
    "plt.plot(x, y, '.', xp, p(xp), '-')\n",
    "\n",
    "gc_buckets = p.coeffs\n",
    "gc_buckets"
   ]
  },
  {
   "cell_type": "markdown",
   "metadata": {
    "deletable": true,
    "editable": true
   },
   "source": [
    "# Outputs\n",
    "\n",
    "- number of buckets used = 30\n",
    "- there are two flux values are are extremely high, which can be excluded."
   ]
  },
  {
   "cell_type": "code",
   "execution_count": 29,
   "metadata": {
    "collapsed": false
   },
   "outputs": [
    {
     "data": {
      "text/plain": [
       "'abcdefghijklmnopqrstuvwxyz'"
      ]
     },
     "execution_count": 29,
     "metadata": {},
     "output_type": "execute_result"
    }
   ],
   "source": [
    "import string\n",
    "\n",
    "a = string.ascii_lowercase\n",
    "a"
   ]
  },
  {
   "cell_type": "code",
   "execution_count": 30,
   "metadata": {
    "collapsed": false,
    "deletable": true,
    "editable": true
   },
   "outputs": [
    {
     "data": {
      "text/html": [
       "<div>\n",
       "<style>\n",
       "    .dataframe thead tr:only-child th {\n",
       "        text-align: right;\n",
       "    }\n",
       "\n",
       "    .dataframe thead th {\n",
       "        text-align: left;\n",
       "    }\n",
       "\n",
       "    .dataframe tbody tr th {\n",
       "        vertical-align: top;\n",
       "    }\n",
       "</style>\n",
       "<table border=\"1\" class=\"dataframe\">\n",
       "  <thead>\n",
       "    <tr style=\"text-align: right;\">\n",
       "      <th></th>\n",
       "      <th>gc_buckets</th>\n",
       "      <th>gc_no_buckets</th>\n",
       "      <th>gm_buckets</th>\n",
       "      <th>gm_no_buckets</th>\n",
       "    </tr>\n",
       "  </thead>\n",
       "  <tbody>\n",
       "    <tr>\n",
       "      <th>0</th>\n",
       "      <td>2.114616e-44</td>\n",
       "      <td>3.705261e-44</td>\n",
       "      <td>2.142775e-44</td>\n",
       "      <td>3.618373e-44</td>\n",
       "    </tr>\n",
       "    <tr>\n",
       "      <th>1</th>\n",
       "      <td>-2.204880e-37</td>\n",
       "      <td>-5.106707e-37</td>\n",
       "      <td>-2.260178e-37</td>\n",
       "      <td>-4.989408e-37</td>\n",
       "    </tr>\n",
       "    <tr>\n",
       "      <th>2</th>\n",
       "      <td>8.136331e-31</td>\n",
       "      <td>2.664463e-30</td>\n",
       "      <td>8.474653e-31</td>\n",
       "      <td>2.605803e-30</td>\n",
       "    </tr>\n",
       "    <tr>\n",
       "      <th>3</th>\n",
       "      <td>-1.178034e-24</td>\n",
       "      <td>-6.585394e-24</td>\n",
       "      <td>-1.272613e-24</td>\n",
       "      <td>-6.452996e-24</td>\n",
       "    </tr>\n",
       "    <tr>\n",
       "      <th>4</th>\n",
       "      <td>2.291052e-19</td>\n",
       "      <td>7.872649e-18</td>\n",
       "      <td>3.699727e-19</td>\n",
       "      <td>7.747985e-18</td>\n",
       "    </tr>\n",
       "    <tr>\n",
       "      <th>5</th>\n",
       "      <td>9.950743e-13</td>\n",
       "      <td>-3.943334e-12</td>\n",
       "      <td>8.669816e-13</td>\n",
       "      <td>-3.933194e-12</td>\n",
       "    </tr>\n",
       "    <tr>\n",
       "      <th>6</th>\n",
       "      <td>-8.598314e-07</td>\n",
       "      <td>3.049392e-07</td>\n",
       "      <td>-7.910754e-07</td>\n",
       "      <td>3.482270e-07</td>\n",
       "    </tr>\n",
       "    <tr>\n",
       "      <th>7</th>\n",
       "      <td>2.424922e-01</td>\n",
       "      <td>2.049016e-01</td>\n",
       "      <td>2.243340e-01</td>\n",
       "      <td>1.875053e-01</td>\n",
       "    </tr>\n",
       "  </tbody>\n",
       "</table>\n",
       "</div>"
      ],
      "text/plain": [
       "     gc_buckets  gc_no_buckets    gm_buckets  gm_no_buckets\n",
       "0  2.114616e-44   3.705261e-44  2.142775e-44   3.618373e-44\n",
       "1 -2.204880e-37  -5.106707e-37 -2.260178e-37  -4.989408e-37\n",
       "2  8.136331e-31   2.664463e-30  8.474653e-31   2.605803e-30\n",
       "3 -1.178034e-24  -6.585394e-24 -1.272613e-24  -6.452996e-24\n",
       "4  2.291052e-19   7.872649e-18  3.699727e-19   7.747985e-18\n",
       "5  9.950743e-13  -3.943334e-12  8.669816e-13  -3.933194e-12\n",
       "6 -8.598314e-07   3.049392e-07 -7.910754e-07   3.482270e-07\n",
       "7  2.424922e-01   2.049016e-01  2.243340e-01   1.875053e-01"
      ]
     },
     "execution_count": 30,
     "metadata": {},
     "output_type": "execute_result"
    }
   ],
   "source": [
    "parameters = pd.DataFrame({'gm_no_buckets': gm_no_buckets,\n",
    "                          'gc_no_buckets': gc_no_buckets,\n",
    "                          'gm_buckets': gm_buckets,\n",
    "                          'gc_buckets': gc_buckets})\n",
    "\n",
    "\n",
    "parameters"
   ]
  },
  {
   "cell_type": "code",
   "execution_count": null,
   "metadata": {
    "collapsed": false,
    "deletable": true,
    "editable": true
   },
   "outputs": [],
   "source": []
  },
  {
   "cell_type": "code",
   "execution_count": null,
   "metadata": {
    "collapsed": true
   },
   "outputs": [],
   "source": []
  }
 ],
 "metadata": {
  "kernelspec": {
   "display_name": "Python 3",
   "language": "python",
   "name": "python3"
  },
  "language_info": {
   "codemirror_mode": {
    "name": "ipython",
    "version": 3
   },
   "file_extension": ".py",
   "mimetype": "text/x-python",
   "name": "python",
   "nbconvert_exporter": "python",
   "pygments_lexer": "ipython3",
   "version": "3.5.2"
  },
  "toc": {
   "colors": {
    "hover_highlight": "#DAA520",
    "navigate_num": "#000000",
    "navigate_text": "#333333",
    "running_highlight": "#FF0000",
    "selected_highlight": "#FFD700",
    "sidebar_border": "#EEEEEE",
    "wrapper_background": "#FFFFFF"
   },
   "moveMenuLeft": true,
   "nav_menu": {
    "height": "189px",
    "width": "252px"
   },
   "navigate_menu": true,
   "number_sections": true,
   "sideBar": true,
   "threshold": 4,
   "toc_cell": true,
   "toc_section_display": "block",
   "toc_window_display": true,
   "widenNotebook": false
  }
 },
 "nbformat": 4,
 "nbformat_minor": 2
}
