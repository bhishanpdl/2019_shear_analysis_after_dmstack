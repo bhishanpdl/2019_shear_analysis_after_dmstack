{
  "nbformat": 4,
  "nbformat_minor": 0,
  "metadata": {
    "colab": {
      "name": "392_Is_Subsequence.ipynb",
      "provenance": [],
      "authorship_tag": "ABX9TyPj4V5gDN/5mW3b+WBIg+Od"
    },
    "kernelspec": {
      "name": "python3",
      "display_name": "Python 3"
    }
  },
  "cells": [
    {
      "cell_type": "markdown",
      "metadata": {
        "id": "M8-JtorfFfBi",
        "colab_type": "text"
      },
      "source": [
        "# Problem\n",
        "![](https://i.imgur.com/nX5xMF2.png)"
      ]
    },
    {
      "cell_type": "code",
      "metadata": {
        "id": "5xfhwsY_FR6T",
        "colab_type": "code",
        "colab": {
          "base_uri": "https://localhost:8080/",
          "height": 34
        },
        "outputId": "0c019ef1-6d05-4dab-85ac-18920e8e3abd"
      },
      "source": [
        "class Solution:\n",
        "    def isSubsequence(self, s, t):\n",
        "        \"\"\"\n",
        "        :type s: str\n",
        "        :type t: str\n",
        "        :rtype : bool\n",
        "        \"\"\"\n",
        "        for i in range (0, len(s)):    \n",
        "            try:\n",
        "                index = t.index(s[i])\n",
        "            except ValueError: \n",
        "                return False\n",
        "\n",
        "            t = t[index+1:]\n",
        "\n",
        "        return True\n",
        "\n",
        "t = \"abcdefgh\"\n",
        "s = \"ace\"\n",
        "\n",
        "sol = Solution()\n",
        "sol.isSubsequence(s,t)"
      ],
      "execution_count": 1,
      "outputs": [
        {
          "output_type": "execute_result",
          "data": {
            "text/plain": [
              "True"
            ]
          },
          "metadata": {
            "tags": []
          },
          "execution_count": 1
        }
      ]
    },
    {
      "cell_type": "code",
      "metadata": {
        "id": "UszpdyzaHCkE",
        "colab_type": "code",
        "colab": {}
      },
      "source": [
        ""
      ],
      "execution_count": 0,
      "outputs": []
    }
  ]
}