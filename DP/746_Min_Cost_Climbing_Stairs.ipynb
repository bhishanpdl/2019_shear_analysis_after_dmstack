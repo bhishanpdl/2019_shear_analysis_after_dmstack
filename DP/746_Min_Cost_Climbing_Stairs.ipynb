{
  "nbformat": 4,
  "nbformat_minor": 0,
  "metadata": {
    "colab": {
      "name": "746_Min_Cost_Climbing_Stairs.ipynb",
      "provenance": [],
      "authorship_tag": "ABX9TyO7LEtriu4rg8NrqODoW0ax",
      "include_colab_link": true
    },
    "kernelspec": {
      "name": "python3",
      "display_name": "Python 3"
    }
  },
  "cells": [
    {
      "cell_type": "markdown",
      "metadata": {
        "id": "view-in-github",
        "colab_type": "text"
      },
      "source": [
        "<a href=\"https://colab.research.google.com/github/bhishanpdl/2019_shear_analysis_after_dmstack/blob/master/DP/746_Min_Cost_Climbing_Stairs.ipynb\" target=\"_parent\"><img src=\"https://colab.research.google.com/assets/colab-badge.svg\" alt=\"Open In Colab\"/></a>"
      ]
    },
    {
      "cell_type": "markdown",
      "metadata": {
        "id": "EEdXnXxpqTz5",
        "colab_type": "text"
      },
      "source": [
        "# Leetcode\n",
        "![](https://i.imgur.com/nn6dfsQ.png)"
      ]
    },
    {
      "cell_type": "code",
      "metadata": {
        "id": "21fS-FfXoDKo",
        "colab_type": "code",
        "colab": {
          "base_uri": "https://localhost:8080/",
          "height": 34
        },
        "outputId": "668abfc7-d64a-446f-99bd-18b2695684aa"
      },
      "source": [
        "class Solution(object):\n",
        "    def minCostClimbingStairs(self, cost):\n",
        "        f1 = f2 = 0\n",
        "        for x in reversed(cost):\n",
        "            f1, f2 = x + min(f1, f2), f1\n",
        "        return min(f1, f2)\n",
        "        \n",
        "cost = [1,100,1,1,1,100,1,1,100,1]\n",
        "sol = Solution()\n",
        "\n",
        "sol.minCostClimbingStairs(cost)"
      ],
      "execution_count": 68,
      "outputs": [
        {
          "output_type": "execute_result",
          "data": {
            "text/plain": [
              "6"
            ]
          },
          "metadata": {
            "tags": []
          },
          "execution_count": 68
        }
      ]
    },
    {
      "cell_type": "code",
      "metadata": {
        "id": "y2Gz7E_3_flV",
        "colab_type": "code",
        "colab": {
          "base_uri": "https://localhost:8080/",
          "height": 34
        },
        "outputId": "8b43081f-72d2-42e6-ead3-4af4bfa28059"
      },
      "source": [
        "class Solution:\n",
        "    def minCostClimbingStairs(self,c):\n",
        "        \"\"\"\n",
        "        :type c: List[int]\n",
        "        :rtype : int\n",
        "        \"\"\"\n",
        "        c1, c2 = c[0], c[1]\n",
        "        for i in range(2,len(c)): \n",
        "            c1, c2 = c2, c[i] + min(c1,c2)\n",
        "        return min(c1, c2)\n",
        "\n",
        "cost = [1,100,1,1,1,100,1,1,100,1]\n",
        "sol = Solution()\n",
        "\n",
        "sol.minCostClimbingStairs(cost)"
      ],
      "execution_count": 70,
      "outputs": [
        {
          "output_type": "execute_result",
          "data": {
            "text/plain": [
              "6"
            ]
          },
          "metadata": {
            "tags": []
          },
          "execution_count": 70
        }
      ]
    },
    {
      "cell_type": "code",
      "metadata": {
        "id": "IcXnU1Yn7mBR",
        "colab_type": "code",
        "colab": {
          "base_uri": "https://localhost:8080/",
          "height": 34
        },
        "outputId": "6dffb800-b1da-48cc-efa3-9893f778e48b"
      },
      "source": [
        "class Solution:\n",
        "    def minCostClimbingStairs(self,c):\n",
        "        \"\"\"\n",
        "        :type c: List[int]\n",
        "        :rtype : int\n",
        "        \"\"\"\n",
        "        c1, c2 = c[-2], c[-1]\n",
        "        for i in range(len(c)-3,-1,-1): \n",
        "            c1, c2 = c[i] + min(c1,c2), c1\n",
        "        return min(c1, c2)\n",
        "\n",
        "cost = [1,100,1,1,1,100,1,1,100,1]\n",
        "sol = Solution()\n",
        "\n",
        "sol.minCostClimbingStairs(cost)"
      ],
      "execution_count": 69,
      "outputs": [
        {
          "output_type": "execute_result",
          "data": {
            "text/plain": [
              "6"
            ]
          },
          "metadata": {
            "tags": []
          },
          "execution_count": 69
        }
      ]
    },
    {
      "cell_type": "code",
      "metadata": {
        "id": "2FYPntZC720i",
        "colab_type": "code",
        "colab": {}
      },
      "source": [
        ""
      ],
      "execution_count": 0,
      "outputs": []
    }
  ]
}