{
 "cells": [
  {
   "cell_type": "markdown",
   "metadata": {
    "toc": "true"
   },
   "source": [
    "# Table of Contents\n",
    " <p><div class=\"lev1 toc-item\"><a href=\"#Introduction\" data-toc-modified-id=\"Introduction-1\"><span class=\"toc-item-num\">1&nbsp;&nbsp;</span>Introduction</a></div><div class=\"lev1 toc-item\"><a href=\"#Imports\" data-toc-modified-id=\"Imports-2\"><span class=\"toc-item-num\">2&nbsp;&nbsp;</span>Imports</a></div><div class=\"lev1 toc-item\"><a href=\"#Read-flag-dictionary-and-column-names\" data-toc-modified-id=\"Read-flag-dictionary-and-column-names-3\"><span class=\"toc-item-num\">3&nbsp;&nbsp;</span>Read flag dictionary and column names</a></div><div class=\"lev1 toc-item\"><a href=\"#Plot-the-gmsq-for-flag=True-and-flag=False\" data-toc-modified-id=\"Plot-the-gmsq-for-flag=True-and-flag=False-4\"><span class=\"toc-item-num\">4&nbsp;&nbsp;</span>Plot the gmsq for flag=True and flag=False</a></div><div class=\"lev1 toc-item\"><a href=\"#Results\" data-toc-modified-id=\"Results-5\"><span class=\"toc-item-num\">5&nbsp;&nbsp;</span>Results</a></div>"
   ]
  },
  {
   "cell_type": "markdown",
   "metadata": {},
   "source": [
    "# Introduction\n",
    "Date: Nov 12, 2019\n",
    "\n",
    "**Summary**\n",
    "1. For selected flags which gives maximum and minimum gmsq density in the range 0.5 to 1.0\n",
    "   I created two histograms for each case flag=0 and flag=1.\n",
    "   \n",
    "2.\n",
    "\n",
    "\n",
    "\n",
    "\n",
    "\n",
    "**------------------------------------------------------------------------------------**\n",
    "\n",
    "final_text.txt is created by imcat program after merging four lsst files (m,m9,l,l9)\n",
    "after cleaning.\n",
    "\n",
    "**Usual Filtering**\n",
    "```python\n",
    "column ==> deblend_nChild == 0.0\n",
    "ellipticity ==> ellip < 1.5\n",
    "nans ==> if nans in cols_select, remove row\n",
    "\n",
    "where,\n",
    "cols_select = ['base_SdssCentroid_x', 'base_SdssCentroid_y',\n",
    "       'base_SdssCentroid_xSigma','base_SdssCentroid_ySigma',\n",
    "       'ext_shapeHSM_HsmShapeRegauss_e1','ext_shapeHSM_HsmShapeRegauss_e2',\n",
    "        'base_SdssShape_flux']\n",
    "```\n",
    "\n",
    "**Check effects of flags**\n",
    "```python\n",
    "calib_psfCandidate == 0.0 # usual flag\n",
    "\n",
    "# check effect of other flags on number density in 0.5 < gmsq < 1.1\n",
    "```\n",
    "\n",
    "**All 90 flags results**  \n",
    "```\n",
    "\n",
    "Flag Number     Bad%               Flag Names\n",
    "---------------------------------------------------------------------------------\n",
    "26, 29       = 17.52% (minimum)   base_SdssShape_flag, base_SdssShape_flag_shift\n",
    "5            = 19.63% (2nd min)   deblend_deblendedAsPsf\n",
    "most of them = 17.65%\n",
    "56           = 17.66%\n",
    "67,72        = 17.67%\n",
    "63,66        = 17.68%\n",
    "0            = 20.28% (2nd max)    calib_detected\n",
    "85,86        = 20.48% (max)        base_Variance_flag,base_Variance_flag_emptyFootprint\n",
    "```\n",
    " "
   ]
  },
  {
   "cell_type": "markdown",
   "metadata": {},
   "source": [
    "# Imports"
   ]
  },
  {
   "cell_type": "code",
   "execution_count": 2,
   "metadata": {},
   "outputs": [],
   "source": [
    "import json, os,sys\n",
    "import numpy as np\n",
    "import pandas as pd\n",
    "import seaborn as sns\n",
    "sns.set(color_codes=True)\n",
    "\n",
    "pd.set_option('display.max_columns',200)\n",
    "\n",
    "import matplotlib.pyplot as plt\n",
    "%matplotlib inline"
   ]
  },
  {
   "cell_type": "markdown",
   "metadata": {},
   "source": [
    "# Read flag dictionary and column names"
   ]
  },
  {
   "cell_type": "code",
   "execution_count": 3,
   "metadata": {},
   "outputs": [
    {
     "data": {
      "text/plain": [
       "'calib_detected'"
      ]
     },
     "execution_count": 3,
     "metadata": {},
     "output_type": "execute_result"
    }
   ],
   "source": [
    "dict_flags = json.load( open('dict_flags.json'))\n",
    "dict_flags['0']"
   ]
  },
  {
   "cell_type": "code",
   "execution_count": 24,
   "metadata": {},
   "outputs": [
    {
     "name": "stdout",
     "output_type": "stream",
     "text": [
      "#       fN[0][0]       fN[1][0]       fN[2][0]       fN[3][0]       id[0][0]       id[1][0]       id[2][0]       id[3][0]           x[0]           x[1]     errx[0][0]     errx[0][1]     errx[1][0]     errx[1][1]     errx[2][0]     errx[2][1]     errx[3][0]     errx[3][1]        g[0][0]        g[0][1]        g[1][0]        g[1][1]        g[2][0]        g[2][1]        g[3][0]        g[3][1]    ellip[0][0]    ellip[1][0]    ellip[2][0]    ellip[3][0]     flux[0][0]     flux[1][0]     flux[2][0]     flux[3][0]   radius[0][0]   radius[1][0]   radius[2][0]   radius[3][0]          gm[0]          gm[1]          gc[0]          gc[1]\r\n",
      "               0              0              0              0           7439           7449           7225           7379      469.49428      3091.4055         0.1649         0.1191         0.1122         0.1652          0.166          0.119         0.1129         0.1656         0.8693        -0.5821        -0.8425         0.6476         0.8742         -0.583        -0.8725         0.6541      1.0461945      1.0626345      1.0507686        1.09046       5283.576      5059.5502      5279.9345      5064.7001      4.0014616      3.8601842       4.002095      3.8642191         0.0134        0.03275        0.00085        0.03555\r\n"
     ]
    }
   ],
   "source": [
    "!head -2 final/final_5T/final_text.txt"
   ]
  },
  {
   "cell_type": "code",
   "execution_count": 89,
   "metadata": {},
   "outputs": [],
   "source": [
    "flag_num = 5\n",
    "file_pathT = f'final/final_{flag_num}T/final_text.txt'\n",
    "df_names = pd.read_csv(file_pathT,comment='!',engine='python',sep=r'\\s\\s+',header=None,nrows=1)\n",
    "names=df_header.loc[0].to_numpy()[1:]"
   ]
  },
  {
   "cell_type": "markdown",
   "metadata": {},
   "source": [
    "# Plot the gmsq for flag=True and flag=False"
   ]
  },
  {
   "cell_type": "code",
   "execution_count": null,
   "metadata": {},
   "outputs": [],
   "source": [
    "names = ['fN[0][0]', 'fN[1][0]', 'fN[2][0]', 'fN[3][0]', 'id[0][0]',\n",
    "       'id[1][0]', 'id[2][0]', 'id[3][0]', 'x[0]', 'x[1]', 'errx[0][0]',\n",
    "       'errx[0][1]', 'errx[1][0]', 'errx[1][1]', 'errx[2][0]',\n",
    "       'errx[2][1]', 'errx[3][0]', 'errx[3][1]', 'g[0][0]', 'g[0][1]',\n",
    "       'g[1][0]', 'g[1][1]', 'g[2][0]', 'g[2][1]', 'g[3][0]', 'g[3][1]',\n",
    "       'ellip[0][0]', 'ellip[1][0]', 'ellip[2][0]', 'ellip[3][0]',\n",
    "       'flux[0][0]', 'flux[1][0]', 'flux[2][0]', 'flux[3][0]',\n",
    "       'radius[0][0]', 'radius[1][0]', 'radius[2][0]', 'radius[3][0]',\n",
    "       'gm[0]', 'gm[1]', 'gc[0]', 'gc[1]' ]\n",
    "\n",
    "\n",
    "\n",
    "def plot_gmsq_hist_TF(flag_num,names):\n",
    "    file_pathT = f'final/final_{flag_num}T/final_text.txt'\n",
    "    file_pathF = f'final/final_{flag_num}F/final_text.txt'\n",
    "\n",
    "    dfT = pd.read_csv(file_pathT,comment='#',engine='python',sep=r'\\s\\s+',header=None,names=names)\n",
    "    dfF = pd.read_csv(file_pathF,comment='#',engine='python',sep=r'\\s\\s+',header=None,names=names)\n",
    "\n",
    "\n",
    "\n",
    "    dfT['gmsq'] = dfT['gm[0]'] ** 2 + dfT['gm[1]']**2\n",
    "    dfF['gmsq'] = dfF['gm[0]'] ** 2 + dfF['gm[1]']**2\n",
    "\n",
    "    fig,ax = plt.subplots(figsize=(12,8))\n",
    "\n",
    "    sns.distplot(dfT['gmsq'], ax=ax,label='Flag = True')\n",
    "    sns.distplot(dfF['gmsq'], ax=ax,color='r',label='Flag = False',hist_kws={'alpha': 0.5})\n",
    "\n",
    "    plt.title(f'Flag {flag_num} = ' + dict_flags[str(flag_num)])\n",
    "    plt.legend()\n",
    "\n",
    "    # text\n",
    "    a,b = dfT.shape[0], dfT.query(\"0.5 < gmsq < 1.1\").shape[0]\n",
    "    flagT_total   = 'Flag True Total       =  ' + '{:,}'.format(a)\n",
    "    flagT_bad     = 'Flag True  Bad        = ' + '{:,}'.format(b)\n",
    "    flagT_percent = 'Flag True Bad Pct   =  ' + str(round(b/a*100,2)) + '%\\n'\n",
    "\n",
    "    a,b = dfF.shape[0], dfF.query(\"0.5 < gmsq < 1.1\").shape[0]\n",
    "    flagF_total   = 'Flag False Total      =  ' + '{:,}'.format(a)\n",
    "    flagF_bad     = 'Flag False Bad        =  ' + '{:,}'.format(b)\n",
    "    flagF_percent = 'Flag False Bad Pct  =  ' + str(round(b/a*100,2)) + '%'\n",
    "\n",
    "    txt = '\\n'.join([flagT_total, flagT_bad, flagT_percent,flagF_total,flagF_bad, flagF_percent])\n",
    "\n",
    "    ax.text(0.5,5,txt,fontsize=14,va='bottom')\n",
    "\n",
    "    plt.savefig(f'results/flag{flag_num}.png')\n",
    "    plt.close()\n",
    "    \n",
    "    \n",
    "flag_nums = [5,26,63,85]\n",
    "\n",
    "for flag_num in flag_nums:\n",
    "    plot_gmsq_hist_TF(flag_num,names)"
   ]
  },
  {
   "cell_type": "markdown",
   "metadata": {},
   "source": [
    "# Results"
   ]
  },
  {
   "cell_type": "code",
   "execution_count": 92,
   "metadata": {},
   "outputs": [
    {
     "name": "stdout",
     "output_type": "stream",
     "text": [
      "Writing Results.md\n"
     ]
    }
   ],
   "source": [
    "%%writefile Results.md\n",
    "![](results/flag5.png)\n",
    "![](results/flag26.png)\n",
    "![](results/flag63.png)\n",
    "![](results/flag85.png)"
   ]
  },
  {
   "cell_type": "code",
   "execution_count": null,
   "metadata": {},
   "outputs": [],
   "source": []
  }
 ],
 "metadata": {
  "kernelspec": {
   "display_name": "Python 3",
   "language": "python",
   "name": "python3"
  },
  "language_info": {
   "codemirror_mode": {
    "name": "ipython",
    "version": 3
   },
   "file_extension": ".py",
   "mimetype": "text/x-python",
   "name": "python",
   "nbconvert_exporter": "python",
   "pygments_lexer": "ipython3",
   "version": "3.6.0"
  },
  "toc": {
   "colors": {
    "hover_highlight": "#DAA520",
    "navigate_num": "#000000",
    "navigate_text": "#333333",
    "running_highlight": "#FF0000",
    "selected_highlight": "#FFD700",
    "sidebar_border": "#EEEEEE",
    "wrapper_background": "#FFFFFF"
   },
   "moveMenuLeft": true,
   "nav_menu": {
    "height": "45px",
    "width": "252px"
   },
   "navigate_menu": true,
   "number_sections": true,
   "sideBar": true,
   "threshold": 4,
   "toc_cell": true,
   "toc_section_display": "block",
   "toc_window_display": true,
   "widenNotebook": false
  }
 },
 "nbformat": 4,
 "nbformat_minor": 2
}
