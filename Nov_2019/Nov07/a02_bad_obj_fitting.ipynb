{
 "cells": [
  {
   "cell_type": "markdown",
   "metadata": {
    "toc": "true"
   },
   "source": [
    "# Table of Contents\n",
    " <p><div class=\"lev1 toc-item\"><a href=\"#Highest-and-Lowest-bad-objects-density\" data-toc-modified-id=\"Highest-and-Lowest-bad-objects-density-1\"><span class=\"toc-item-num\">1&nbsp;&nbsp;</span>Highest and Lowest bad objects density</a></div>"
   ]
  },
  {
   "cell_type": "markdown",
   "metadata": {},
   "source": [
    "# Highest and Lowest bad objects density\n",
    "\n",
    "There are 90 flags and for all cased I have used the filter calib psf candidate is \n",
    "False. Using this I get 17.6574% objects in the range 0.5 < gmsq < 1.1.\n",
    "\n",
    "For most of the flags I see this same number, but for some specific flags I got\n",
    "some max and in object density.\n",
    "\n",
    "\n",
    "```bash\n",
    "Flag Number     Bad%               Flag Names\n",
    "---------------------------------------------------------------------------------\n",
    "26, 29       = 17.52% (minimum)   base_SdssShape_flag, base_SdssShape_flag_shift\n",
    "5            = 19.63% (2nd min)   deblend_deblendedAsPsf\n",
    "most of them = 17.65%\n",
    "56           = 17.66%\n",
    "67,72        = 17.67%\n",
    "63,66        = 17.68%\n",
    "0            = 20.28% (2nd max)    calib_detected\n",
    "85,86        = 20.48% (max)        base_Variance_flag,base_Variance_flag_emptyFootprint\n",
    "```"
   ]
  },
  {
   "cell_type": "code",
   "execution_count": 13,
   "metadata": {},
   "outputs": [
    {
     "name": "stdout",
     "output_type": "stream",
     "text": [
      "{\"0\": \"calib_detected\"\n",
      " \"1\": \"calib_psfCandidate\"\n",
      " \"2\": \"calib_psfUsed\"\n",
      " \"3\": \"calib_psfReserved\"\n",
      " \"4\": \"flags_negative\"\n",
      " \"5\": \"deblend_deblendedAsPsf\"\n",
      " \"26\": \"base_SdssShape_flag\"\n",
      " \"29\": \"base_SdssShape_flag_shift\"\n",
      " \"85\": \"base_Variance_flag\"\n",
      " \"86\": \"base_Variance_flag_emptyFootprint\"\n"
     ]
    }
   ],
   "source": [
    "%%bash\n",
    "# When I looked the figures in Finder, I found\n",
    "# flag 26,29 and flag 85,86 are min and max\n",
    "# python starts from 0 but bash counting from 1\n",
    "# so, I need to add 1\n",
    "#\n",
    "cat dict_flags.json | cut -f 1 -d ','\n",
    "cat dict_flags.json | cut -f 2 -d ','\n",
    "cat dict_flags.json | cut -f 3 -d ','\n",
    "cat dict_flags.json | cut -f 4 -d ','\n",
    "cat dict_flags.json | cut -f 5 -d ','\n",
    "cat dict_flags.json | cut -f 6 -d ','\n",
    "cat dict_flags.json | cut -f 27 -d ','\n",
    "cat dict_flags.json | cut -f 30 -d ','\n",
    "cat dict_flags.json | cut -f 86 -d ','\n",
    "cat dict_flags.json | cut -f 87 -d ','"
   ]
  },
  {
   "cell_type": "markdown",
   "metadata": {},
   "source": [
    "**Flag 0 : calib_detected**\n",
    "![](results/flags/flag_0.png)\n",
    "\n",
    "**Flag 1 : calib_psfCandidate (I have used this for all cases)**\n",
    "![](results/flags/flag_1.png)\n",
    "\n",
    "**Flag 2 : calib_psfUsed**\n",
    "![](results/flags/flag_2.png)\n",
    "\n",
    "**Flag 3 : calib_psfReserved**\n",
    "![](results/flags/flag_3.png)\n",
    "\n",
    "**Flag 4 : flags_negative**\n",
    "![](results/flags/flag_4.png)\n",
    "\n",
    "**Flag 5 : deblend_deblendedAsPsf**\n",
    "![](results/flags/flag_5.png)\n",
    "\n",
    "\n",
    "\n",
    "\n",
    "**Flag 26 : base_SdssShape_flag**\n",
    "![](results/flags/flag_26.png)\n",
    "\n",
    "**Flag 29 : base_SdssShape_flag_shift**\n",
    "![](results/flags/flag_29.png)\n",
    "\n",
    "\n",
    "\n",
    "**Flag 85 : base_Variance_flag**\n",
    "![](results/flags/flag_85.png)\n",
    "\n",
    "**Flag 86 : base_Variance_flag_emptyFootprint**\n",
    "![](results/flags/flag_86.png)"
   ]
  },
  {
   "cell_type": "code",
   "execution_count": null,
   "metadata": {},
   "outputs": [],
   "source": []
  }
 ],
 "metadata": {
  "kernelspec": {
   "display_name": "Python 3",
   "language": "python",
   "name": "python3"
  },
  "language_info": {
   "codemirror_mode": {
    "name": "ipython",
    "version": 3
   },
   "file_extension": ".py",
   "mimetype": "text/x-python",
   "name": "python",
   "nbconvert_exporter": "python",
   "pygments_lexer": "ipython3",
   "version": "3.6.0"
  },
  "toc": {
   "colors": {
    "hover_highlight": "#DAA520",
    "navigate_num": "#000000",
    "navigate_text": "#333333",
    "running_highlight": "#FF0000",
    "selected_highlight": "#FFD700",
    "sidebar_border": "#EEEEEE",
    "wrapper_background": "#FFFFFF"
   },
   "moveMenuLeft": true,
   "nav_menu": {
    "height": "12px",
    "width": "252px"
   },
   "navigate_menu": true,
   "number_sections": true,
   "sideBar": true,
   "threshold": 4,
   "toc_cell": true,
   "toc_section_display": "block",
   "toc_window_display": true,
   "widenNotebook": false
  }
 },
 "nbformat": 4,
 "nbformat_minor": 2
}
